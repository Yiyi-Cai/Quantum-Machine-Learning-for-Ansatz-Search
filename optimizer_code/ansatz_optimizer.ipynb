{
 "cells": [
  {
   "cell_type": "markdown",
   "id": "cdd440f4-f290-4402-8289-80e5cb52f037",
   "metadata": {
    "tags": []
   },
   "source": [
    "### Setup"
   ]
  },
  {
   "cell_type": "code",
   "execution_count": 1,
   "id": "7b506f8a-f87c-4394-9c67-71cd826fa6af",
   "metadata": {},
   "outputs": [
    {
     "name": "stdout",
     "output_type": "stream",
     "text": [
      "setGPU: Setting GPU to: 1\n"
     ]
    }
   ],
   "source": [
    "import pandas as pd\n",
    "import matplotlib.pyplot as plt\n",
    "from pennylane import numpy as np\n",
    "from pennylane.templates import BasicEntanglerLayers,StronglyEntanglingLayers,RandomLayers\n",
    "from pennylane import broadcast\n",
    "import h5py\n",
    "import pennylane as qml\n",
    "import deap\n",
    "import random\n",
    "import time\n",
    "import multiprocessing as mp\n",
    "import itertools\n",
    "from itertools import combinations\n",
    "import contextlib\n",
    "import setGPU"
   ]
  },
  {
   "cell_type": "code",
   "execution_count": 2,
   "id": "eb9dfc4e-dd9c-41b8-9721-e798976dc152",
   "metadata": {},
   "outputs": [],
   "source": [
    "n_qubits = 4\n",
    "dev_wires = [np.array(idx, requires_grad=True) for idx in range(n_qubits)]\n",
    "dev = qml.device('qulacs.simulator', wires=dev_wires, gpu=True, shots=10000)\n",
    "num_bins = 16\n",
    "\n",
    "### keys represent gates, values represent number of parameters required\n",
    "two_qubits_gates_with_params = {qml.CNOT:0}\n",
    "one_qubit_gates_with_params = {qml.RX:1, qml.RY:1, qml.RZ:1}\n",
    "two_qubits_gates = list(two_qubits_gates_with_params.keys())\n",
    "one_qubit_gates = list(one_qubit_gates_with_params.keys())\n"
   ]
  },
  {
   "cell_type": "code",
   "execution_count": 3,
   "id": "b7d74ac5-e4ef-46f5-8956-afee7c8b380a",
   "metadata": {},
   "outputs": [],
   "source": [
    "def get_num_params(tensor, n_qubits, num_one_gates, num_two_gates):\n",
    "    num_params = 0\n",
    "    total_gates = num_one_gates + num_two_gates\n",
    "    for moment in tensor:\n",
    "        for q_idx in range(n_qubits):\n",
    "            curr_qubit = moment[q_idx]\n",
    "            for gate_idx in range(0, total_gates):\n",
    "                if not curr_qubit[gate_idx]:\n",
    "                    if gate_idx <= num_one_gates:\n",
    "                        gate = one_qubit_gates[gate_idx]\n",
    "                        curr_num_params = one_qubit_gates_with_params[gate]\n",
    "                        num_params += curr_num_params\n",
    "                    else:\n",
    "                        gate = two_qubits_gates[gate_idx - num_one_gates]\n",
    "                        target_idx = curr_qubit[gate_idx] - 1\n",
    "                        curr_num_params = two_qubits_gates_with_params[gate]\n",
    "                        num_params += curr_num_params\n",
    "                    break\n",
    "    return num_params"
   ]
  },
  {
   "cell_type": "code",
   "execution_count": 4,
   "id": "fc61b12c-f9d1-4e97-8718-194cd2033af1",
   "metadata": {},
   "outputs": [],
   "source": [
    "def generate_random_tensor(n_qubits, num_one_gates, num_two_gates, max_moments):\n",
    "    tensor = []\n",
    "    total_gates = num_one_gates + num_two_gates * 2\n",
    "    num_moments = random.randint(1,max_moments)\n",
    "    for m in range(num_moments):\n",
    "        moment = []\n",
    "        for q in range(n_qubits):\n",
    "            curr_qubit = [0] * total_gates\n",
    "            moment.append(curr_qubit)\n",
    "        qubit_options = list(range(n_qubits))\n",
    "        gates_options = list(range(total_gates))\n",
    "        while not len(qubit_options) == 0:\n",
    "            rand_gates_idx = random.choice(gates_options)\n",
    "            if rand_gates_idx < num_one_gates:\n",
    "                rand_qubit_idx = random.choice(qubit_options)\n",
    "                moment[rand_qubit_idx][rand_gates_idx] = 1\n",
    "                qubit_options.remove(rand_qubit_idx)\n",
    "            else:\n",
    "                if len(qubit_options) >= 2:\n",
    "                    rand_control, rand_target = random.sample(qubit_options, k = 2)\n",
    "                    qubits_used = [rand_control, rand_target]\n",
    "                    # qubits_used = list(range(min(rand_target, rand_control), max(rand_target, rand_control)))\n",
    "                    if all(x in qubit_options for x in qubits_used):\n",
    "                        if (rand_gates_idx - num_one_gates) % 2 == 0:\n",
    "                            moment[rand_control][rand_gates_idx] = rand_target + 1\n",
    "                            moment[rand_target][rand_gates_idx + 1] = rand_control + 1\n",
    "                        else:\n",
    "                            moment[rand_control][rand_gates_idx -1] = rand_target + 1\n",
    "                            moment[rand_target][rand_gates_idx] = rand_control + 1\n",
    "                        qubit_options = [ q for q in qubit_options if not q in qubits_used]\n",
    "                    else:\n",
    "                        qubit_options.append(rand_control)\n",
    "        tensor.append(moment)\n",
    "    return tensor\n"
   ]
  },
  {
   "cell_type": "code",
   "execution_count": 5,
   "id": "6b9320d0-dc0f-4473-a85e-7fe534c34768",
   "metadata": {},
   "outputs": [],
   "source": [
    "@qml.qnode(dev)\n",
    "def convert_tensor_to_circuit(tensor, params, n_qubits, num_one_gates, num_two_gates, prob=True):\n",
    "    total_gates = num_one_gates + num_two_gates*2\n",
    "    params_idx = 0\n",
    "    for moment in tensor:\n",
    "        for q_idx in range(n_qubits):\n",
    "            curr_qubit = moment[q_idx]\n",
    "            for gate_idx in range(total_gates):\n",
    "                if not curr_qubit[gate_idx] == 0:\n",
    "                    if gate_idx < num_one_gates:\n",
    "                        gate = one_qubit_gates[gate_idx]\n",
    "                        curr_num_params = one_qubit_gates_with_params[gate]\n",
    "                        if curr_num_params == 0:\n",
    "                            gate(wires=dev_wires[q_idx])\n",
    "                        else:\n",
    "                            broadcast(unitary=gate, pattern=\"single\", wires=dev_wires[q_idx], parameters=params[params_idx:params_idx+curr_num_params])\n",
    "                            params_idx += curr_num_params\n",
    "                    else:\n",
    "                        if (gate_idx - num_one_gates) % 2 == 0:\n",
    "                            gate = two_qubits_gates[gate_idx - num_one_gates]\n",
    "                            target_idx = curr_qubit[gate_idx] -1\n",
    "                            curr_num_params = two_qubits_gates_with_params[gate]\n",
    "                            if curr_num_params == 0:\n",
    "                                gate(wires=[dev_wires[q_idx], dev_wires[target_idx]])\n",
    "                            else:\n",
    "                                broadcast(unitary=gate, pattern=\"double\", wires=[dev_wires[q_idx], dev_wires[target_idx]], parameters=params[params_idx:params_idx+curr_num_params])\n",
    "                                params_idx += curr_num_params\n",
    "                    break\n",
    "    \n",
    "    if prob:\n",
    "        return qml.probs(wires=dev_wires[0:n_qubits])\n",
    "    else:\n",
    "        return qml.sample(wires=dev_wires[0:n_qubits])"
   ]
  },
  {
   "cell_type": "code",
   "execution_count": 6,
   "id": "78749581-5ef3-495b-b288-632abb368800",
   "metadata": {},
   "outputs": [
    {
     "data": {
      "image/png": "[encoded data removed]",
      "text/plain": [
       "<Figure size 288x360 with 1 Axes>"
      ]
     },
     "metadata": {},
     "output_type": "display_data"
    }
   ],
   "source": [
    "tensor = [[[0, 1, 0, 0, 0], \n",
    "           [1, 0, 0, 0, 0], \n",
    "           [0, 0, 1, 0, 0], \n",
    "           [1, 0, 0, 0, 0],\n",
    "           [0, 0, 0, 0, 0], \n",
    "           [1, 0, 0, 0, 0], \n",
    "           [0, 1, 0, 0, 0], \n",
    "           [0, 1, 0, 0, 0]]]\n",
    "\n",
    "num_params = get_num_params(tensor, n_qubits, 3, 1)\n",
    "init_params = (2.*np.pi)*np.random.random(num_params)\n",
    "\n",
    "\n",
    "convert_tensor_to_circuit(tensor, init_params, n_qubits, 3, 1)\n",
    "fig, ax = qml.draw_mpl(convert_tensor_to_circuit)(tensor, init_params, n_qubits, 3, 1)\n",
    "fig.savefig('tensor_rep.png', bbox_inches='tight')\n",
    "fig.show()"
   ]
  },
  {
   "cell_type": "markdown",
   "id": "81b40210-6fe5-4001-8beb-ff023d80c2a3",
   "metadata": {},
   "source": [
    "### Classes"
   ]
  },
  {
   "cell_type": "code",
   "execution_count": 7,
   "id": "144b05ae-632b-46bc-8d38-72674b29a7b0",
   "metadata": {},
   "outputs": [],
   "source": [
    "### Loss Functions\n",
    "\n",
    "def qml_entropy(pk,qk):\n",
    "    '''\n",
    "    do not use scipy implementatin of entropy, will use different numpy versions\n",
    "    this uses the pennylane wrapped version of numpy\n",
    "    '''\n",
    "    qk = np.asarray(qk)\n",
    "    ck = np.broadcast(pk, qk)\n",
    "\n",
    "    vec = [u*np.log(u/v) if (u>0 and v>0) else 0 if (u == 0 and v>=0) else np.inf for (u,v) in ck]\n",
    "    S = np.sum(vec)\n",
    "    return S\n",
    "\n",
    "def hybrid_jensen_shannon_loss(pk,qk):\n",
    "    ''' this is a temporary function while we debug the layerwise training'''\n",
    "    p = target\n",
    "    q = hybrid_pdf(params,fixed_params=fixed_params)\n",
    "    M = np.multiply(q+p,0.5)\n",
    "\n",
    "    return 0.5*qml_entropy(p,M)+0.5*qml_entropy(q,M)\n",
    "\n",
    "def jensen_shannon_loss(p,q):\n",
    "    M = np.multiply(q+p,0.5)\n",
    "    # print(\"p (target) value:\" + str(p))\n",
    "    # print(\"q value: \" + str(q))\n",
    "    return 0.5*qml_entropy(p,M)+0.5*qml_entropy(q,M)\n",
    "\n",
    "\n",
    "### Stop conditions\n",
    "\n",
    "def scheduled_stepsize(iteration):\n",
    "    min_step= 0.000001\n",
    "    max_step = 0.01\n",
    "    ss = min_step+(max_step - min_step)*np.abs(np.cos(np.pi/10.*iteration))\n",
    "    print('step size set to {}'.format(ss))\n",
    "    return ss\n",
    "\n",
    "def scheduled_opt(self,iteration, opt_method):\n",
    "    return opt_method(stepsize=scheduled_stepsize(iteration))\n",
    "\n",
    "\n",
    "def early_stopping(loss_values ,  patience=1, draw=False):\n",
    "    #check whether the loss is plateauing\n",
    "    if len(loss_values) < 2*patience:\n",
    "        #not enough values to think about\n",
    "        return False\n",
    "\n",
    "    ref_value = np.min(loss_values[-2*patience:-patience])\n",
    "    last_value = np.min( loss_values[-patience:])\n",
    "    return (last_value >= ref_value)\n",
    "\n",
    "\n",
    "def adaptLR(losses, opt):\n",
    "    last_N = 10\n",
    "    factor = 2\n",
    "    if len(losses)<last_N: return False\n",
    "    # if len(losses)-adaptLR.lastchange< last_N: return False\n",
    "    max_consecutive_downards = np.max([ sum( 1 for _ in group ) for key, group in itertools.groupby( np.diff( losses[-last_N:]) <0  ) if key ])\n",
    "    roughness = 1.-max_consecutive_downards / float(last_N-1)\n",
    "    #print(f\"Loss roughness: {roughness}\")\n",
    "    if roughness > 0.5:\n",
    "        # adaptLR.lastchange = len(losses)\n",
    "        old_LR = np.asarray(opt.stepsize)\n",
    "        opt.stepsize = old_LR/ factor\n",
    "        print(f\"Reducing LR :{old_LR} \\u2192 {np.asarray(opt.stepsize)}\")\n",
    "        plt.figure(figsize=(10,3))\n",
    "        plt.plot(losses[-last_N:])\n",
    "        ymin,ymax = plt.ylim()\n",
    "        offset = 0.1* (ymax-ymin)\n",
    "        plt.xlabel('last iterations')\n",
    "        plt.ylabel('training loss')\n",
    "        plt.show()\n",
    "        return True"
   ]
  },
  {
   "cell_type": "code",
   "execution_count": 22,
   "id": "9f9f8403-8d12-4f25-8ad2-4e2f1c5a4a29",
   "metadata": {
    "tags": []
   },
   "outputs": [],
   "source": [
    "class IndividualCircuit:\n",
    "    \n",
    "    def __init__(self, tensor, target, num_one_gates, num_two_gates, n_qubits, n_steps=None, scheduled=False):\n",
    "        self.tensor = tensor\n",
    "        self.params = (2.*np.pi)*np.random.random(get_num_params(tensor, n_qubits, num_one_gates, num_two_gates))\n",
    "        self.num_one_gates = num_one_gates\n",
    "        self.num_two_gates = num_two_gates\n",
    "        self.fitness = 0.0\n",
    "        self.losses = []\n",
    "        self.fitnesses = []\n",
    "        self.n_qubits = n_qubits\n",
    "        self.best_loss_idx = 0\n",
    "        self.target = target\n",
    "        self.LR = []\n",
    "        \n",
    "    def train(self, circuit, order=None, n_steps=None, scheduled=False):\n",
    "        if not order == None:\n",
    "            time.sleep(0.1*order)\n",
    "        with contextlib.redirect_stdout(None):\n",
    "            exec('import setGPU')\n",
    "        trained_params = self.params.copy()\n",
    "        start = time.mktime(time.gmtime())\n",
    "        stop = start\n",
    "        i_steps = 0\n",
    "        init_stepsize = 0.01\n",
    "        opt = qml.AdamOptimizer(stepsize=init_stepsize)\n",
    "        # self.LR.append(init_stepsize)\n",
    "        best_params = trained_params\n",
    "        while True:\n",
    "            # update the circuit parameters in each iteration\n",
    "            prelap = time.mktime(time.gmtime())\n",
    "            iteration = len(self.losses)\n",
    "            if scheduled: \n",
    "                opt=scheduled_opt(len(self.losses))\n",
    "            trained_params, L = opt.step_and_cost(lambda v: self.loss_1d(circuit,v), trained_params)\n",
    "            lap = start = time.mktime(time.gmtime())\n",
    "            step_time = lap - prelap\n",
    "            stop+=step_time\n",
    "            self.losses.append( L )\n",
    "            \n",
    "            # if adaptLR(self.losses, opt):\n",
    "            #     self.LR.append(opt.stepsize)\n",
    "                \n",
    "            \n",
    "            # update the stop conditions\n",
    "            early_stop  = early_stopping( self.losses, patience=20)\n",
    "            i_steps+=1\n",
    "            i_stop = (n_steps!=None) and (i_steps>=n_steps)\n",
    "            stop = early_stop or i_stop\n",
    "            \n",
    "            # keep track of the min loss and corresponding params\n",
    "            curr_min_idx = np.where(self.losses == np.min(self.losses))[0][-1]\n",
    "            self.best_loss_idx = curr_min_idx\n",
    "            if curr_min_idx == iteration - 1: \n",
    "                self.best_loss_idx = curr_min_idx\n",
    "                self.params = trained_params\n",
    "                \n",
    "            if stop: break\n",
    "        \n",
    "        self.fitnesses = [1 - x for x in self.losses]\n",
    "        \n",
    "        \n",
    "    def adaptLR(self, opt):\n",
    "        last_N = 30\n",
    "        factor = 1.5\n",
    "        if len(self.losses)<last_N: return False\n",
    "        if len(self.losses)-self.last_LR_change< last_N: return False\n",
    "        max_consecutive_downards = np.max([ sum( 1 for _ in group ) for key, group in itertools.groupby( np.diff( self.losses[-last_N:]) <0  ) if key ])\n",
    "        roughness = 1.-max_consecutive_downards / float(last_N-1)\n",
    "        print(f\"Loss roughness: {roughness}\")\n",
    "        if roughness > 0.5:\n",
    "            self.last_LR_change = len(losses)\n",
    "            old_LR = np.asarray(opt.stepsize)\n",
    "            opt.stepsize = old_LR/ factor\n",
    "            print(f\"Reducing LR :{old_LR} \\u2192 {np.asarray(opt.stepsize)}\")\n",
    "            plt.figure(figsize=(10,3))\n",
    "            plt.plot(losses[-last_N:])\n",
    "            ymin,ymax = plt.ylim()\n",
    "            offset = 0.1* (ymax-ymin)\n",
    "            plt.xlabel('last iterations')\n",
    "            plt.ylabel('training loss')\n",
    "            plt.show()\n",
    "            return True\n",
    "\n",
    "\n",
    "    def train_fitness(self, order=None, n_steps=None, scheduled=False):\n",
    "        self.train(convert_tensor_to_circuit,order, n_steps, scheduled)\n",
    "        self.fitness = self.fitnesses[self.best_loss_idx]\n",
    "    \n",
    "    def get_fitness(self):\n",
    "        return self.fitness\n",
    "    \n",
    "    \n",
    "    def draw(self, title=\"\"):\n",
    "        fig, ax = qml.draw_mpl(convert_tensor_to_circuit)(self.tensor, self.params, self.n_qubits, self.num_one_gates, self.num_two_gates)\n",
    "        ax.set_title(title)\n",
    "        fig.show()\n",
    "    \n",
    "    def plot_fitness(self, title=\"fitnesses\"):\n",
    "        plt.title(title)\n",
    "        plt.plot(self.fitnesses)\n",
    "        plt.xlabel('iterations')\n",
    "        plt.ylabel('fitness')\n",
    "        plt.scatter(self.best_loss_idx, self.fitnesses[self.best_loss_idx],c='r')\n",
    "        plt.show()\n",
    "    \n",
    "    def plot_loss(self, title=\"losses\"):\n",
    "        plt.title(title)\n",
    "        plt.plot(self.losses)\n",
    "        plt.xlabel('iterations')\n",
    "        plt.ylabel('training loss')\n",
    "        plt.scatter(self.best_loss_idx, self.losses[self.best_loss_idx],c='r')\n",
    "        plt.show()\n",
    "    \n",
    "    def update_params(self):\n",
    "        self.params = (2.*np.pi)*np.random.random(get_num_params(self.tensor, self.n_qubits, self.num_one_gates, self.num_two_gates))\n",
    "        \n",
    "    def get_tensor(self):\n",
    "        return self.tensor        \n",
    "        \n",
    "    def loss_1d(self, circuit, params):\n",
    "        return jensen_shannon_loss(circuit(self.tensor, params, self.n_qubits, self.num_one_gates, self.num_two_gates), self.target)\n",
    "    \n",
    "    def loss_2d(self, circuit, params):\n",
    "        return jensen_shannon_loss(circuit(self.tensor, params, self.n_qubits, self.num_one_gates, self.num_two_gates).reshape(16,16),self.target.reshape(16,16))"
   ]
  },
  {
   "cell_type": "markdown",
   "id": "583aef15-096f-426e-a5ce-866d8ac69edd",
   "metadata": {
    "jp-MarkdownHeadingCollapsed": true,
    "tags": []
   },
   "source": [
    "### Data Reading "
   ]
  },
  {
   "cell_type": "code",
   "execution_count": 9,
   "id": "cf65f890-f950-4eca-a0ed-bf71fbd090bd",
   "metadata": {
    "tags": []
   },
   "outputs": [
    {
     "data": {
      "image/png": "[encoded data removed]",
      "text/plain": [
       "<Figure size 432x288 with 1 Axes>"
      ]
     },
     "metadata": {
      "needs_background": "light"
     },
     "output_type": "display_data"
    }
   ],
   "source": [
    "jet_filename = '../jetImage_0_30p_0_10000.h5'\n",
    "f1 = h5py.File(jet_filename,'r')\n",
    "jets = np.array(f1[\"jets\"])\n",
    "j_pt = jets[:, 1]\n",
    "j_mass = jets[:, 3]\n",
    "num_bins = 16\n",
    "min_pt = 900\n",
    "max_pt = 1100\n",
    "distribution_pt, bins_pt_edge, __ = plt.hist(j_pt, range=[min_pt, max_pt], bins=num_bins)\n",
    "probability_pt = distribution_pt / np.sum(distribution_pt)\n",
    "bins_pt = np.asarray([(bins_pt_edge[i] + bins_pt_edge[i+1])/2. for i in range(len(bins_pt_edge)-1)])"
   ]
  },
  {
   "cell_type": "code",
   "execution_count": 10,
   "id": "cac0e840-5465-46e7-9336-7a1e6dc512ea",
   "metadata": {},
   "outputs": [
    {
     "data": {
      "image/png": "[encoded data removed]",
      "text/plain": [
       "<Figure size 432x288 with 1 Axes>"
      ]
     },
     "metadata": {
      "needs_background": "light"
     },
     "output_type": "display_data"
    }
   ],
   "source": [
    "j_eta = jets[:, 2]\n",
    "min_eta = -2\n",
    "max_eta = 2\n",
    "distribution_eta, bins_eta_edge, __ =plt.hist(j_eta, range=[min_eta, max_eta], bins=num_bins)\n",
    "probability_eta = distribution_eta / np.sum(distribution_eta)\n",
    "bins_eta = np.asarray([(bins_eta_edge[i] + bins_eta_edge[i+1])/2. for i in range(len(bins_eta_edge)-1)])"
   ]
  },
  {
   "cell_type": "code",
   "execution_count": 11,
   "id": "ce09cf6c-e6db-407d-86b6-18b9cd5699b3",
   "metadata": {},
   "outputs": [
    {
     "data": {
      "image/png": "[encoded data removed]",
      "text/plain": [
       "<Figure size 432x288 with 1 Axes>"
      ]
     },
     "metadata": {
      "needs_background": "light"
     },
     "output_type": "display_data"
    }
   ],
   "source": [
    "min_mass = 25\n",
    "max_mass = 175\n",
    "distribution_mass, bins_mass_edge, __ =plt.hist(j_mass, range=[min_mass, max_mass],bins=num_bins)\n",
    "probability_mass = distribution_mass / np.sum(distribution_mass)\n",
    "bins_mass = np.asarray([(bins_mass_edge[i] + bins_mass_edge[i+1])/2. for i in range(len(bins_mass_edge)-1)])"
   ]
  },
  {
   "cell_type": "code",
   "execution_count": 12,
   "id": "18fee3cf-feec-493f-888f-b7c6057bb1b0",
   "metadata": {},
   "outputs": [
    {
     "data": {
      "image/png": "[encoded data removed]",
      "text/plain": [
       "<Figure size 432x288 with 1 Axes>"
      ]
     },
     "metadata": {
      "needs_background": "light"
     },
     "output_type": "display_data"
    }
   ],
   "source": [
    "# plt.figure(figsize=(12,5))\n",
    "# plt.subplot(121)\n",
    "# target_2d, bins_pt_edge, bins_eta_edge, _ = plt.hist2d(j_pt, j_eta, bins=[16,16], range=[[min_pt, max_pt],[min_eta, max_eta]])\n",
    "# plt.suptitle(\"Target\")\n",
    "# plt.xlabel('Jet pT [GeV]')\n",
    "# plt.ylabel('Jet eta')\n",
    "# bins_pt = np.asarray([(bins_pt_edge[i] + bins_pt_edge[i+1])/2. for i in range(len(bins_pt_edge)-1)])\n",
    "# bins_eta = np.asarray([(bins_eta_edge[i] + bins_eta_edge[i+1])/2. for i in range(len(bins_eta_edge)-1)])\n",
    "# bins_pt_eta=list(itertools.product(bins_pt,bins_eta))\n",
    "# plt.subplot(122)\n",
    "target_2d, bins_pt_edge, bins_mass_edge, _ = plt.hist2d(j_pt, j_mass, bins=[16,16], range=[[min_pt, max_pt],[min_mass, max_mass]])\n",
    "plt.xlabel('Jet pT [GeV]')\n",
    "plt.ylabel('Jet mass [GeV]')\n",
    "plt.show()\n",
    "bins_pt = np.asarray([(bins_pt_edge[i] + bins_pt_edge[i+1])/2. for i in range(len(bins_pt_edge)-1)])\n",
    "bins_mass = np.asarray([(bins_mass_edge[i] + bins_mass_edge[i+1])/2. for i in range(len(bins_mass_edge)-1)])\n",
    "bins_pt_mass=list(itertools.product(bins_pt,bins_mass))\n",
    "plt.savefig('../target_data/target_2D.png', bbox_inches='tight')\n",
    "plt.close(\"all\")\n",
    "# plt.show()"
   ]
  },
  {
   "cell_type": "code",
   "execution_count": 13,
   "id": "84d50b99-6675-4a0c-aed8-5cfd2d853aea",
   "metadata": {},
   "outputs": [
    {
     "data": {
      "text/plain": [
       "array([[  2.,   4.,   6.,   9.,   6.,  13.,   9.,   9.,   6.,   6.,   4.,\n",
       "          4.,   5.,   1.,   4.,   6.],\n",
       "       [ 10.,   3.,   3.,   4.,   6.,   8.,  18.,   4.,   6.,   5.,   4.,\n",
       "          9.,   4.,  10.,  10.,   6.],\n",
       "       [  6.,   4.,   2.,   8.,   4.,  10.,  14.,  13.,  12.,   5.,   7.,\n",
       "         10.,   2.,   8.,  10.,   9.],\n",
       "       [  4.,   6.,   4.,   5.,  14.,  14.,  12.,  20.,  11.,   4.,  14.,\n",
       "         14.,   8.,  16.,  18.,  15.],\n",
       "       [ 13.,  14.,  15.,   8.,  15.,  16.,  29.,  11.,   6.,   5.,  16.,\n",
       "         14.,  11.,   9.,  21.,  25.],\n",
       "       [ 15.,  17.,  13.,  13.,  16.,  44.,  26.,  21.,   8.,  13.,   9.,\n",
       "         17.,  14.,  20.,  24.,  42.],\n",
       "       [ 24.,  33.,  33.,  15.,  27.,  48.,  56.,  28.,  20.,  14.,  14.,\n",
       "         12.,  17.,  13.,  17.,  45.],\n",
       "       [ 45.,  49.,  36.,  24.,  38., 105., 123.,  91.,  23.,  14.,  11.,\n",
       "         14.,  26.,  17.,  22.,  79.],\n",
       "       [ 68.,  62.,  55.,  44.,  38., 224., 260., 233.,  21.,  11.,  11.,\n",
       "         11.,  10.,  10.,  21.,  60.],\n",
       "       [ 43.,  72.,  49.,  39.,  36., 218., 267., 301.,  23.,  14.,   6.,\n",
       "         12.,  12.,  13.,  15.,  43.],\n",
       "       [ 42.,  38.,  40.,  34.,  34., 136., 224., 234.,  27.,   7.,  11.,\n",
       "         15.,   7.,  11.,  12.,  47.],\n",
       "       [ 19.,  32.,  33.,  23.,  23.,  87., 137., 152.,  23.,  11.,   5.,\n",
       "         10.,   5.,   2.,  11.,  25.],\n",
       "       [ 19.,  25.,  19.,  16.,  21.,  68., 109.,  86.,  13.,   5.,   4.,\n",
       "          8.,   9.,   4.,  10.,  24.],\n",
       "       [ 12.,  23.,  22.,  22.,  14.,  45.,  74.,  86.,  10.,   3.,   9.,\n",
       "         10.,   4.,   3.,   4.,  12.],\n",
       "       [  7.,  12.,  19.,  17.,  10.,  32.,  50.,  51.,   8.,   9.,   2.,\n",
       "          3.,   5.,   3.,   1.,  15.],\n",
       "       [  7.,   7.,  17.,  11.,  11.,  31.,  41.,  35.,  11.,   5.,   3.,\n",
       "          7.,   2.,   4.,   3.,   9.]])"
      ]
     },
     "execution_count": 13,
     "metadata": {},
     "output_type": "execute_result"
    }
   ],
   "source": [
    "target_2d"
   ]
  },
  {
   "cell_type": "code",
   "execution_count": 14,
   "id": "e040879c-79f4-4537-957a-8c74eda6be26",
   "metadata": {},
   "outputs": [],
   "source": [
    "target_2d = target_2d / np.sum(target_2d)\n",
    "target_1d = np.ravel(target_2d)"
   ]
  },
  {
   "cell_type": "code",
   "execution_count": 15,
   "id": "95e92456-6aee-4922-9fdd-c05884b9b616",
   "metadata": {},
   "outputs": [],
   "source": [
    "max_moments = 2\n",
    "num_one_gates = 3\n",
    "num_two_gates = 1"
   ]
  },
  {
   "cell_type": "code",
   "execution_count": 16,
   "id": "d5f1cd40-d6bc-4d35-8886-76a1fca4225f",
   "metadata": {},
   "outputs": [],
   "source": [
    "rand_tensor = generate_random_tensor(n_qubits, num_one_gates, num_two_gates, max_moments)\n",
    "\n",
    "tensor = [[[0, 0, 1, 0, 0], [0, 0, 0, 4, 0], [0, 0, 0, 0, 0], [0, 0, 0, 0, 2]],\n",
    " [[0, 0, 0, 0, 0], [0, 0, 0, 0, 0], [0, 0, 1, 0, 0], [0, 1, 0, 0, 0]],\n",
    " [[0, 1, 0, 0, 0], [0, 1, 0, 0, 0], [1, 0, 0, 0, 0], [1, 0, 0, 0, 0]],\n",
    " [[0, 0, 0, 0, 0], [0, 0, 0, 3, 0], [0, 0, 0, 0, 2], [0, 0, 1, 0, 0]]]\n",
    "\n",
    "\n",
    "\n",
    "circuit = IndividualCircuit(tensor, probability_pt, num_one_gates, num_two_gates,n_qubits)"
   ]
  },
  {
   "cell_type": "code",
   "execution_count": 37,
   "id": "af59118c-4dec-489b-89af-7ec37130eee6",
   "metadata": {
    "tags": []
   },
   "outputs": [],
   "source": [
    "circuit.train_fitness()"
   ]
  },
  {
   "cell_type": "code",
   "execution_count": 22,
   "id": "6426ca4d-9900-4d68-af40-045fcfd38c3f",
   "metadata": {},
   "outputs": [
    {
     "data": {
      "text/plain": [
       "tensor(0.96137019, requires_grad=True)"
      ]
     },
     "execution_count": 22,
     "metadata": {},
     "output_type": "execute_result"
    }
   ],
   "source": [
    "circuit.get_fitness()"
   ]
  },
  {
   "cell_type": "code",
   "execution_count": 23,
   "id": "8b42dc21-bcd0-4d04-ac0c-f68146f3f4ec",
   "metadata": {},
   "outputs": [
    {
     "data": {
      "image/png": "[encoded data removed]",
      "text/plain": [
       "<Figure size 432x288 with 1 Axes>"
      ]
     },
     "metadata": {
      "needs_background": "light"
     },
     "output_type": "display_data"
    }
   ],
   "source": [
    "circuit.plot_fitness()"
   ]
  },
  {
   "cell_type": "code",
   "execution_count": 83,
   "id": "775fbd2d-247b-4f46-bfb6-47283be240a5",
   "metadata": {},
   "outputs": [
    {
     "data": {
      "image/png": "[encoded data removed]",
      "text/plain": [
       "<Figure size 504x360 with 1 Axes>"
      ]
     },
     "metadata": {},
     "output_type": "display_data"
    }
   ],
   "source": [
    "circuit.draw()"
   ]
  },
  {
   "cell_type": "code",
   "execution_count": 94,
   "id": "6ddbe60d-49fa-463d-8a3e-1c756031ffc1",
   "metadata": {},
   "outputs": [
    {
     "data": {
      "text/plain": [
       "[[[0, 0, 1, 0, 0],\n",
       "  [1, 0, 0, 0, 0],\n",
       "  [0, 0, 1, 0, 0],\n",
       "  [0, 0, 1, 0, 0],\n",
       "  [0, 0, 1, 0, 0],\n",
       "  [0, 1, 0, 0, 0],\n",
       "  [1, 0, 0, 0, 0],\n",
       "  [0, 0, 1, 0, 0]],\n",
       " [[0, 1, 0, 0, 0],\n",
       "  [0, 0, 1, 0, 0],\n",
       "  [0, 1, 0, 0, 0],\n",
       "  [0, 0, 0, 5, 0],\n",
       "  [0, 0, 0, 0, 4],\n",
       "  [0, 1, 0, 0, 0],\n",
       "  [0, 1, 0, 0, 0],\n",
       "  [0, 1, 0, 0, 0]]]"
      ]
     },
     "execution_count": 94,
     "metadata": {},
     "output_type": "execute_result"
    }
   ],
   "source": [
    "circuit.tensor"
   ]
  },
  {
   "cell_type": "code",
   "execution_count": 89,
   "id": "cda4d18d-3bf3-4a35-a0f3-c243b40e31ba",
   "metadata": {},
   "outputs": [],
   "source": [
    "circuit2 = IndividualCircuit(circuit.tensor, probability_pt, num_one_gates, num_two_gates,n_qubits , 2)"
   ]
  },
  {
   "cell_type": "code",
   "execution_count": 90,
   "id": "8b58fd29-d76f-4c92-b059-330253a3d10f",
   "metadata": {},
   "outputs": [
    {
     "data": {
      "text/plain": [
       "[[[0, 0, 1, 0, 0], [0, 0, 0, 4, 0], [0, 0, 0, 0, 0], [0, 0, 0, 0, 2]],\n",
       " [[0, 0, 0, 0, 0], [0, 0, 0, 0, 0], [0, 0, 1, 0, 0], [0, 1, 0, 0, 0]],\n",
       " [[0, 1, 0, 0, 0], [0, 1, 0, 0, 0], [1, 0, 0, 0, 0], [1, 0, 0, 0, 0]],\n",
       " [[0, 0, 0, 0, 0], [0, 0, 0, 0, 0], [1, 0, 0, 0, 0], [0, 0, 0, 0, 0]]]"
      ]
     },
     "execution_count": 90,
     "metadata": {},
     "output_type": "execute_result"
    }
   ],
   "source": [
    "circuit2.tensor"
   ]
  },
  {
   "cell_type": "code",
   "execution_count": 91,
   "id": "3f0d4376-6530-4a3d-9ef9-6e49c89acddd",
   "metadata": {
    "tags": []
   },
   "outputs": [],
   "source": [
    "circuit2.train_fitness()"
   ]
  },
  {
   "cell_type": "code",
   "execution_count": 92,
   "id": "3ccac054-257f-4eac-acf9-253c2b3fbb87",
   "metadata": {},
   "outputs": [
    {
     "data": {
      "text/plain": [
       "tensor(0.96205803, requires_grad=True)"
      ]
     },
     "execution_count": 92,
     "metadata": {},
     "output_type": "execute_result"
    }
   ],
   "source": [
    "circuit2.get_fitness()"
   ]
  },
  {
   "cell_type": "code",
   "execution_count": 88,
   "id": "2822c977-96ee-4096-82ca-faad2a32cf65",
   "metadata": {},
   "outputs": [
    {
     "data": {
      "image/png": "[encoded data removed]",
      "text/plain": [
       "<Figure size 432x288 with 1 Axes>"
      ]
     },
     "metadata": {
      "needs_background": "light"
     },
     "output_type": "display_data"
    }
   ],
   "source": [
    "circuit2.plot_fitness()"
   ]
  },
  {
   "cell_type": "markdown",
   "id": "cd6294ba-1546-42b4-abb7-068b35447ebf",
   "metadata": {
    "jp-MarkdownHeadingCollapsed": true,
    "tags": []
   },
   "source": [
    "### Processing "
   ]
  },
  {
   "cell_type": "code",
   "execution_count": 12,
   "id": "09b87604-fe2c-4f75-a3e9-984cb6497f15",
   "metadata": {},
   "outputs": [
    {
     "ename": "NameError",
     "evalue": "name 'tensor' is not defined",
     "output_type": "error",
     "traceback": [
      "\u001b[0;31m---------------------------------------------------------------------------\u001b[0m",
      "\u001b[0;31mNameError\u001b[0m                                 Traceback (most recent call last)",
      "Input \u001b[0;32mIn [12]\u001b[0m, in \u001b[0;36m<cell line: 1>\u001b[0;34m()\u001b[0m\n\u001b[0;32m----> 1\u001b[0m circuit \u001b[38;5;241m=\u001b[39m IndividualCircuit(\u001b[43mtensor\u001b[49m, probability_pt, \u001b[38;5;241m3\u001b[39m, \u001b[38;5;241m1\u001b[39m, \u001b[38;5;241m4\u001b[39m, \u001b[38;5;241m2\u001b[39m)\n",
      "\u001b[0;31mNameError\u001b[0m: name 'tensor' is not defined"
     ]
    }
   ],
   "source": [
    "circuit = IndividualCircuit(tensor, probability_pt, 3, 1, 4, 1)"
   ]
  },
  {
   "cell_type": "code",
   "execution_count": 55,
   "id": "967b74dd-7e4d-495c-8cff-ede5c855626c",
   "metadata": {
    "tags": []
   },
   "outputs": [],
   "source": [
    "circuit.train_fitness()"
   ]
  },
  {
   "cell_type": "code",
   "execution_count": 39,
   "id": "29594bb7-5a32-4549-8f0b-8d25caf30359",
   "metadata": {},
   "outputs": [
    {
     "data": {
      "text/plain": [
       "tensor(0.93969634, requires_grad=True)"
      ]
     },
     "execution_count": 39,
     "metadata": {},
     "output_type": "execute_result"
    }
   ],
   "source": [
    "circuit.get_fitness()"
   ]
  },
  {
   "cell_type": "code",
   "execution_count": 40,
   "id": "bddce158-0169-43af-b572-299ad934390f",
   "metadata": {},
   "outputs": [
    {
     "data": {
      "image/png": "[encoded data removed]",
      "text/plain": [
       "<Figure size 432x288 with 1 Axes>"
      ]
     },
     "metadata": {
      "needs_background": "light"
     },
     "output_type": "display_data"
    }
   ],
   "source": [
    "circuit.plot_fitness()"
   ]
  },
  {
   "cell_type": "code",
   "execution_count": 56,
   "id": "767d60aa-f880-4d55-99f3-b9f8ef785f69",
   "metadata": {},
   "outputs": [
    {
     "data": {
      "image/png": "[encoded data removed]",
      "text/plain": [
       "<Figure size 864x360 with 1 Axes>"
      ]
     },
     "metadata": {
      "needs_background": "light"
     },
     "output_type": "display_data"
    },
    {
     "data": {
      "image/png": "[encoded data removed]",
      "text/plain": [
       "<Figure size 504x360 with 1 Axes>"
      ]
     },
     "metadata": {},
     "output_type": "display_data"
    }
   ],
   "source": [
    "circuit.plot_loss_and_draw(file_name = \"../optimizer_data/test.png\")"
   ]
  },
  {
   "cell_type": "markdown",
   "id": "3efbd7b1-4899-4a7e-a636-6e1da3928d1d",
   "metadata": {},
   "source": [
    "### Classes"
   ]
  },
  {
   "cell_type": "code",
   "execution_count": 23,
   "id": "784d0810-a10e-44dc-b3d0-960ca6ccfd1e",
   "metadata": {},
   "outputs": [],
   "source": [
    "class Population:\n",
    "    def __init__(self):\n",
    "        self.pop_size = 0\n",
    "        self.individuals = []\n",
    "        self.fittest = None\n",
    "        self.least_fittest = None\n",
    "    \n",
    "    def fill_population(self, pop_size, target, num_one_gates, num_two_gates, max_moments, n_qubits):\n",
    "        for i in range(pop_size):\n",
    "            unique = True\n",
    "            random_tensor = generate_random_tensor(n_qubits, num_one_gates, num_two_gates, max_moments)\n",
    "            for j in range(self.pop_size):\n",
    "                if random_tensor == self.individuals[j].tensor:\n",
    "                    unique = False\n",
    "                    break\n",
    "            if unique:\n",
    "                curr_circuit = IndividualCircuit(random_tensor, target, num_one_gates, num_two_gates, n_qubits)\n",
    "                self.pop_size += 1\n",
    "                self.individuals.append(curr_circuit)\n",
    "            else:\n",
    "                i -= 1\n",
    "        self.update()\n",
    "    \n",
    "    \n",
    "    def add_circuit(self, circuit, increase_size=True):\n",
    "        self.individuals.append(circuit)\n",
    "        if increase_size:\n",
    "            self.pop_size += 1\n",
    "        self.update()\n",
    "    \n",
    "    def add_circuits(self, circuits, increase_size=True):\n",
    "        self.individuals.extend(circuits.individuals)\n",
    "        if increase_size:\n",
    "            self.pop_size += len(circuits)\n",
    "        self.update()\n",
    "    \n",
    "    def get_fittest_fitness(self):\n",
    "        self.update()\n",
    "        return self.fittest.get_fitness()\n",
    "    \n",
    "    def remove_circuit(self, circuit):\n",
    "        self.individuals.remove(circuit)\n",
    "        self.pop_size -= 1\n",
    "        self.update()\n",
    "        \n",
    "        \n",
    "    def update(self):\n",
    "        self.individuals.sort(key=lambda circuit:circuit.fitness, reverse=True)\n",
    "        self.fittest = self.individuals[0]\n",
    "        self.least_fittest = self.individuals[-1]\n",
    "        self.pop_size = len(self.individuals)\n",
    "        \n",
    "    \n",
    "    def train_all(self):\n",
    "        start_time = time.time()\n",
    "        procs = []\n",
    "        for i in range(len(self.individuals)):\n",
    "            circuit = self.individuals[i]\n",
    "            proc = mp.Process(target=circuit.train_fitness(order=i))\n",
    "            procs.append(proc)\n",
    "            proc.start()\n",
    "        \n",
    "        for proc in procs:\n",
    "            proc.join()\n",
    "        \n",
    "        end_time = time.time()\n",
    "        exec_time = end_time - start_time\n",
    "        print(\"Execution time multiprocessing {}\".format(exec_time))\n",
    "        self.update()\n",
    "        \n",
    "    def train_linear(self):\n",
    "        start_time = time.time()\n",
    "        for circuit in self.individuals:\n",
    "            circuit.train_fitness()\n",
    "        end_time = time.time()\n",
    "        exec_time = end_time - start_time\n",
    "        print(\"Execution time linear {}\".format(exec_time))\n",
    "        \n",
    "    \n",
    "    \n",
    "    def get_fittests(self, num_fittests):\n",
    "        self.fittest = self.individuals[0]\n",
    "        return self.individuals[:num_fittests]     \n",
    "        "
   ]
  },
  {
   "cell_type": "code",
   "execution_count": 24,
   "id": "ffbd8026-4925-4b5c-ab90-634b39a3c8d6",
   "metadata": {
    "scrolled": true,
    "tags": []
   },
   "outputs": [],
   "source": [
    "class CircuitOptimizer:\n",
    "    \n",
    "    def __init__(self, pop_size, target, num_one_gates, num_two_gates, max_moments, n_qubits):\n",
    "        self.population = Population()\n",
    "        self.population.fill_population(pop_size, target, num_one_gates, num_two_gates, max_moments, n_qubits)\n",
    "        self.generation = 0\n",
    "        self.pop_size = pop_size\n",
    "        self.num_one_gates = num_one_gates\n",
    "        self.num_two_gates = num_two_gates\n",
    "        self.parents = []\n",
    "        parents_size = int(pop_size * 0.25)\n",
    "        if parents_size < 2:\n",
    "            self.parents_size = 2\n",
    "        else:\n",
    "            self.parents_size = parents_size\n",
    "        self.offsprings = Population()\n",
    "        self.target = target\n",
    "        self.n_qubits = n_qubits\n",
    "        self.population.train_all()\n",
    "        self.print_info()\n",
    "    \n",
    "    def draw_all_circuits(self):\n",
    "        self.print_info()\n",
    "        for i in range(len(self.population.individuals)):\n",
    "            title = \"circuit \" + str(i+1) + \" generation \" + str(self.generation) + \" fitness: \" + str(self.population.individuals[i].get_fitness())\n",
    "            self.population.individuals[i].draw(title)\n",
    "    \n",
    "    \n",
    "    def draw_offsprings(self):\n",
    "        for i in range(len(self.offsprings.individuals)):\n",
    "            title = \"offspring \" + str(i+1) + \" generation \" + str(self.generation) + \" fitness: \" + str(self.offsprings.individuals[i].get_fitness())\n",
    "            self.offsprings.individuals[i].draw(title)\n",
    "    \n",
    "            \n",
    "    def train_offsprings(self):\n",
    "        self.offsprings.train_all()\n",
    "            \n",
    "    def add_offsprings(self):\n",
    "        self.population.add_circuits(self.offsprings, increase_size=False)\n",
    "        self.population.individuals = self.population.individuals[:-len(self.offsprings.individuals)]\n",
    "        self.offsprings = Population()\n",
    "        \n",
    "    \n",
    "    def print_info(self):\n",
    "        self.population.update()\n",
    "        print(\"Generation: {} Fittest: {}\".format(self.generation, self.population.fittest.get_fitness()))\n",
    "        \n",
    "    \n",
    "    # choose the two most fit\n",
    "    def selection(self):\n",
    "        self.parents = self.population.get_fittests(self.parents_size)\n",
    "            \n",
    "        \n",
    "    \n",
    "    # choose a random moment as the crossover point, then swap the rest of the moments\n",
    "    def crossover(self):\n",
    "        for i in range(0, len(self.parents)-1, 2):\n",
    "            parent1 = self.parents[i]\n",
    "            parent2 = self.parents[i+1]\n",
    "            self.crossover_pair(parent1, parent2)\n",
    "        if len(self.parents) % 2 == 1:\n",
    "            parent1 = self.parents[-1]\n",
    "            parent2 = random.choice(self.parents[:len(self.parents)-1])\n",
    "            self.crossover_pair(parent1, parent2)\n",
    "        \n",
    "            \n",
    "    \n",
    "    def crossover_pair(self, parent1, parent2):\n",
    "        if len(parent1.tensor) == 1:\n",
    "            cross_pt1 = random.randint(1, len(parent1.tensor))\n",
    "            tensor1 = parent1.get_tensor()\n",
    "            if len(parent2.tensor) == 1:\n",
    "                cross_pt2 = random.randint(1, len(parent2.tensor))\n",
    "                tensor2 = parent2.get_tensor()\n",
    "            else:\n",
    "                cross_pt2 = random.randint(1, len(parent2.tensor)-1)\n",
    "                tensor2 = parent2.get_tensor()[:cross_pt2]\n",
    "                tensor1 += parent2.get_tensor()[:cross_pt2]\n",
    "        elif len(parent2.tensor) == 1:\n",
    "            cross_pt2 = random.randint(1, len(parent2.tensor))\n",
    "            tensor2 = parent2.get_tensor()\n",
    "            cross_pt1 = random.randint(1, len(parent1.tensor)-1)\n",
    "            tensor1 = parent1.get_tensor()[:cross_pt1]\n",
    "            tensor2 += parent1.get_tensor()[:cross_pt1]\n",
    "        else:\n",
    "            cross_pt1 = random.randint(1, len(parent1.tensor)-1)\n",
    "            cross_pt2 = random.randint(1, len(parent2.tensor)-1)\n",
    "            tensor1 = parent1.get_tensor()[:cross_pt1] + parent2.get_tensor()[cross_pt2:]\n",
    "            tensor2 = parent2.get_tensor()[:cross_pt2] + parent1.get_tensor()[cross_pt1:]\n",
    "            \n",
    "        \n",
    "        \n",
    "        \n",
    "        params1 = (2.*np.pi)*np.random.random(get_num_params(tensor1, self.n_qubits, self.num_one_gates, self.num_two_gates))\n",
    "        params2 = (2.*np.pi)*np.random.random(get_num_params(tensor2, self.n_qubits, self.num_one_gates, self.num_two_gates))\n",
    "        \n",
    "        self.offsprings.add_circuit(IndividualCircuit(tensor1, self.target, self.num_one_gates, self.num_two_gates, self.n_qubits))\n",
    "        self.offsprings.add_circuit(IndividualCircuit(tensor2, self.target, self.num_one_gates, self.num_two_gates, self.n_qubits))\n",
    "    \n",
    "        \n",
    "    \n",
    "    \n",
    "    \n",
    "    \n",
    "    # choose a random point to switch on/off the gate; for two qubit gates, the target gate is changed to a random value\n",
    "    def mutate(self):\n",
    "        for i in range(len(self.offsprings.individuals)):\n",
    "            \n",
    "            curr_offspring = self.offsprings.individuals[i]\n",
    "            mutate_gate = random.randint(0, self.num_one_gates-1)\n",
    "            mutate_moment = random.randint(0, len(curr_offspring.tensor)-1)\n",
    "            qubits_options = []\n",
    "            curr_moment = curr_offspring.tensor[mutate_moment]\n",
    "\n",
    "            ## mutate one qubit gate\n",
    "            if random.randint(0, 1):\n",
    "                \n",
    "                for q in range(len(curr_moment)):\n",
    "                    curr_qubit = curr_moment[q]\n",
    "                    if not any(curr_qubit[self.num_one_gates:]):\n",
    "                        qubits_options.append(q)\n",
    "                \n",
    "                \n",
    "                if len(qubits_options) == 0:\n",
    "                    i -= 1\n",
    "                    continue\n",
    "                \n",
    "                \n",
    "                mutate_qubit = random.choice(qubits_options)\n",
    "                qubits_options.remove(mutate_qubit)  \n",
    "                \n",
    "                \n",
    "                q = curr_offspring.tensor[mutate_moment][mutate_qubit]\n",
    "                q[mutate_gate] = curr_offspring.tensor[mutate_moment][mutate_qubit][mutate_gate] ^ 1\n",
    "                for i in range(self.num_one_gates + self.num_two_gates):\n",
    "                    if q[i] and not i == mutate_gate:\n",
    "                        q[i] = 0\n",
    "                                \n",
    "                \n",
    "                \n",
    "                \n",
    "            # mutate two qubit gate\n",
    "            else:\n",
    "                two_gates_idx = self.num_one_gates + random.randrange(0, self.num_two_gates*2, 2)\n",
    "                \n",
    "                for q in range(len(curr_moment)):\n",
    "                    curr_qubit = curr_moment[q]                        \n",
    "                    if not any(curr_qubit[:two_gates_idx]):\n",
    "                        if two_gates_idx + 2 < len(curr_qubit):\n",
    "                            if not any(curr_qubit[two_gates_idx+2:]):\n",
    "                                qubits_options.append(q)\n",
    "                        else:\n",
    "                            qubits_options.append(q)\n",
    "                \n",
    "                if len(qubits_options) <= 1:\n",
    "                    i -= 1\n",
    "                    continue\n",
    "                \n",
    "                mutate_qubit = random.choice(qubits_options)\n",
    "                qubits_options.remove(mutate_qubit)  \n",
    "                \n",
    "                no_gates_qubits = []\n",
    "                for qubit in qubits_options:\n",
    "                    if not any(curr_moment[qubit]):\n",
    "                        no_gates_qubits.append(qubit)\n",
    "                \n",
    "                if not curr_moment[mutate_qubit][two_gates_idx] == 0:\n",
    "                    choice = random.randint(0,2)\n",
    "                    if choice == 0:\n",
    "                        self.swap(qubits_options, curr_moment, mutate_qubit, two_gates_idx)\n",
    "                    elif choice == 1:\n",
    "                        self.turn_off(qubits_options, curr_moment, mutate_qubit, two_gates_idx) \n",
    "                    else:\n",
    "                        if len(no_gates_qubits) == 0:\n",
    "                            i -= 1\n",
    "                            continue\n",
    "                        self.mutate_one(no_gates_qubits, curr_moment, mutate_qubit, two_gates_idx)\n",
    "                        \n",
    "                elif not curr_moment[mutate_qubit][two_gates_idx+1] == 0:\n",
    "                    choice = random.randint(0,2)\n",
    "                    if choice == 0:\n",
    "                        self.swap(qubits_options, curr_moment, mutate_qubit, two_gates_idx+1, target=True)\n",
    "                    elif choice == 1:\n",
    "                        self.turn_off(qubits_options, curr_moment, mutate_qubit, two_gates_idx+1, target=True)\n",
    "                    else:\n",
    "                        if len(no_gates_qubits) == 0:\n",
    "                            i -= 1\n",
    "                            continue\n",
    "                        self.mutate_one(no_gates_qubits, curr_moment, mutate_qubit, two_gates_idx+1, target=True)\n",
    "                    \n",
    "                else:\n",
    "                    if len(no_gates_qubits) == 0:\n",
    "                        i -= 1\n",
    "                        continue\n",
    "                    else:\n",
    "                        new_qubit = random.choice(no_gates_qubits)\n",
    "                        curr_moment[mutate_qubit][two_gates_idx] = new_qubit + 1\n",
    "                        curr_moment[new_qubit][two_gates_idx+1] = mutate_qubit + 1\n",
    "            for j in range(len(self.population.individuals)):\n",
    "                if self.population.individuals[j].tensor == curr_offspring.tensor:\n",
    "                    # self.offsprings.remove_circuit(curr_offspring)\n",
    "                    i -= 1\n",
    "                    # identical_circuits += 1\n",
    "            curr_offspring.update_params()\n",
    "            \n",
    "                    \n",
    "                    \n",
    "                    \n",
    "    def plot_all(self):\n",
    "        for circuit in self.population.individuals:\n",
    "            circuit.plot_fitness()\n",
    "            \n",
    "    \n",
    "    def plot_offsprings(self):\n",
    "        for circuit in self.offsprings.individuals:\n",
    "            circuit.plot_fitness()\n",
    "            \n",
    "                    \n",
    "    def swap(self, qubits_options, curr_moment, mutate_qubit, two_gates_idx, target=False):\n",
    "        if target:\n",
    "            new_target = curr_moment[mutate_qubit][two_gates_idx] -1\n",
    "            new_control = mutate_qubit\n",
    "            curr_moment[mutate_qubit][two_gates_idx-1] = new_target + 1\n",
    "            curr_moment[new_target][two_gates_idx] = new_control + 1\n",
    "            curr_moment[mutate_qubit][two_gates_idx] = 0\n",
    "            curr_moment[new_target][two_gates_idx - 1] = 0\n",
    "        else:\n",
    "            new_control = curr_moment[mutate_qubit][two_gates_idx] - 1\n",
    "            new_target = mutate_qubit\n",
    "            curr_moment[mutate_qubit][two_gates_idx+1] = new_control + 1\n",
    "            curr_moment[new_control][two_gates_idx] = new_target + 1\n",
    "            curr_moment[mutate_qubit][two_gates_idx] = 0\n",
    "            curr_moment[new_control][two_gates_idx+1] = 0\n",
    "    \n",
    "    def turn_off(self, qubits_options, curr_moment, mutate_qubit, two_gates_idx, target=False):\n",
    "        if target:\n",
    "            curr_control = curr_moment[mutate_qubit][two_gates_idx] -1\n",
    "            curr_moment[curr_control][two_gates_idx-1] = 0\n",
    "            curr_moment[mutate_qubit][two_gates_idx] = 0\n",
    "        else:\n",
    "            curr_target = curr_moment[mutate_qubit][two_gates_idx] - 1\n",
    "            curr_moment[curr_target][two_gates_idx+1] = 0\n",
    "            curr_moment[mutate_qubit][two_gates_idx] = 0\n",
    "    \n",
    "    def mutate_one(self, qubits_options, curr_moment, mutate_qubit, two_gates_idx, target=False):\n",
    "        new_qubit = random.choice(qubits_options)\n",
    "        target_q = curr_moment[mutate_qubit][two_gates_idx]\n",
    "        \n",
    "        curr_moment[new_qubit][two_gates_idx] = target_q\n",
    "        curr_moment[mutate_qubit][two_gates_idx] = 0\n",
    "        if target:\n",
    "            curr_moment[target_q-1][two_gates_idx-1] = new_qubit+1\n",
    "        else:\n",
    "            curr_moment[target_q-1][two_gates_idx+1] = new_qubit+1\n",
    "        qubits_options.remove(new_qubit)\n",
    "        "
   ]
  },
  {
   "cell_type": "code",
   "execution_count": 27,
   "id": "3de62771-b6d7-4330-94be-0877abc1f5c8",
   "metadata": {},
   "outputs": [],
   "source": [
    "max_moments = 4\n",
    "num_one_gates = 3\n",
    "num_two_gates = 1"
   ]
  },
  {
   "cell_type": "code",
   "execution_count": 28,
   "id": "0d8be936-37c3-4a5e-a5de-5369e482dc61",
   "metadata": {},
   "outputs": [
    {
     "name": "stdout",
     "output_type": "stream",
     "text": [
      "Execution time multiprocessing 1.4384777545928955\n",
      "Generation: 0 Fittest: 0.826351901176552\n"
     ]
    }
   ],
   "source": [
    "pop_size = 40\n",
    "opt = CircuitOptimizer(pop_size, probability_pt, num_one_gates, num_two_gates, max_moments, n_qubits)"
   ]
  },
  {
   "cell_type": "code",
   "execution_count": 37,
   "id": "60a4fb38-c145-4582-85af-d65cbe760374",
   "metadata": {
    "tags": []
   },
   "outputs": [
    {
     "name": "stdout",
     "output_type": "stream",
     "text": [
      "Execution time multiprocessing 77.24534249305725\n",
      "Generation: 0 Fittest: 0.9619616381816662\n",
      "Execution time multiprocessing 33.49325442314148\n",
      "Generation: 1 Fittest: 0.9619616381816662\n",
      "Execution time multiprocessing 49.981457233428955\n",
      "Generation: 2 Fittest: 0.9619616381816662\n",
      "Execution time multiprocessing 11.385610580444336\n",
      "Generation: 3 Fittest: 0.9619616381816662\n",
      "Execution time multiprocessing 28.20086097717285\n",
      "Generation: 4 Fittest: 0.9619616381816662\n",
      "Execution time multiprocessing 46.765740633010864\n",
      "Generation: 5 Fittest: 0.9619616381816662\n"
     ]
    }
   ],
   "source": [
    "pop_size = 20\n",
    "opt1 = CircuitOptimizer(pop_size, probability_pt, num_one_gates, num_two_gates, max_moments, n_qubits)\n",
    "prior_fittest = opt1.population.fittest\n",
    "prior_fitness = opt1.population.fittest.get_fitness()\n",
    "overall_max_fit = curr_max_fit\n",
    "overall_max_fitness = curr_max_fitness\n",
    "\n",
    "for i in range(5):\n",
    "    opt1.generation += 1\n",
    "    opt1.selection()\n",
    "    opt1.crossover()\n",
    "    \n",
    "    for i in range(4):\n",
    "        if random.random() < 0.7:\n",
    "            opt1.mutate()\n",
    "            \n",
    "    opt1.train_offsprings()\n",
    "    opt1.print_info()\n",
    "\n",
    "    opt1.add_offsprings()\n",
    "    \n",
    "    curr_max_fit = opt1.population.fittest\n",
    "    curr_max_fitness = opt1.population.fittest.get_fitness()\n",
    "    if curr_max_fitness == prior_fitness and not curr_max_fit.tensor == prior_fittest.tensor:\n",
    "        break\n",
    "    else:\n",
    "        prior_fittest = curr_max_fit\n",
    "        prior_fitness = curr_max_fitness \n",
    "        "
   ]
  },
  {
   "cell_type": "code",
   "execution_count": 38,
   "id": "519253fd-cdb0-4835-8bae-e237539e7c05",
   "metadata": {
    "collapsed": true,
    "jupyter": {
     "outputs_hidden": true
    },
    "tags": []
   },
   "outputs": [
    {
     "data": {
      "image/png": "[encoded data removed]",
      "text/plain": [
       "<Figure size 432x360 with 1 Axes>"
      ]
     },
     "metadata": {},
     "output_type": "display_data"
    }
   ],
   "source": [
    "prior_fittest.draw()"
   ]
  },
  {
   "cell_type": "code",
   "execution_count": 39,
   "id": "6b15a2b1-8569-4b76-a5d5-f296fb4fdae7",
   "metadata": {
    "collapsed": true,
    "jupyter": {
     "outputs_hidden": true
    },
    "tags": []
   },
   "outputs": [
    {
     "data": {
      "image/png": "[encoded data removed]",
      "text/plain": [
       "<Figure size 432x360 with 1 Axes>"
      ]
     },
     "metadata": {},
     "output_type": "display_data"
    }
   ],
   "source": [
    "curr_max_fit.draw()"
   ]
  },
  {
   "cell_type": "code",
   "execution_count": null,
   "id": "3192e4db-2b26-43d6-9cd7-917e520979b2",
   "metadata": {},
   "outputs": [],
   "source": []
  },
  {
   "cell_type": "code",
   "execution_count": 47,
   "id": "a104d16a-b1d3-49ed-8627-9b1527deeaa3",
   "metadata": {},
   "outputs": [
    {
     "name": "stderr",
     "output_type": "stream",
     "text": [
      "\n",
      "KeyboardInterrupt\n",
      "\n"
     ]
    }
   ],
   "source": [
    "pop_size = 20\n",
    "opt1 = CircuitOptimizer(pop_size, probability_pt, num_one_gates, num_two_gates, max_moments, n_qubits)\n",
    "curr_max_fitness = opt1.population.fittest.get_fitness()\n",
    "overall_max_fitness = curr_max_fitness\n",
    "patience = 5\n",
    "\n",
    "unchanged_num_gens = 0\n",
    "while unchanged_num_gens <= patience:\n",
    "    opt1.generation += 1\n",
    "    opt1.selection()\n",
    "    opt1.crossover()\n",
    "    \n",
    "    for i in range(4):\n",
    "        if random.random() < 0.7:\n",
    "            opt1.mutate()\n",
    "            \n",
    "    opt1.train_offsprings()\n",
    "    opt1.draw_offsprings()\n",
    "    opt1.print_info()\n",
    "\n",
    "    opt1.add_offsprings()\n",
    "    \n",
    "    curr_max_fitness = opt1.population.fittest.get_fitness()\n",
    "    if curr_max_fitness > overall_max_fitness:\n",
    "        overall_max_fitness = curr_max_fitness\n",
    "        unchanged_num_gens = 0\n",
    "    else:\n",
    "        unchanged_num_gens +=1"
   ]
  },
  {
   "cell_type": "code",
   "execution_count": null,
   "id": "cdbd660f-a5c2-4b34-a86d-15d2b1a628a5",
   "metadata": {},
   "outputs": [],
   "source": [
    "for i in range(len(opt1.offsprings.individuals)):\n",
    "    curr_offspring = opt1.offsprings.individuals[i]\n",
    "    print(curr_offspring.tensor)"
   ]
  },
  {
   "cell_type": "code",
   "execution_count": 49,
   "id": "ca7eed4a-3a3f-4623-9322-aa0acfb2f32c",
   "metadata": {},
   "outputs": [],
   "source": [
    "import setGPU"
   ]
  },
  {
   "cell_type": "code",
   "execution_count": null,
   "id": "c5ca1fc0-a840-42be-9880-757f93acdc46",
   "metadata": {},
   "outputs": [],
   "source": []
  }
 ],
 "metadata": {
  "kernelspec": {
   "display_name": "Python 3 (ipykernel)",
   "language": "python",
   "name": "python3"
  },
  "language_info": {
   "codemirror_mode": {
    "name": "ipython",
    "version": 3
   },
   "file_extension": ".py",
   "mimetype": "text/x-python",
   "name": "python",
   "nbconvert_exporter": "python",
   "pygments_lexer": "ipython3",
   "version": "3.8.8"
  }
 },
 "nbformat": 4,
 "nbformat_minor": 5
}
