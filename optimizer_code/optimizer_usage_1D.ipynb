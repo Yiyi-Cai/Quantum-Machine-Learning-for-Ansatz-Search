{
 "cells": [
  {
   "cell_type": "markdown",
   "id": "f354cb3f-535e-4e53-9242-852acdd48937",
   "metadata": {
    "tags": []
   },
   "source": [
    "### Imports"
   ]
  },
  {
   "cell_type": "code",
   "execution_count": 1,
   "id": "335432ee-975e-4a2b-8c61-09836938767c",
   "metadata": {},
   "outputs": [],
   "source": [
    "from ansatz_optimizer_1D import *\n",
    "import os"
   ]
  },
  {
   "cell_type": "code",
   "execution_count": 2,
   "id": "34bfec7c-f529-4b89-8080-b80708f3ae92",
   "metadata": {},
   "outputs": [],
   "source": [
    "import pandas as pd\n",
    "%matplotlib inline\n",
    "import matplotlib\n",
    "# matplotlib.use('Agg')\n",
    "import matplotlib.pyplot as plt\n",
    "from pennylane import numpy as np\n",
    "import h5py\n",
    "import pennylane as qml\n",
    "import random\n",
    "import time\n",
    "import csv"
   ]
  },
  {
   "cell_type": "code",
   "execution_count": 3,
   "id": "11ccf65e-0600-4653-a200-6f4ad4e47d24",
   "metadata": {},
   "outputs": [
    {
     "name": "stdout",
     "output_type": "stream",
     "text": [
      "setGPU: Setting GPU to: 1\n"
     ]
    }
   ],
   "source": [
    "import setGPU\n",
    "import itertools"
   ]
  },
  {
   "cell_type": "markdown",
   "id": "9c04e5e7-8b7d-4983-845d-cf89f08409ab",
   "metadata": {
    "jp-MarkdownHeadingCollapsed": true,
    "tags": []
   },
   "source": [
    "### Gathering 1D Data"
   ]
  },
  {
   "cell_type": "code",
   "execution_count": 32,
   "id": "a7e861dc-c27f-4bfd-837b-903021c504f2",
   "metadata": {},
   "outputs": [],
   "source": [
    "name = '../optimizer_data/1D_run2/fitnesses_1d.csv'\n",
    "values = pd.read_csv(name)"
   ]
  },
  {
   "cell_type": "code",
   "execution_count": 33,
   "id": "ea0866bc-d04c-46fd-aa9a-dcfa9cf3cd78",
   "metadata": {},
   "outputs": [],
   "source": [
    "values = values.transpose()"
   ]
  },
  {
   "cell_type": "code",
   "execution_count": 34,
   "id": "7ebf55bf-cea8-44c9-ad03-1cc1c8b075e7",
   "metadata": {
    "collapsed": true,
    "jupyter": {
     "outputs_hidden": true
    },
    "tags": []
   },
   "outputs": [
    {
     "data": {
      "text/html": [
       "<div>\n",
       "<style scoped>\n",
       "    .dataframe tbody tr th:only-of-type {\n",
       "        vertical-align: middle;\n",
       "    }\n",
       "\n",
       "    .dataframe tbody tr th {\n",
       "        vertical-align: top;\n",
       "    }\n",
       "\n",
       "    .dataframe thead th {\n",
       "        text-align: right;\n",
       "    }\n",
       "</style>\n",
       "<table border=\"1\" class=\"dataframe\">\n",
       "  <thead>\n",
       "    <tr style=\"text-align: right;\">\n",
       "      <th></th>\n",
       "      <th>0</th>\n",
       "      <th>1</th>\n",
       "      <th>2</th>\n",
       "      <th>3</th>\n",
       "      <th>4</th>\n",
       "      <th>5</th>\n",
       "      <th>6</th>\n",
       "      <th>7</th>\n",
       "      <th>8</th>\n",
       "      <th>9</th>\n",
       "      <th>...</th>\n",
       "      <th>11</th>\n",
       "      <th>12</th>\n",
       "      <th>13</th>\n",
       "      <th>14</th>\n",
       "      <th>15</th>\n",
       "      <th>16</th>\n",
       "      <th>17</th>\n",
       "      <th>18</th>\n",
       "      <th>19</th>\n",
       "      <th>20</th>\n",
       "    </tr>\n",
       "  </thead>\n",
       "  <tbody>\n",
       "    <tr>\n",
       "      <th>circuit 1</th>\n",
       "      <td>0.963592</td>\n",
       "      <td>0.963592</td>\n",
       "      <td>0.991164</td>\n",
       "      <td>0.991164</td>\n",
       "      <td>0.991164</td>\n",
       "      <td>0.991164</td>\n",
       "      <td>0.991164</td>\n",
       "      <td>0.991164</td>\n",
       "      <td>0.991164</td>\n",
       "      <td>0.991164</td>\n",
       "      <td>...</td>\n",
       "      <td>0.991164</td>\n",
       "      <td>0.991164</td>\n",
       "      <td>0.991164</td>\n",
       "      <td>0.991164</td>\n",
       "      <td>0.991164</td>\n",
       "      <td>0.991164</td>\n",
       "      <td>0.991164</td>\n",
       "      <td>0.991164</td>\n",
       "      <td>0.991164</td>\n",
       "      <td>0.991164</td>\n",
       "    </tr>\n",
       "    <tr>\n",
       "      <th>circuit 2</th>\n",
       "      <td>0.961806</td>\n",
       "      <td>0.962505</td>\n",
       "      <td>0.989317</td>\n",
       "      <td>0.990122</td>\n",
       "      <td>0.990277</td>\n",
       "      <td>0.990277</td>\n",
       "      <td>0.990277</td>\n",
       "      <td>0.990277</td>\n",
       "      <td>0.990277</td>\n",
       "      <td>0.990277</td>\n",
       "      <td>...</td>\n",
       "      <td>0.990277</td>\n",
       "      <td>0.990277</td>\n",
       "      <td>0.990277</td>\n",
       "      <td>0.990277</td>\n",
       "      <td>0.990277</td>\n",
       "      <td>0.990277</td>\n",
       "      <td>0.990277</td>\n",
       "      <td>0.990277</td>\n",
       "      <td>0.990277</td>\n",
       "      <td>0.990277</td>\n",
       "    </tr>\n",
       "    <tr>\n",
       "      <th>circuit 3</th>\n",
       "      <td>0.946238</td>\n",
       "      <td>0.961806</td>\n",
       "      <td>0.989182</td>\n",
       "      <td>0.990027</td>\n",
       "      <td>0.990122</td>\n",
       "      <td>0.990122</td>\n",
       "      <td>0.990122</td>\n",
       "      <td>0.990122</td>\n",
       "      <td>0.990122</td>\n",
       "      <td>0.990122</td>\n",
       "      <td>...</td>\n",
       "      <td>0.990122</td>\n",
       "      <td>0.990122</td>\n",
       "      <td>0.990122</td>\n",
       "      <td>0.990122</td>\n",
       "      <td>0.990122</td>\n",
       "      <td>0.990122</td>\n",
       "      <td>0.990122</td>\n",
       "      <td>0.990122</td>\n",
       "      <td>0.990122</td>\n",
       "      <td>0.990122</td>\n",
       "    </tr>\n",
       "    <tr>\n",
       "      <th>circuit 4</th>\n",
       "      <td>0.786945</td>\n",
       "      <td>0.961068</td>\n",
       "      <td>0.963592</td>\n",
       "      <td>0.989317</td>\n",
       "      <td>0.990027</td>\n",
       "      <td>0.990027</td>\n",
       "      <td>0.990027</td>\n",
       "      <td>0.990027</td>\n",
       "      <td>0.990027</td>\n",
       "      <td>0.990027</td>\n",
       "      <td>...</td>\n",
       "      <td>0.990027</td>\n",
       "      <td>0.990027</td>\n",
       "      <td>0.990027</td>\n",
       "      <td>0.990027</td>\n",
       "      <td>0.990027</td>\n",
       "      <td>0.990027</td>\n",
       "      <td>0.990027</td>\n",
       "      <td>0.990027</td>\n",
       "      <td>0.990027</td>\n",
       "      <td>0.990027</td>\n",
       "    </tr>\n",
       "    <tr>\n",
       "      <th>circuit 5</th>\n",
       "      <td>0.766571</td>\n",
       "      <td>0.955104</td>\n",
       "      <td>0.962597</td>\n",
       "      <td>0.989182</td>\n",
       "      <td>0.989587</td>\n",
       "      <td>0.989587</td>\n",
       "      <td>0.989587</td>\n",
       "      <td>0.989587</td>\n",
       "      <td>0.989587</td>\n",
       "      <td>0.989587</td>\n",
       "      <td>...</td>\n",
       "      <td>0.989587</td>\n",
       "      <td>0.989587</td>\n",
       "      <td>0.989587</td>\n",
       "      <td>0.989587</td>\n",
       "      <td>0.989587</td>\n",
       "      <td>0.989587</td>\n",
       "      <td>0.989587</td>\n",
       "      <td>0.989587</td>\n",
       "      <td>0.989587</td>\n",
       "      <td>0.989587</td>\n",
       "    </tr>\n",
       "    <tr>\n",
       "      <th>circuit 6</th>\n",
       "      <td>0.765656</td>\n",
       "      <td>0.946345</td>\n",
       "      <td>0.962505</td>\n",
       "      <td>0.963592</td>\n",
       "      <td>0.989317</td>\n",
       "      <td>0.989317</td>\n",
       "      <td>0.989317</td>\n",
       "      <td>0.989317</td>\n",
       "      <td>0.989317</td>\n",
       "      <td>0.989317</td>\n",
       "      <td>...</td>\n",
       "      <td>0.989317</td>\n",
       "      <td>0.989317</td>\n",
       "      <td>0.989317</td>\n",
       "      <td>0.989317</td>\n",
       "      <td>0.989317</td>\n",
       "      <td>0.989317</td>\n",
       "      <td>0.989317</td>\n",
       "      <td>0.989317</td>\n",
       "      <td>0.989317</td>\n",
       "      <td>0.989317</td>\n",
       "    </tr>\n",
       "    <tr>\n",
       "      <th>circuit 7</th>\n",
       "      <td>0.667174</td>\n",
       "      <td>0.946238</td>\n",
       "      <td>0.961806</td>\n",
       "      <td>0.962597</td>\n",
       "      <td>0.989232</td>\n",
       "      <td>0.989232</td>\n",
       "      <td>0.989232</td>\n",
       "      <td>0.989232</td>\n",
       "      <td>0.989232</td>\n",
       "      <td>0.989232</td>\n",
       "      <td>...</td>\n",
       "      <td>0.989232</td>\n",
       "      <td>0.989232</td>\n",
       "      <td>0.989232</td>\n",
       "      <td>0.989232</td>\n",
       "      <td>0.989232</td>\n",
       "      <td>0.989232</td>\n",
       "      <td>0.989232</td>\n",
       "      <td>0.989232</td>\n",
       "      <td>0.989232</td>\n",
       "      <td>0.989232</td>\n",
       "    </tr>\n",
       "    <tr>\n",
       "      <th>circuit 8</th>\n",
       "      <td>0.623548</td>\n",
       "      <td>0.786945</td>\n",
       "      <td>0.961317</td>\n",
       "      <td>0.962505</td>\n",
       "      <td>0.989182</td>\n",
       "      <td>0.989182</td>\n",
       "      <td>0.989182</td>\n",
       "      <td>0.989182</td>\n",
       "      <td>0.989182</td>\n",
       "      <td>0.989182</td>\n",
       "      <td>...</td>\n",
       "      <td>0.989182</td>\n",
       "      <td>0.989182</td>\n",
       "      <td>0.989182</td>\n",
       "      <td>0.989182</td>\n",
       "      <td>0.989182</td>\n",
       "      <td>0.989182</td>\n",
       "      <td>0.989182</td>\n",
       "      <td>0.989182</td>\n",
       "      <td>0.989182</td>\n",
       "      <td>0.989182</td>\n",
       "    </tr>\n",
       "    <tr>\n",
       "      <th>circuit 9</th>\n",
       "      <td>0.623337</td>\n",
       "      <td>0.786552</td>\n",
       "      <td>0.961068</td>\n",
       "      <td>0.961859</td>\n",
       "      <td>0.963592</td>\n",
       "      <td>0.963592</td>\n",
       "      <td>0.963592</td>\n",
       "      <td>0.963592</td>\n",
       "      <td>0.963592</td>\n",
       "      <td>0.963592</td>\n",
       "      <td>...</td>\n",
       "      <td>0.963592</td>\n",
       "      <td>0.963592</td>\n",
       "      <td>0.963592</td>\n",
       "      <td>0.963592</td>\n",
       "      <td>0.963592</td>\n",
       "      <td>0.963592</td>\n",
       "      <td>0.963592</td>\n",
       "      <td>0.963592</td>\n",
       "      <td>0.963592</td>\n",
       "      <td>0.963592</td>\n",
       "    </tr>\n",
       "    <tr>\n",
       "      <th>circuit 10</th>\n",
       "      <td>0.610087</td>\n",
       "      <td>0.766571</td>\n",
       "      <td>0.960136</td>\n",
       "      <td>0.961806</td>\n",
       "      <td>0.962597</td>\n",
       "      <td>0.962597</td>\n",
       "      <td>0.962597</td>\n",
       "      <td>0.962597</td>\n",
       "      <td>0.962597</td>\n",
       "      <td>0.962597</td>\n",
       "      <td>...</td>\n",
       "      <td>0.963009</td>\n",
       "      <td>0.963009</td>\n",
       "      <td>0.963009</td>\n",
       "      <td>0.963009</td>\n",
       "      <td>0.963009</td>\n",
       "      <td>0.963009</td>\n",
       "      <td>0.963009</td>\n",
       "      <td>0.963009</td>\n",
       "      <td>0.963009</td>\n",
       "      <td>0.963009</td>\n",
       "    </tr>\n",
       "    <tr>\n",
       "      <th>circuit 11</th>\n",
       "      <td>0.548163</td>\n",
       "      <td>0.765656</td>\n",
       "      <td>0.955104</td>\n",
       "      <td>0.961572</td>\n",
       "      <td>0.962505</td>\n",
       "      <td>0.962518</td>\n",
       "      <td>0.962518</td>\n",
       "      <td>0.962518</td>\n",
       "      <td>0.962518</td>\n",
       "      <td>0.962518</td>\n",
       "      <td>...</td>\n",
       "      <td>0.962597</td>\n",
       "      <td>0.962640</td>\n",
       "      <td>0.962640</td>\n",
       "      <td>0.962640</td>\n",
       "      <td>0.962640</td>\n",
       "      <td>0.962640</td>\n",
       "      <td>0.962640</td>\n",
       "      <td>0.962640</td>\n",
       "      <td>0.962640</td>\n",
       "      <td>0.962640</td>\n",
       "    </tr>\n",
       "    <tr>\n",
       "      <th>circuit 12</th>\n",
       "      <td>0.548163</td>\n",
       "      <td>0.765089</td>\n",
       "      <td>0.946345</td>\n",
       "      <td>0.961317</td>\n",
       "      <td>0.961859</td>\n",
       "      <td>0.962505</td>\n",
       "      <td>0.962505</td>\n",
       "      <td>0.962505</td>\n",
       "      <td>0.962505</td>\n",
       "      <td>0.962505</td>\n",
       "      <td>...</td>\n",
       "      <td>0.962518</td>\n",
       "      <td>0.962597</td>\n",
       "      <td>0.962597</td>\n",
       "      <td>0.962597</td>\n",
       "      <td>0.962597</td>\n",
       "      <td>0.962597</td>\n",
       "      <td>0.962597</td>\n",
       "      <td>0.962597</td>\n",
       "      <td>0.962597</td>\n",
       "      <td>0.962597</td>\n",
       "    </tr>\n",
       "    <tr>\n",
       "      <th>circuit 13</th>\n",
       "      <td>0.498786</td>\n",
       "      <td>0.667174</td>\n",
       "      <td>0.946238</td>\n",
       "      <td>0.961171</td>\n",
       "      <td>0.961806</td>\n",
       "      <td>0.962157</td>\n",
       "      <td>0.962476</td>\n",
       "      <td>0.962476</td>\n",
       "      <td>0.962476</td>\n",
       "      <td>0.962476</td>\n",
       "      <td>...</td>\n",
       "      <td>0.962505</td>\n",
       "      <td>0.962518</td>\n",
       "      <td>0.962518</td>\n",
       "      <td>0.962518</td>\n",
       "      <td>0.962518</td>\n",
       "      <td>0.962518</td>\n",
       "      <td>0.962518</td>\n",
       "      <td>0.962518</td>\n",
       "      <td>0.962518</td>\n",
       "      <td>0.962518</td>\n",
       "    </tr>\n",
       "    <tr>\n",
       "      <th>circuit 14</th>\n",
       "      <td>0.498741</td>\n",
       "      <td>0.623548</td>\n",
       "      <td>0.786945</td>\n",
       "      <td>0.961068</td>\n",
       "      <td>0.961616</td>\n",
       "      <td>0.961859</td>\n",
       "      <td>0.962157</td>\n",
       "      <td>0.962157</td>\n",
       "      <td>0.962157</td>\n",
       "      <td>0.962157</td>\n",
       "      <td>...</td>\n",
       "      <td>0.962476</td>\n",
       "      <td>0.962505</td>\n",
       "      <td>0.962505</td>\n",
       "      <td>0.962505</td>\n",
       "      <td>0.962505</td>\n",
       "      <td>0.962505</td>\n",
       "      <td>0.962505</td>\n",
       "      <td>0.962505</td>\n",
       "      <td>0.962505</td>\n",
       "      <td>0.962505</td>\n",
       "    </tr>\n",
       "    <tr>\n",
       "      <th>circuit 15</th>\n",
       "      <td>0.435367</td>\n",
       "      <td>0.623337</td>\n",
       "      <td>0.786552</td>\n",
       "      <td>0.960219</td>\n",
       "      <td>0.961572</td>\n",
       "      <td>0.961806</td>\n",
       "      <td>0.961859</td>\n",
       "      <td>0.962099</td>\n",
       "      <td>0.962099</td>\n",
       "      <td>0.962153</td>\n",
       "      <td>...</td>\n",
       "      <td>0.962387</td>\n",
       "      <td>0.962476</td>\n",
       "      <td>0.962476</td>\n",
       "      <td>0.962476</td>\n",
       "      <td>0.962476</td>\n",
       "      <td>0.962476</td>\n",
       "      <td>0.962476</td>\n",
       "      <td>0.962476</td>\n",
       "      <td>0.962476</td>\n",
       "      <td>0.962476</td>\n",
       "    </tr>\n",
       "    <tr>\n",
       "      <th>circuit 16</th>\n",
       "      <td>0.398300</td>\n",
       "      <td>0.610087</td>\n",
       "      <td>0.766571</td>\n",
       "      <td>0.960136</td>\n",
       "      <td>0.961443</td>\n",
       "      <td>0.961616</td>\n",
       "      <td>0.961806</td>\n",
       "      <td>0.961859</td>\n",
       "      <td>0.961859</td>\n",
       "      <td>0.962149</td>\n",
       "      <td>...</td>\n",
       "      <td>0.962157</td>\n",
       "      <td>0.962387</td>\n",
       "      <td>0.962387</td>\n",
       "      <td>0.962387</td>\n",
       "      <td>0.962387</td>\n",
       "      <td>0.962387</td>\n",
       "      <td>0.962387</td>\n",
       "      <td>0.962387</td>\n",
       "      <td>0.962387</td>\n",
       "      <td>0.962387</td>\n",
       "    </tr>\n",
       "    <tr>\n",
       "      <th>circuit 17</th>\n",
       "      <td>0.374969</td>\n",
       "      <td>0.548163</td>\n",
       "      <td>0.765656</td>\n",
       "      <td>0.955104</td>\n",
       "      <td>0.961317</td>\n",
       "      <td>0.961572</td>\n",
       "      <td>0.961616</td>\n",
       "      <td>0.961806</td>\n",
       "      <td>0.961806</td>\n",
       "      <td>0.962099</td>\n",
       "      <td>...</td>\n",
       "      <td>0.962153</td>\n",
       "      <td>0.962157</td>\n",
       "      <td>0.962157</td>\n",
       "      <td>0.962157</td>\n",
       "      <td>0.962157</td>\n",
       "      <td>0.962157</td>\n",
       "      <td>0.962157</td>\n",
       "      <td>0.962157</td>\n",
       "      <td>0.962157</td>\n",
       "      <td>0.962157</td>\n",
       "    </tr>\n",
       "    <tr>\n",
       "      <th>circuit 18</th>\n",
       "      <td>0.374969</td>\n",
       "      <td>0.548163</td>\n",
       "      <td>0.765089</td>\n",
       "      <td>0.946345</td>\n",
       "      <td>0.961171</td>\n",
       "      <td>0.961443</td>\n",
       "      <td>0.961572</td>\n",
       "      <td>0.961616</td>\n",
       "      <td>0.961616</td>\n",
       "      <td>0.961859</td>\n",
       "      <td>...</td>\n",
       "      <td>0.962149</td>\n",
       "      <td>0.962153</td>\n",
       "      <td>0.962153</td>\n",
       "      <td>0.962153</td>\n",
       "      <td>0.962153</td>\n",
       "      <td>0.962153</td>\n",
       "      <td>0.962153</td>\n",
       "      <td>0.962153</td>\n",
       "      <td>0.962153</td>\n",
       "      <td>0.962153</td>\n",
       "    </tr>\n",
       "    <tr>\n",
       "      <th>circuit 19</th>\n",
       "      <td>0.341548</td>\n",
       "      <td>0.498786</td>\n",
       "      <td>0.667174</td>\n",
       "      <td>0.946238</td>\n",
       "      <td>0.961068</td>\n",
       "      <td>0.961317</td>\n",
       "      <td>0.961443</td>\n",
       "      <td>0.961572</td>\n",
       "      <td>0.961572</td>\n",
       "      <td>0.961806</td>\n",
       "      <td>...</td>\n",
       "      <td>0.962099</td>\n",
       "      <td>0.962149</td>\n",
       "      <td>0.962149</td>\n",
       "      <td>0.962149</td>\n",
       "      <td>0.962149</td>\n",
       "      <td>0.962149</td>\n",
       "      <td>0.962149</td>\n",
       "      <td>0.962149</td>\n",
       "      <td>0.962149</td>\n",
       "      <td>0.962149</td>\n",
       "    </tr>\n",
       "    <tr>\n",
       "      <th>circuit 20</th>\n",
       "      <td>0.341548</td>\n",
       "      <td>0.498741</td>\n",
       "      <td>0.623548</td>\n",
       "      <td>0.786945</td>\n",
       "      <td>0.960219</td>\n",
       "      <td>0.961171</td>\n",
       "      <td>0.961317</td>\n",
       "      <td>0.961443</td>\n",
       "      <td>0.961443</td>\n",
       "      <td>0.961616</td>\n",
       "      <td>...</td>\n",
       "      <td>0.961859</td>\n",
       "      <td>0.962099</td>\n",
       "      <td>0.962099</td>\n",
       "      <td>0.962099</td>\n",
       "      <td>0.962099</td>\n",
       "      <td>0.962099</td>\n",
       "      <td>0.962099</td>\n",
       "      <td>0.962099</td>\n",
       "      <td>0.962099</td>\n",
       "      <td>0.962099</td>\n",
       "    </tr>\n",
       "  </tbody>\n",
       "</table>\n",
       "<p>20 rows × 21 columns</p>\n",
       "</div>"
      ],
      "text/plain": [
       "                  0         1         2         3         4         5   \\\n",
       "circuit 1   0.963592  0.963592  0.991164  0.991164  0.991164  0.991164   \n",
       "circuit 2   0.961806  0.962505  0.989317  0.990122  0.990277  0.990277   \n",
       "circuit 3   0.946238  0.961806  0.989182  0.990027  0.990122  0.990122   \n",
       "circuit 4   0.786945  0.961068  0.963592  0.989317  0.990027  0.990027   \n",
       "circuit 5   0.766571  0.955104  0.962597  0.989182  0.989587  0.989587   \n",
       "circuit 6   0.765656  0.946345  0.962505  0.963592  0.989317  0.989317   \n",
       "circuit 7   0.667174  0.946238  0.961806  0.962597  0.989232  0.989232   \n",
       "circuit 8   0.623548  0.786945  0.961317  0.962505  0.989182  0.989182   \n",
       "circuit 9   0.623337  0.786552  0.961068  0.961859  0.963592  0.963592   \n",
       "circuit 10  0.610087  0.766571  0.960136  0.961806  0.962597  0.962597   \n",
       "circuit 11  0.548163  0.765656  0.955104  0.961572  0.962505  0.962518   \n",
       "circuit 12  0.548163  0.765089  0.946345  0.961317  0.961859  0.962505   \n",
       "circuit 13  0.498786  0.667174  0.946238  0.961171  0.961806  0.962157   \n",
       "circuit 14  0.498741  0.623548  0.786945  0.961068  0.961616  0.961859   \n",
       "circuit 15  0.435367  0.623337  0.786552  0.960219  0.961572  0.961806   \n",
       "circuit 16  0.398300  0.610087  0.766571  0.960136  0.961443  0.961616   \n",
       "circuit 17  0.374969  0.548163  0.765656  0.955104  0.961317  0.961572   \n",
       "circuit 18  0.374969  0.548163  0.765089  0.946345  0.961171  0.961443   \n",
       "circuit 19  0.341548  0.498786  0.667174  0.946238  0.961068  0.961317   \n",
       "circuit 20  0.341548  0.498741  0.623548  0.786945  0.960219  0.961171   \n",
       "\n",
       "                  6         7         8         9   ...        11        12  \\\n",
       "circuit 1   0.991164  0.991164  0.991164  0.991164  ...  0.991164  0.991164   \n",
       "circuit 2   0.990277  0.990277  0.990277  0.990277  ...  0.990277  0.990277   \n",
       "circuit 3   0.990122  0.990122  0.990122  0.990122  ...  0.990122  0.990122   \n",
       "circuit 4   0.990027  0.990027  0.990027  0.990027  ...  0.990027  0.990027   \n",
       "circuit 5   0.989587  0.989587  0.989587  0.989587  ...  0.989587  0.989587   \n",
       "circuit 6   0.989317  0.989317  0.989317  0.989317  ...  0.989317  0.989317   \n",
       "circuit 7   0.989232  0.989232  0.989232  0.989232  ...  0.989232  0.989232   \n",
       "circuit 8   0.989182  0.989182  0.989182  0.989182  ...  0.989182  0.989182   \n",
       "circuit 9   0.963592  0.963592  0.963592  0.963592  ...  0.963592  0.963592   \n",
       "circuit 10  0.962597  0.962597  0.962597  0.962597  ...  0.963009  0.963009   \n",
       "circuit 11  0.962518  0.962518  0.962518  0.962518  ...  0.962597  0.962640   \n",
       "circuit 12  0.962505  0.962505  0.962505  0.962505  ...  0.962518  0.962597   \n",
       "circuit 13  0.962476  0.962476  0.962476  0.962476  ...  0.962505  0.962518   \n",
       "circuit 14  0.962157  0.962157  0.962157  0.962157  ...  0.962476  0.962505   \n",
       "circuit 15  0.961859  0.962099  0.962099  0.962153  ...  0.962387  0.962476   \n",
       "circuit 16  0.961806  0.961859  0.961859  0.962149  ...  0.962157  0.962387   \n",
       "circuit 17  0.961616  0.961806  0.961806  0.962099  ...  0.962153  0.962157   \n",
       "circuit 18  0.961572  0.961616  0.961616  0.961859  ...  0.962149  0.962153   \n",
       "circuit 19  0.961443  0.961572  0.961572  0.961806  ...  0.962099  0.962149   \n",
       "circuit 20  0.961317  0.961443  0.961443  0.961616  ...  0.961859  0.962099   \n",
       "\n",
       "                  13        14        15        16        17        18  \\\n",
       "circuit 1   0.991164  0.991164  0.991164  0.991164  0.991164  0.991164   \n",
       "circuit 2   0.990277  0.990277  0.990277  0.990277  0.990277  0.990277   \n",
       "circuit 3   0.990122  0.990122  0.990122  0.990122  0.990122  0.990122   \n",
       "circuit 4   0.990027  0.990027  0.990027  0.990027  0.990027  0.990027   \n",
       "circuit 5   0.989587  0.989587  0.989587  0.989587  0.989587  0.989587   \n",
       "circuit 6   0.989317  0.989317  0.989317  0.989317  0.989317  0.989317   \n",
       "circuit 7   0.989232  0.989232  0.989232  0.989232  0.989232  0.989232   \n",
       "circuit 8   0.989182  0.989182  0.989182  0.989182  0.989182  0.989182   \n",
       "circuit 9   0.963592  0.963592  0.963592  0.963592  0.963592  0.963592   \n",
       "circuit 10  0.963009  0.963009  0.963009  0.963009  0.963009  0.963009   \n",
       "circuit 11  0.962640  0.962640  0.962640  0.962640  0.962640  0.962640   \n",
       "circuit 12  0.962597  0.962597  0.962597  0.962597  0.962597  0.962597   \n",
       "circuit 13  0.962518  0.962518  0.962518  0.962518  0.962518  0.962518   \n",
       "circuit 14  0.962505  0.962505  0.962505  0.962505  0.962505  0.962505   \n",
       "circuit 15  0.962476  0.962476  0.962476  0.962476  0.962476  0.962476   \n",
       "circuit 16  0.962387  0.962387  0.962387  0.962387  0.962387  0.962387   \n",
       "circuit 17  0.962157  0.962157  0.962157  0.962157  0.962157  0.962157   \n",
       "circuit 18  0.962153  0.962153  0.962153  0.962153  0.962153  0.962153   \n",
       "circuit 19  0.962149  0.962149  0.962149  0.962149  0.962149  0.962149   \n",
       "circuit 20  0.962099  0.962099  0.962099  0.962099  0.962099  0.962099   \n",
       "\n",
       "                  19        20  \n",
       "circuit 1   0.991164  0.991164  \n",
       "circuit 2   0.990277  0.990277  \n",
       "circuit 3   0.990122  0.990122  \n",
       "circuit 4   0.990027  0.990027  \n",
       "circuit 5   0.989587  0.989587  \n",
       "circuit 6   0.989317  0.989317  \n",
       "circuit 7   0.989232  0.989232  \n",
       "circuit 8   0.989182  0.989182  \n",
       "circuit 9   0.963592  0.963592  \n",
       "circuit 10  0.963009  0.963009  \n",
       "circuit 11  0.962640  0.962640  \n",
       "circuit 12  0.962597  0.962597  \n",
       "circuit 13  0.962518  0.962518  \n",
       "circuit 14  0.962505  0.962505  \n",
       "circuit 15  0.962476  0.962476  \n",
       "circuit 16  0.962387  0.962387  \n",
       "circuit 17  0.962157  0.962157  \n",
       "circuit 18  0.962153  0.962153  \n",
       "circuit 19  0.962149  0.962149  \n",
       "circuit 20  0.962099  0.962099  \n",
       "\n",
       "[20 rows x 21 columns]"
      ]
     },
     "execution_count": 34,
     "metadata": {},
     "output_type": "execute_result"
    }
   ],
   "source": [
    "values"
   ]
  },
  {
   "cell_type": "code",
   "execution_count": 36,
   "id": "fa0745df-eb98-4c07-a0bc-2a190791348d",
   "metadata": {},
   "outputs": [
    {
     "data": {
      "image/png": "[encoded data removed]",
      "text/plain": [
       "<Figure size 432x288 with 1 Axes>"
      ]
     },
     "metadata": {
      "needs_background": "light"
     },
     "output_type": "display_data"
    }
   ],
   "source": [
    "boxplot = values.boxplot() \n",
    "boxplot.set_ylabel('fitnesses')\n",
    "boxplot.set_xlabel('generations')\n",
    "plt.title(\"Population Fitnesses Per Generation\")\n",
    "plt.savefig('../optimizer_data/1D_run2/fitnesses.png', bbox_inches='tight')"
   ]
  },
  {
   "cell_type": "markdown",
   "id": "10b9a41a-c925-464f-8024-912ad83377a7",
   "metadata": {
    "tags": []
   },
   "source": [
    "### File Reading"
   ]
  },
  {
   "cell_type": "code",
   "execution_count": 4,
   "id": "fa738523-bf5c-43f8-9867-809f9b961dd9",
   "metadata": {},
   "outputs": [],
   "source": [
    "jet_filename = '../jetImage_0_30p_0_10000.h5'\n",
    "f1 = h5py.File(jet_filename,'r')\n",
    "jets = np.array(f1[\"jets\"])"
   ]
  },
  {
   "cell_type": "code",
   "execution_count": 5,
   "id": "f800238f-2335-40d6-8f2f-d45546c68c34",
   "metadata": {},
   "outputs": [],
   "source": [
    "j_pt = jets[:, 1]\n",
    "j_eta = jets[:, 2]\n",
    "j_mass = jets[:, 3]"
   ]
  },
  {
   "cell_type": "code",
   "execution_count": 6,
   "id": "b65009a0-c4c3-4c9b-84f6-e78f549deb38",
   "metadata": {},
   "outputs": [],
   "source": [
    "num_bins = 16"
   ]
  },
  {
   "cell_type": "code",
   "execution_count": 7,
   "id": "f4f5bcf0-a89d-4fca-a316-b45b01e99be8",
   "metadata": {},
   "outputs": [
    {
     "data": {
      "image/png": "[encoded data removed]",
      "text/plain": [
       "<Figure size 432x288 with 1 Axes>"
      ]
     },
     "metadata": {
      "needs_background": "light"
     },
     "output_type": "display_data"
    }
   ],
   "source": [
    "min_pt = 900\n",
    "max_pt = 1100\n",
    "distribution_pt, bins_pt_edge, __ = plt.hist(j_pt, range=[min_pt, max_pt], bins=num_bins)\n",
    "probability_pt = distribution_pt / np.sum(distribution_pt)\n",
    "bins_pt = np.asarray([(bins_pt_edge[i] + bins_pt_edge[i+1])/2. for i in range(len(bins_pt_edge)-1)])"
   ]
  },
  {
   "cell_type": "code",
   "execution_count": 8,
   "id": "5d328fdc-337d-4268-9c9e-a0c7f9590089",
   "metadata": {},
   "outputs": [
    {
     "data": {
      "image/png": "[encoded data removed]",
      "text/plain": [
       "<Figure size 432x288 with 1 Axes>"
      ]
     },
     "metadata": {
      "needs_background": "light"
     },
     "output_type": "display_data"
    }
   ],
   "source": [
    "min_eta = -2\n",
    "max_eta = 2\n",
    "distribution_eta, bins_eta_edge, __ =plt.hist(j_eta, range=[min_eta, max_eta], bins=num_bins)\n",
    "probability_eta = distribution_eta / np.sum(distribution_eta)\n",
    "bins_eta = np.asarray([(bins_eta_edge[i] + bins_eta_edge[i+1])/2. for i in range(len(bins_eta_edge)-1)])"
   ]
  },
  {
   "cell_type": "code",
   "execution_count": 9,
   "id": "bcc7d4b5-782b-4594-9e52-9f6d939970fe",
   "metadata": {},
   "outputs": [
    {
     "data": {
      "image/png": "[encoded data removed]",
      "text/plain": [
       "<Figure size 432x288 with 1 Axes>"
      ]
     },
     "metadata": {
      "needs_background": "light"
     },
     "output_type": "display_data"
    }
   ],
   "source": [
    "min_mass = 25\n",
    "max_mass = 175\n",
    "distribution_mass, bins_mass_edge, __ =plt.hist(j_mass, range=[min_mass, max_mass],bins=num_bins)\n",
    "probability_mass = distribution_mass / np.sum(distribution_mass)\n",
    "bins_mass = np.asarray([(bins_mass_edge[i] + bins_mass_edge[i+1])/2. for i in range(len(bins_mass_edge)-1)])"
   ]
  },
  {
   "cell_type": "markdown",
   "id": "334c4db3-b068-415c-b7c0-ba876a3782d3",
   "metadata": {
    "tags": []
   },
   "source": [
    "### Testing Ansatz Optimizer - 1D"
   ]
  },
  {
   "cell_type": "code",
   "execution_count": 10,
   "id": "1c653938-81e7-40a4-a43f-9b1929713a41",
   "metadata": {},
   "outputs": [],
   "source": [
    "num_one_gates = 3\n",
    "num_two_gates = 1\n",
    "max_moments = 4\n",
    "n_qubits = 4\n",
    "pop_size = 20"
   ]
  },
  {
   "cell_type": "markdown",
   "id": "9440cc28-f6b2-496a-98fa-fdc6967cb849",
   "metadata": {
    "jp-MarkdownHeadingCollapsed": true,
    "tags": []
   },
   "source": [
    "#### Testing"
   ]
  },
  {
   "cell_type": "code",
   "execution_count": 56,
   "id": "531f9898-f860-4615-afd3-0d2b8ab01d02",
   "metadata": {
    "tags": []
   },
   "outputs": [],
   "source": [
    "tensor = [[[1, 0, 0, 0, 0],\n",
    "  [0, 1, 0, 0, 0],\n",
    "  [1, 0, 0, 0, 0],\n",
    "  [1, 0, 0, 0, 0]],\n",
    " [[0, 1, 0, 0, 0],\n",
    "  [0, 0, 0, 0, 3],\n",
    "  [0, 0, 0, 2, 0],\n",
    "  [0, 1, 0, 0, 0]],\n",
    " [[0, 1, 0, 0, 0],\n",
    "  [0, 1, 0, 0, 0],\n",
    "  [1, 0, 0, 0, 0],\n",
    "  [0, 0, 1, 0, 0]],\n",
    " [[0, 0, 1, 0, 0],\n",
    "  [0, 0, 0, 0, 3],\n",
    "  [0, 0, 0, 2, 0],\n",
    "  [0, 1, 0, 0, 0]],\n",
    " [[0, 1, 0, 0, 0],\n",
    "  [0, 1, 0, 0, 0],\n",
    "  [1, 0, 0, 0, 0],\n",
    "  [0, 0, 1, 0, 0]],\n",
    " [[0, 0, 1, 0, 0],\n",
    "  [0, 0, 0, 0, 0],\n",
    "  [1, 0, 0, 0, 0],\n",
    "  [0, 0, 0, 0, 0]]]"
   ]
  },
  {
   "cell_type": "code",
   "execution_count": 12,
   "id": "20105d60-a146-48e4-8de3-07130cdb36b3",
   "metadata": {},
   "outputs": [],
   "source": [
    "circuit = IndividualCircuit(tensor, probability_pt, num_one_gates, num_two_gates, 4, 1)"
   ]
  },
  {
   "cell_type": "code",
   "execution_count": 13,
   "id": "88fc12b2-4f9b-43e6-801d-7acb2f0c7074",
   "metadata": {},
   "outputs": [
    {
     "data": {
      "image/png": "[encoded data removed]",
      "text/plain": [
       "<Figure size 648x360 with 1 Axes>"
      ]
     },
     "metadata": {},
     "output_type": "display_data"
    }
   ],
   "source": [
    "circuit.draw()"
   ]
  },
  {
   "cell_type": "code",
   "execution_count": 14,
   "id": "002b64f3-5f9d-466e-9aca-be399f044bb9",
   "metadata": {},
   "outputs": [],
   "source": [
    "circuit.train_fitness()"
   ]
  },
  {
   "cell_type": "code",
   "execution_count": 15,
   "id": "e5fbaaf7-bdc4-41b5-829a-e05b0163483b",
   "metadata": {},
   "outputs": [
    {
     "data": {
      "text/plain": [
       "tensor(0.96275437, requires_grad=True)"
      ]
     },
     "execution_count": 15,
     "metadata": {},
     "output_type": "execute_result"
    }
   ],
   "source": [
    "circuit.get_fitness()"
   ]
  },
  {
   "cell_type": "code",
   "execution_count": 16,
   "id": "779a087d-2e63-46ff-93da-f9f6419b2560",
   "metadata": {},
   "outputs": [
    {
     "data": {
      "image/png": "[encoded data removed]",
      "text/plain": [
       "<Figure size 432x288 with 1 Axes>"
      ]
     },
     "metadata": {
      "needs_background": "light"
     },
     "output_type": "display_data"
    }
   ],
   "source": [
    "circuit.plot_fitness()"
   ]
  },
  {
   "cell_type": "markdown",
   "id": "02aa5dd8-bf52-4425-ac3c-a9b9f8223761",
   "metadata": {},
   "source": [
    "#### Processing"
   ]
  },
  {
   "cell_type": "code",
   "execution_count": 11,
   "id": "19a8055b-028a-469f-be0b-7acde163f3f5",
   "metadata": {},
   "outputs": [
    {
     "name": "stderr",
     "output_type": "stream",
     "text": [
      "/usr/local/lib/python3.8/site-packages/autograd/tracer.py:14: UserWarning: Output seems independent of input.\n",
      "  warnings.warn(\"Output seems independent of input.\")\n"
     ]
    },
    {
     "name": "stdout",
     "output_type": "stream",
     "text": [
      "Execution time multiprocessing 103.00111413002014\n",
      "Generation: 0 Fittest: 0.967325795912825\n"
     ]
    }
   ],
   "source": [
    "opt = CircuitOptimizer(pop_size, probability_pt, num_one_gates, num_two_gates, max_moments, n_qubits)"
   ]
  },
  {
   "cell_type": "code",
   "execution_count": 12,
   "id": "04f7d0c8-011f-45af-a729-ffd05f59c1bf",
   "metadata": {},
   "outputs": [
    {
     "data": {
      "text/plain": [
       "tensor(0.9673258, requires_grad=True)"
      ]
     },
     "execution_count": 12,
     "metadata": {},
     "output_type": "execute_result"
    }
   ],
   "source": [
    "opt.population.get_fittest_fitness()"
   ]
  },
  {
   "cell_type": "code",
   "execution_count": 13,
   "id": "9b5554f1-70dd-4573-ac06-19832b33b86f",
   "metadata": {},
   "outputs": [
    {
     "data": {
      "text/plain": [
       "tensor(0.9673258, requires_grad=True)"
      ]
     },
     "execution_count": 13,
     "metadata": {},
     "output_type": "execute_result"
    }
   ],
   "source": [
    "opt.population.fittest.fitness"
   ]
  },
  {
   "cell_type": "code",
   "execution_count": 14,
   "id": "a4e5335f-a380-4772-891f-b06aa7e64b09",
   "metadata": {},
   "outputs": [
    {
     "data": {
      "image/png": "[encoded data removed]",
      "text/plain": [
       "<Figure size 576x360 with 1 Axes>"
      ]
     },
     "metadata": {},
     "output_type": "display_data"
    }
   ],
   "source": [
    "opt.population.fittest.draw()"
   ]
  },
  {
   "cell_type": "code",
   "execution_count": 30,
   "id": "88402e9d-ee65-4f14-8b3c-694bf978f2dd",
   "metadata": {},
   "outputs": [],
   "source": [
    "plot_distribution()\n",
    "draw_circuits()\n",
    "plot_fitnesses()\n",
    "plot_losses()"
   ]
  },
  {
   "cell_type": "code",
   "execution_count": 32,
   "id": "d3660ee2-8ed5-4222-8b86-98a2a083a435",
   "metadata": {},
   "outputs": [
    {
     "name": "stdout",
     "output_type": "stream",
     "text": [
      "Execution time multiprocessing 87.40743112564087\n",
      "Generation: 2 Fittest: 0.9904863885081167\n"
     ]
    }
   ],
   "source": [
    "opt.generation += 1\n",
    "opt.selection()\n",
    "opt.crossover()\n",
    "    \n",
    "for i in range(4):\n",
    "    if random.random() < 0.7:\n",
    "        opt.mutate()\n",
    "            \n",
    "opt.train_offsprings()\n",
    "draw_and_save_offsprings()\n",
    "opt.add_offsprings()\n",
    "plot_distribution()\n",
    "plot_fitnesses()\n",
    "plot_losses()\n",
    "draw_circuits()\n",
    "opt.print_info()"
   ]
  },
  {
   "cell_type": "code",
   "execution_count": 58,
   "id": "de241f5f-177d-4751-b947-e57f59924998",
   "metadata": {},
   "outputs": [
    {
     "data": {
      "image/png": "[encoded data removed]",
      "text/plain": [
       "<Figure size 432x360 with 1 Axes>"
      ]
     },
     "metadata": {},
     "output_type": "display_data"
    }
   ],
   "source": [
    "opt.population.fittest.draw()"
   ]
  },
  {
   "cell_type": "code",
   "execution_count": 17,
   "id": "ac4ceb23-165e-4ab7-accd-b7ecf9f9cb2e",
   "metadata": {},
   "outputs": [],
   "source": [
    "folder_name = '../optimizer_data/1D_test/'"
   ]
  },
  {
   "cell_type": "code",
   "execution_count": 18,
   "id": "eda47783-6b3c-4203-bf1c-52580b23732a",
   "metadata": {},
   "outputs": [
    {
     "name": "stdout",
     "output_type": "stream",
     "text": [
      "['circuit 1', 'circuit 2', 'circuit 3', 'circuit 4', 'circuit 5', 'circuit 6', 'circuit 7', 'circuit 8', 'circuit 9', 'circuit 10', 'circuit 11', 'circuit 12', 'circuit 13', 'circuit 14', 'circuit 15', 'circuit 16', 'circuit 17', 'circuit 18', 'circuit 19', 'circuit 20']\n"
     ]
    }
   ],
   "source": [
    "header = []\n",
    "for i in range(pop_size):\n",
    "    header.append(\"circuit \" + str(i+1))\n",
    "print(header)"
   ]
  },
  {
   "cell_type": "code",
   "execution_count": 19,
   "id": "2ecdbcc9-5012-4357-9448-a0a386b1f372",
   "metadata": {},
   "outputs": [],
   "source": [
    "with open(folder_name + 'fitnesses_1d.csv', 'w') as f:\n",
    "    writer = csv.writer(f)\n",
    "    writer.writerow(header)\n",
    "    \n",
    "    fitnesses = []\n",
    "    \n",
    "    for circuit in opt.population.individuals:\n",
    "        fitnesses.append(circuit.get_fitness())\n",
    "    writer.writerow(fitnesses)"
   ]
  },
  {
   "cell_type": "code",
   "execution_count": 20,
   "id": "6fd5b842-44bd-41bd-96fe-93532d18928b",
   "metadata": {},
   "outputs": [
    {
     "data": {
      "text/plain": [
       "[tensor(0.9673258, requires_grad=True),\n",
       " tensor(0.95533825, requires_grad=True),\n",
       " tensor(0.94067569, requires_grad=True),\n",
       " tensor(0.93620197, requires_grad=True),\n",
       " tensor(0.93421341, requires_grad=True),\n",
       " tensor(0.82947997, requires_grad=True),\n",
       " tensor(0.77744992, requires_grad=True),\n",
       " tensor(0.76756296, requires_grad=True),\n",
       " tensor(0.76554669, requires_grad=True),\n",
       " tensor(0.76456253, requires_grad=True),\n",
       " tensor(0.75192071, requires_grad=True),\n",
       " tensor(0.66722686, requires_grad=True),\n",
       " tensor(0.61017731, requires_grad=True),\n",
       " tensor(0.54816309, requires_grad=True),\n",
       " tensor(0.49873449, requires_grad=True),\n",
       " tensor(0.47440839, requires_grad=True),\n",
       " tensor(0.37107697, requires_grad=True),\n",
       " tensor(0.37107697, requires_grad=True),\n",
       " tensor(0.34154762, requires_grad=True),\n",
       " 0.3415476189279736]"
      ]
     },
     "execution_count": 20,
     "metadata": {},
     "output_type": "execute_result"
    }
   ],
   "source": [
    "fitnesses"
   ]
  },
  {
   "cell_type": "code",
   "execution_count": 21,
   "id": "114be735-b6bf-4b9e-a381-1c129bd6e02e",
   "metadata": {},
   "outputs": [],
   "source": [
    "distributions_folder_name = folder_name + 'distributions_1D_fixedLR/generation_'"
   ]
  },
  {
   "cell_type": "code",
   "execution_count": null,
   "id": "c7d90a42-bd76-41a0-9e83-587042611855",
   "metadata": {},
   "outputs": [],
   "source": [
    "# with open(folder_name + 'fitnesses_1d.csv', 'r') as f:\n",
    "#     heading = next(f)\n",
    "#     reader = csv.reader(f)\n",
    "#     row1 = next(reader)\n",
    "    "
   ]
  },
  {
   "cell_type": "code",
   "execution_count": 20,
   "id": "8f4cf412-8c82-45c6-89e0-b02f7a36944c",
   "metadata": {
    "tags": []
   },
   "outputs": [],
   "source": [
    "# plt.title(\"generation 0\")\n",
    "# plt.xlabel('fitness values')\n",
    "# plt.ylabel('quantity')\n",
    "# plt.hist(fitnesses, range=[0.0, 1.0], bins=10, rwidth=0.95)\n",
    "# plt.savefig(distributions_folder_name + '0.png', bbox_inches='tight')\n",
    "# plt.close()"
   ]
  },
  {
   "cell_type": "code",
   "execution_count": 22,
   "id": "5bc48840-e04f-4948-b8fe-a0fac4b963bf",
   "metadata": {},
   "outputs": [],
   "source": [
    "def plot_distribution():\n",
    "    with open(folder_name + 'fitnesses_1d.csv', 'a') as f:\n",
    "        writer = csv.writer(f)\n",
    "\n",
    "        fitnesses = []\n",
    "\n",
    "        for circuit in opt.population.individuals:\n",
    "            fitnesses.append(circuit.get_fitness())\n",
    "        writer.writerow(fitnesses)\n",
    "        \n",
    "    plt.title(\"generation \" + str(opt.generation))\n",
    "    plt.xlabel('fitness values')\n",
    "    plt.ylabel('quantity')\n",
    "    plt.hist(fitnesses, range=[0.0, 1.0], bins=10, rwidth=0.95)\n",
    "    plt.savefig(distributions_folder_name + str(opt.generation) + '.png', bbox_inches='tight')\n",
    "    plt.close()"
   ]
  },
  {
   "cell_type": "code",
   "execution_count": 23,
   "id": "3c3b496c-b3e7-45fa-b089-3aa66419e7e6",
   "metadata": {},
   "outputs": [],
   "source": [
    "fitnesses_folder_name = folder_name + 'plots_and_circuits/generation_'\n",
    "losses_folder_name = folder_name + 'plots_and_circuits/generation_'\n",
    "circuits_folder_name = folder_name + 'plots_and_circuits/generation_'"
   ]
  },
  {
   "cell_type": "code",
   "execution_count": 24,
   "id": "19ed6416-8367-4256-a71d-0384a27793b6",
   "metadata": {
    "tags": []
   },
   "outputs": [],
   "source": [
    "def plot_fitnesses():\n",
    "    for i in range(len(opt.population.individuals)):\n",
    "        plt.title(\"generation \" + str(opt.generation) + \" circuit \" + str(i+1) + \" fitness: \" + str(opt.population.individuals[i].get_fitness()))\n",
    "        plt.plot(opt.population.individuals[i].fitnesses)\n",
    "        plt.xlabel('iterations')\n",
    "        plt.ylabel('fitnesses')\n",
    "        directory1 = fitnesses_folder_name + str(opt.generation)\n",
    "        if not os.path.exists(directory1):\n",
    "            os.makedirs(directory1)\n",
    "        plt.scatter(opt.population.individuals[i].best_loss_idx, opt.population.individuals[i].fitnesses[opt.population.individuals[i].best_loss_idx],c='r')\n",
    "        plt.savefig(directory1 + '/circuit_' + str(i+1) +'_fitness.png', bbox_inches='tight')\n",
    "        plt.cla()\n",
    "        plt.close(\"all\")"
   ]
  },
  {
   "cell_type": "code",
   "execution_count": 25,
   "id": "9d7a38ed-a9b5-41ac-b756-d033da326ce8",
   "metadata": {},
   "outputs": [],
   "source": [
    "def plot_losses():\n",
    "    for i in range(len(opt.population.individuals)):\n",
    "        plt.title(\"generation \" + str(opt.generation) + \" circuit \" + str(i+1) + \" losses: \" + str(opt.population.individuals[i].losses[opt.population.individuals[i].best_loss_idx]))\n",
    "        plt.plot(opt.population.individuals[i].losses)\n",
    "        plt.xlabel('iterations')\n",
    "        plt.ylabel('losses')\n",
    "        directory1 = losses_folder_name + str(opt.generation)\n",
    "        if not os.path.exists(directory1):\n",
    "            os.makedirs(directory1)\n",
    "        plt.scatter(opt.population.individuals[i].best_loss_idx, opt.population.individuals[i].losses[opt.population.individuals[i].best_loss_idx],c='r')\n",
    "        plt.savefig(directory1 + '/circuit_' + str(i+1) +'_losses.png', bbox_inches='tight')\n",
    "        plt.cla()\n",
    "        plt.close(\"all\")\n"
   ]
  },
  {
   "cell_type": "code",
   "execution_count": 26,
   "id": "0ae6b1c8-6a0c-4c34-a2b3-59a23770f77d",
   "metadata": {},
   "outputs": [],
   "source": [
    "def draw_circuits(): \n",
    "    for i in range(len(opt.population.individuals)):\n",
    "        circuit = opt.population.individuals[i]\n",
    "        fig, ax = qml.draw_mpl(convert_tensor_to_circuit)(circuit.tensor, circuit.params, circuit.n_qubits, circuit.num_one_gates, circuit.num_two_gates)\n",
    "        title = \"generation \" + str(opt.generation) +  \" circuit \" + str(i+1) + \" fitness: \" + str(circuit.get_fitness())\n",
    "        ax.set_title(title)\n",
    "        directory2 = circuits_folder_name + str(opt.generation)\n",
    "        if not os.path.exists(directory2):\n",
    "            os.makedirs(directory2)\n",
    "        fig.savefig( directory2+ '/circuit_' + str(i+1) +'_circuit.png', bbox_inches='tight')\n",
    "        plt.close(\"all\")"
   ]
  },
  {
   "cell_type": "code",
   "execution_count": 27,
   "id": "a1c53493-4d85-46df-88e6-0ba547b5d84a",
   "metadata": {},
   "outputs": [],
   "source": [
    "offsprings_folder_name = folder_name+'offsprings_1D_fixedLR/generation_'"
   ]
  },
  {
   "cell_type": "code",
   "execution_count": 28,
   "id": "45280e70-36a9-4ca4-b10f-2fa8d2b4bd86",
   "metadata": {},
   "outputs": [],
   "source": [
    "def draw_and_save_offsprings():\n",
    "    for i in range(len(opt.offsprings.individuals)):\n",
    "        title = \"offspring \" + str(i+1) + \" generation \" + str(opt.generation) + \" fitness: \" + str(opt.offsprings.individuals[i].get_fitness())\n",
    "        circuit = opt.offsprings.individuals[i]\n",
    "        fig, ax = qml.draw_mpl(convert_tensor_to_circuit)(circuit.tensor, circuit.params, circuit.n_qubits, circuit.num_one_gates, circuit.num_two_gates)\n",
    "        ax.set_title(title)\n",
    "        directory = offsprings_folder_name + str(opt.generation)\n",
    "        if not os.path.exists(directory):\n",
    "            os.makedirs(directory)\n",
    "        fig.savefig(directory + '/offspring_' + str(i+1) +'.png', bbox_inches='tight')\n",
    "        plt.close(\"all\")\n",
    "        "
   ]
  },
  {
   "cell_type": "code",
   "execution_count": 29,
   "id": "532fb280-37b6-4f8b-84fa-ca3aab4b9ec3",
   "metadata": {},
   "outputs": [],
   "source": [
    "import setGPU"
   ]
  },
  {
   "cell_type": "code",
   "execution_count": 47,
   "id": "146b5f1d-4d8a-4e8e-9e84-3d253345b6f0",
   "metadata": {
    "tags": []
   },
   "outputs": [],
   "source": [
    "# plot_distribution()\n",
    "draw_circuits()\n",
    "plot_fitnesses()\n",
    "plot_losses()"
   ]
  },
  {
   "cell_type": "code",
   "execution_count": 32,
   "id": "4020127d-0cc2-4503-847e-cfbf8b136f46",
   "metadata": {},
   "outputs": [
    {
     "name": "stdout",
     "output_type": "stream",
     "text": [
      "Execution time multiprocessing 142.6723189353943\n",
      "Generation: 0 Fittest: 0.9685555420179918\n",
      "Execution time multiprocessing 50.62537860870361\n",
      "Generation: 1 Fittest: 0.9685555420179918\n",
      "Execution time multiprocessing 64.42996788024902\n",
      "Generation: 2 Fittest: 0.9685555420179918\n"
     ]
    },
    {
     "ename": "KeyboardInterrupt",
     "evalue": "",
     "output_type": "error",
     "traceback": [
      "\u001b[0;31m---------------------------------------------------------------------------\u001b[0m",
      "\u001b[0;31mKeyboardInterrupt\u001b[0m                         Traceback (most recent call last)",
      "Input \u001b[0;32mIn [32]\u001b[0m, in \u001b[0;36m<cell line: 6>\u001b[0;34m()\u001b[0m\n\u001b[1;32m     12\u001b[0m     \u001b[38;5;28;01mif\u001b[39;00m random\u001b[38;5;241m.\u001b[39mrandom() \u001b[38;5;241m<\u001b[39m \u001b[38;5;241m0.7\u001b[39m:\n\u001b[1;32m     13\u001b[0m         opt\u001b[38;5;241m.\u001b[39mmutate()\n\u001b[0;32m---> 15\u001b[0m \u001b[43mopt\u001b[49m\u001b[38;5;241;43m.\u001b[39;49m\u001b[43mtrain_offsprings\u001b[49m\u001b[43m(\u001b[49m\u001b[43m)\u001b[49m\n\u001b[1;32m     16\u001b[0m draw_and_save_offsprings()\n\u001b[1;32m     17\u001b[0m opt\u001b[38;5;241m.\u001b[39madd_offsprings()\n",
      "File \u001b[0;32m~/cernbox/optimizer_code/ansatz_optimizer_1D.py:425\u001b[0m, in \u001b[0;36mCircuitOptimizer.train_offsprings\u001b[0;34m(self)\u001b[0m\n\u001b[1;32m    424\u001b[0m \u001b[38;5;28;01mdef\u001b[39;00m \u001b[38;5;21mtrain_offsprings\u001b[39m(\u001b[38;5;28mself\u001b[39m):\n\u001b[0;32m--> 425\u001b[0m     \u001b[38;5;28;43mself\u001b[39;49m\u001b[38;5;241;43m.\u001b[39;49m\u001b[43moffsprings\u001b[49m\u001b[38;5;241;43m.\u001b[39;49m\u001b[43mtrain_all\u001b[49m\u001b[43m(\u001b[49m\u001b[43m)\u001b[49m\n",
      "File \u001b[0;32m~/cernbox/optimizer_code/ansatz_optimizer_1D.py:361\u001b[0m, in \u001b[0;36mPopulation.train_all\u001b[0;34m(self)\u001b[0m\n\u001b[1;32m    359\u001b[0m procs \u001b[38;5;241m=\u001b[39m []\n\u001b[1;32m    360\u001b[0m \u001b[38;5;28;01mfor\u001b[39;00m circuit \u001b[38;5;129;01min\u001b[39;00m \u001b[38;5;28mself\u001b[39m\u001b[38;5;241m.\u001b[39mindividuals:\n\u001b[0;32m--> 361\u001b[0m     proc \u001b[38;5;241m=\u001b[39m mp\u001b[38;5;241m.\u001b[39mProcess(target\u001b[38;5;241m=\u001b[39m\u001b[43mcircuit\u001b[49m\u001b[38;5;241;43m.\u001b[39;49m\u001b[43mtrain_fitness\u001b[49m\u001b[43m(\u001b[49m\u001b[43m)\u001b[49m)\n\u001b[1;32m    362\u001b[0m     procs\u001b[38;5;241m.\u001b[39mappend(proc)\n\u001b[1;32m    363\u001b[0m     proc\u001b[38;5;241m.\u001b[39mstart()\n",
      "File \u001b[0;32m~/cernbox/optimizer_code/ansatz_optimizer_1D.py:262\u001b[0m, in \u001b[0;36mIndividualCircuit.train_fitness\u001b[0;34m(self, n_steps, scheduled)\u001b[0m\n\u001b[1;32m    260\u001b[0m \u001b[38;5;28;01mdef\u001b[39;00m \u001b[38;5;21mtrain_fitness\u001b[39m(\u001b[38;5;28mself\u001b[39m, n_steps\u001b[38;5;241m=\u001b[39m\u001b[38;5;28;01mNone\u001b[39;00m, scheduled\u001b[38;5;241m=\u001b[39m\u001b[38;5;28;01mFalse\u001b[39;00m):\n\u001b[1;32m    261\u001b[0m     \u001b[38;5;66;03m# start_time = time.time()\u001b[39;00m\n\u001b[0;32m--> 262\u001b[0m     \u001b[38;5;28;43mself\u001b[39;49m\u001b[38;5;241;43m.\u001b[39;49m\u001b[43mtrain\u001b[49m\u001b[43m(\u001b[49m\u001b[43mconvert_tensor_to_circuit\u001b[49m\u001b[43m,\u001b[49m\u001b[43m \u001b[49m\u001b[43mn_steps\u001b[49m\u001b[43m,\u001b[49m\u001b[43m \u001b[49m\u001b[43mscheduled\u001b[49m\u001b[43m)\u001b[49m\n\u001b[1;32m    263\u001b[0m     \u001b[38;5;28mself\u001b[39m\u001b[38;5;241m.\u001b[39mfitness \u001b[38;5;241m=\u001b[39m \u001b[38;5;28mself\u001b[39m\u001b[38;5;241m.\u001b[39mfitnesses[\u001b[38;5;28mself\u001b[39m\u001b[38;5;241m.\u001b[39mbest_loss_idx]\n",
      "File \u001b[0;32m~/cernbox/optimizer_code/ansatz_optimizer_1D.py:208\u001b[0m, in \u001b[0;36mIndividualCircuit.train\u001b[0;34m(self, circuit, n_steps, scheduled)\u001b[0m\n\u001b[1;32m    206\u001b[0m \u001b[38;5;28;01mif\u001b[39;00m scheduled: \n\u001b[1;32m    207\u001b[0m     opt\u001b[38;5;241m=\u001b[39mscheduled_opt(\u001b[38;5;28mlen\u001b[39m(\u001b[38;5;28mself\u001b[39m\u001b[38;5;241m.\u001b[39mlosses))\n\u001b[0;32m--> 208\u001b[0m trained_params, L \u001b[38;5;241m=\u001b[39m \u001b[43mopt\u001b[49m\u001b[38;5;241;43m.\u001b[39;49m\u001b[43mstep_and_cost\u001b[49m\u001b[43m(\u001b[49m\u001b[38;5;28;43;01mlambda\u001b[39;49;00m\u001b[43m \u001b[49m\u001b[43mv\u001b[49m\u001b[43m:\u001b[49m\u001b[43m \u001b[49m\u001b[38;5;28;43mself\u001b[39;49m\u001b[38;5;241;43m.\u001b[39;49m\u001b[43mloss_1d\u001b[49m\u001b[43m(\u001b[49m\u001b[43mcircuit\u001b[49m\u001b[43m,\u001b[49m\u001b[43mv\u001b[49m\u001b[43m)\u001b[49m\u001b[43m,\u001b[49m\u001b[43m \u001b[49m\u001b[43mtrained_params\u001b[49m\u001b[43m)\u001b[49m\n\u001b[1;32m    209\u001b[0m lap \u001b[38;5;241m=\u001b[39m start \u001b[38;5;241m=\u001b[39m time\u001b[38;5;241m.\u001b[39mmktime(time\u001b[38;5;241m.\u001b[39mgmtime())\n\u001b[1;32m    210\u001b[0m step_time \u001b[38;5;241m=\u001b[39m lap \u001b[38;5;241m-\u001b[39m prelap\n",
      "File \u001b[0;32m/usr/local/lib/python3.8/site-packages/pennylane/optimize/gradient_descent.py:59\u001b[0m, in \u001b[0;36mGradientDescentOptimizer.step_and_cost\u001b[0;34m(self, objective_fn, grad_fn, *args, **kwargs)\u001b[0m\n\u001b[1;32m     39\u001b[0m \u001b[38;5;28;01mdef\u001b[39;00m \u001b[38;5;21mstep_and_cost\u001b[39m(\u001b[38;5;28mself\u001b[39m, objective_fn, \u001b[38;5;241m*\u001b[39margs, grad_fn\u001b[38;5;241m=\u001b[39m\u001b[38;5;28;01mNone\u001b[39;00m, \u001b[38;5;241m*\u001b[39m\u001b[38;5;241m*\u001b[39mkwargs):\n\u001b[1;32m     40\u001b[0m     \u001b[38;5;124;03m\"\"\"Update trainable arguments with one step of the optimizer and return the corresponding\u001b[39;00m\n\u001b[1;32m     41\u001b[0m \u001b[38;5;124;03m    objective function value prior to the step.\u001b[39;00m\n\u001b[1;32m     42\u001b[0m \n\u001b[0;32m   (...)\u001b[0m\n\u001b[1;32m     56\u001b[0m \u001b[38;5;124;03m        If single arg is provided, list [array] is replaced by array.\u001b[39;00m\n\u001b[1;32m     57\u001b[0m \u001b[38;5;124;03m    \"\"\"\u001b[39;00m\n\u001b[0;32m---> 59\u001b[0m     g, forward \u001b[38;5;241m=\u001b[39m \u001b[38;5;28;43mself\u001b[39;49m\u001b[38;5;241;43m.\u001b[39;49m\u001b[43mcompute_grad\u001b[49m\u001b[43m(\u001b[49m\u001b[43mobjective_fn\u001b[49m\u001b[43m,\u001b[49m\u001b[43m \u001b[49m\u001b[43margs\u001b[49m\u001b[43m,\u001b[49m\u001b[43m \u001b[49m\u001b[43mkwargs\u001b[49m\u001b[43m,\u001b[49m\u001b[43m \u001b[49m\u001b[43mgrad_fn\u001b[49m\u001b[38;5;241;43m=\u001b[39;49m\u001b[43mgrad_fn\u001b[49m\u001b[43m)\u001b[49m\n\u001b[1;32m     60\u001b[0m     new_args \u001b[38;5;241m=\u001b[39m \u001b[38;5;28mself\u001b[39m\u001b[38;5;241m.\u001b[39mapply_grad(g, args)\n\u001b[1;32m     62\u001b[0m     \u001b[38;5;28;01mif\u001b[39;00m forward \u001b[38;5;129;01mis\u001b[39;00m \u001b[38;5;28;01mNone\u001b[39;00m:\n",
      "File \u001b[0;32m/usr/local/lib/python3.8/site-packages/pennylane/optimize/gradient_descent.py:117\u001b[0m, in \u001b[0;36mGradientDescentOptimizer.compute_grad\u001b[0;34m(objective_fn, args, kwargs, grad_fn)\u001b[0m\n\u001b[1;32m     99\u001b[0m \u001b[38;5;124mr\u001b[39m\u001b[38;5;124;03m\"\"\"Compute gradient of the objective function at the given point and return it along with\u001b[39;00m\n\u001b[1;32m    100\u001b[0m \u001b[38;5;124;03mthe objective function forward pass (if available).\u001b[39;00m\n\u001b[1;32m    101\u001b[0m \n\u001b[0;32m   (...)\u001b[0m\n\u001b[1;32m    114\u001b[0m \u001b[38;5;124;03m    will not be evaluted and instead ``None`` will be returned.\u001b[39;00m\n\u001b[1;32m    115\u001b[0m \u001b[38;5;124;03m\"\"\"\u001b[39;00m\n\u001b[1;32m    116\u001b[0m g \u001b[38;5;241m=\u001b[39m get_gradient(objective_fn) \u001b[38;5;28;01mif\u001b[39;00m grad_fn \u001b[38;5;129;01mis\u001b[39;00m \u001b[38;5;28;01mNone\u001b[39;00m \u001b[38;5;28;01melse\u001b[39;00m grad_fn\n\u001b[0;32m--> 117\u001b[0m grad \u001b[38;5;241m=\u001b[39m \u001b[43mg\u001b[49m\u001b[43m(\u001b[49m\u001b[38;5;241;43m*\u001b[39;49m\u001b[43margs\u001b[49m\u001b[43m,\u001b[49m\u001b[43m \u001b[49m\u001b[38;5;241;43m*\u001b[39;49m\u001b[38;5;241;43m*\u001b[39;49m\u001b[43mkwargs\u001b[49m\u001b[43m)\u001b[49m\n\u001b[1;32m    118\u001b[0m forward \u001b[38;5;241m=\u001b[39m \u001b[38;5;28mgetattr\u001b[39m(g, \u001b[38;5;124m\"\u001b[39m\u001b[38;5;124mforward\u001b[39m\u001b[38;5;124m\"\u001b[39m, \u001b[38;5;28;01mNone\u001b[39;00m)\n\u001b[1;32m    120\u001b[0m num_trainable_args \u001b[38;5;241m=\u001b[39m \u001b[38;5;28msum\u001b[39m(\u001b[38;5;28mgetattr\u001b[39m(arg, \u001b[38;5;124m\"\u001b[39m\u001b[38;5;124mrequires_grad\u001b[39m\u001b[38;5;124m\"\u001b[39m, \u001b[38;5;28;01mFalse\u001b[39;00m) \u001b[38;5;28;01mfor\u001b[39;00m arg \u001b[38;5;129;01min\u001b[39;00m args)\n",
      "File \u001b[0;32m/usr/local/lib/python3.8/site-packages/pennylane/_grad.py:115\u001b[0m, in \u001b[0;36mgrad.__call__\u001b[0;34m(self, *args, **kwargs)\u001b[0m\n\u001b[1;32m    112\u001b[0m     \u001b[38;5;28mself\u001b[39m\u001b[38;5;241m.\u001b[39m_forward \u001b[38;5;241m=\u001b[39m \u001b[38;5;28mself\u001b[39m\u001b[38;5;241m.\u001b[39m_fun(\u001b[38;5;241m*\u001b[39margs, \u001b[38;5;241m*\u001b[39m\u001b[38;5;241m*\u001b[39mkwargs)\n\u001b[1;32m    113\u001b[0m     \u001b[38;5;28;01mreturn\u001b[39;00m ()\n\u001b[0;32m--> 115\u001b[0m grad_value, ans \u001b[38;5;241m=\u001b[39m \u001b[43mgrad_fn\u001b[49m\u001b[43m(\u001b[49m\u001b[38;5;241;43m*\u001b[39;49m\u001b[43margs\u001b[49m\u001b[43m,\u001b[49m\u001b[43m \u001b[49m\u001b[38;5;241;43m*\u001b[39;49m\u001b[38;5;241;43m*\u001b[39;49m\u001b[43mkwargs\u001b[49m\u001b[43m)\u001b[49m\n\u001b[1;32m    116\u001b[0m \u001b[38;5;28mself\u001b[39m\u001b[38;5;241m.\u001b[39m_forward \u001b[38;5;241m=\u001b[39m ans\n\u001b[1;32m    118\u001b[0m \u001b[38;5;28;01mreturn\u001b[39;00m grad_value\n",
      "File \u001b[0;32m/usr/local/lib/python3.8/site-packages/autograd/wrap_util.py:20\u001b[0m, in \u001b[0;36munary_to_nary.<locals>.nary_operator.<locals>.nary_f\u001b[0;34m(*args, **kwargs)\u001b[0m\n\u001b[1;32m     18\u001b[0m \u001b[38;5;28;01melse\u001b[39;00m:\n\u001b[1;32m     19\u001b[0m     x \u001b[38;5;241m=\u001b[39m \u001b[38;5;28mtuple\u001b[39m(args[i] \u001b[38;5;28;01mfor\u001b[39;00m i \u001b[38;5;129;01min\u001b[39;00m argnum)\n\u001b[0;32m---> 20\u001b[0m \u001b[38;5;28;01mreturn\u001b[39;00m \u001b[43munary_operator\u001b[49m\u001b[43m(\u001b[49m\u001b[43munary_f\u001b[49m\u001b[43m,\u001b[49m\u001b[43m \u001b[49m\u001b[43mx\u001b[49m\u001b[43m,\u001b[49m\u001b[43m \u001b[49m\u001b[38;5;241;43m*\u001b[39;49m\u001b[43mnary_op_args\u001b[49m\u001b[43m,\u001b[49m\u001b[43m \u001b[49m\u001b[38;5;241;43m*\u001b[39;49m\u001b[38;5;241;43m*\u001b[39;49m\u001b[43mnary_op_kwargs\u001b[49m\u001b[43m)\u001b[49m\n",
      "File \u001b[0;32m/usr/local/lib/python3.8/site-packages/pennylane/_grad.py:141\u001b[0m, in \u001b[0;36mgrad._grad_with_forward\u001b[0;34m(fun, x)\u001b[0m\n\u001b[1;32m    135\u001b[0m \u001b[38;5;28;01mif\u001b[39;00m \u001b[38;5;129;01mnot\u001b[39;00m vspace(ans)\u001b[38;5;241m.\u001b[39msize \u001b[38;5;241m==\u001b[39m \u001b[38;5;241m1\u001b[39m:\n\u001b[1;32m    136\u001b[0m     \u001b[38;5;28;01mraise\u001b[39;00m \u001b[38;5;167;01mTypeError\u001b[39;00m(\n\u001b[1;32m    137\u001b[0m         \u001b[38;5;124m\"\u001b[39m\u001b[38;5;124mGrad only applies to real scalar-output functions. \u001b[39m\u001b[38;5;124m\"\u001b[39m\n\u001b[1;32m    138\u001b[0m         \u001b[38;5;124m\"\u001b[39m\u001b[38;5;124mTry jacobian, elementwise_grad or holomorphic_grad.\u001b[39m\u001b[38;5;124m\"\u001b[39m\n\u001b[1;32m    139\u001b[0m     )\n\u001b[0;32m--> 141\u001b[0m grad_value \u001b[38;5;241m=\u001b[39m \u001b[43mvjp\u001b[49m\u001b[43m(\u001b[49m\u001b[43mvspace\u001b[49m\u001b[43m(\u001b[49m\u001b[43mans\u001b[49m\u001b[43m)\u001b[49m\u001b[38;5;241;43m.\u001b[39;49m\u001b[43mones\u001b[49m\u001b[43m(\u001b[49m\u001b[43m)\u001b[49m\u001b[43m)\u001b[49m\n\u001b[1;32m    142\u001b[0m \u001b[38;5;28;01mreturn\u001b[39;00m grad_value, ans\n",
      "File \u001b[0;32m/usr/local/lib/python3.8/site-packages/autograd/core.py:14\u001b[0m, in \u001b[0;36mmake_vjp.<locals>.vjp\u001b[0;34m(g)\u001b[0m\n\u001b[0;32m---> 14\u001b[0m \u001b[38;5;28;01mdef\u001b[39;00m \u001b[38;5;21mvjp\u001b[39m(g): \u001b[38;5;28;01mreturn\u001b[39;00m \u001b[43mbackward_pass\u001b[49m\u001b[43m(\u001b[49m\u001b[43mg\u001b[49m\u001b[43m,\u001b[49m\u001b[43m \u001b[49m\u001b[43mend_node\u001b[49m\u001b[43m)\u001b[49m\n",
      "File \u001b[0;32m/usr/local/lib/python3.8/site-packages/autograd/core.py:21\u001b[0m, in \u001b[0;36mbackward_pass\u001b[0;34m(g, end_node)\u001b[0m\n\u001b[1;32m     19\u001b[0m \u001b[38;5;28;01mfor\u001b[39;00m node \u001b[38;5;129;01min\u001b[39;00m toposort(end_node):\n\u001b[1;32m     20\u001b[0m     outgrad \u001b[38;5;241m=\u001b[39m outgrads\u001b[38;5;241m.\u001b[39mpop(node)\n\u001b[0;32m---> 21\u001b[0m     ingrads \u001b[38;5;241m=\u001b[39m \u001b[43mnode\u001b[49m\u001b[38;5;241;43m.\u001b[39;49m\u001b[43mvjp\u001b[49m\u001b[43m(\u001b[49m\u001b[43moutgrad\u001b[49m\u001b[43m[\u001b[49m\u001b[38;5;241;43m0\u001b[39;49m\u001b[43m]\u001b[49m\u001b[43m)\u001b[49m\n\u001b[1;32m     22\u001b[0m     \u001b[38;5;28;01mfor\u001b[39;00m parent, ingrad \u001b[38;5;129;01min\u001b[39;00m \u001b[38;5;28mzip\u001b[39m(node\u001b[38;5;241m.\u001b[39mparents, ingrads):\n\u001b[1;32m     23\u001b[0m         outgrads[parent] \u001b[38;5;241m=\u001b[39m add_outgrads(outgrads\u001b[38;5;241m.\u001b[39mget(parent), ingrad)\n",
      "File \u001b[0;32m/usr/local/lib/python3.8/site-packages/autograd/core.py:67\u001b[0m, in \u001b[0;36mdefvjp.<locals>.vjp_argnums.<locals>.<lambda>\u001b[0;34m(g)\u001b[0m\n\u001b[1;32m     64\u001b[0m         \u001b[38;5;28;01mraise\u001b[39;00m \u001b[38;5;167;01mNotImplementedError\u001b[39;00m(\n\u001b[1;32m     65\u001b[0m             \u001b[38;5;124m\"\u001b[39m\u001b[38;5;124mVJP of \u001b[39m\u001b[38;5;132;01m{}\u001b[39;00m\u001b[38;5;124m wrt argnum 0 not defined\u001b[39m\u001b[38;5;124m\"\u001b[39m\u001b[38;5;241m.\u001b[39mformat(fun\u001b[38;5;241m.\u001b[39m\u001b[38;5;18m__name__\u001b[39m))\n\u001b[1;32m     66\u001b[0m     vjp \u001b[38;5;241m=\u001b[39m vjpfun(ans, \u001b[38;5;241m*\u001b[39margs, \u001b[38;5;241m*\u001b[39m\u001b[38;5;241m*\u001b[39mkwargs)\n\u001b[0;32m---> 67\u001b[0m     \u001b[38;5;28;01mreturn\u001b[39;00m \u001b[38;5;28;01mlambda\u001b[39;00m g: (\u001b[43mvjp\u001b[49m\u001b[43m(\u001b[49m\u001b[43mg\u001b[49m\u001b[43m)\u001b[49m,)\n\u001b[1;32m     68\u001b[0m \u001b[38;5;28;01melif\u001b[39;00m L \u001b[38;5;241m==\u001b[39m \u001b[38;5;241m2\u001b[39m:\n\u001b[1;32m     69\u001b[0m     argnum_0, argnum_1 \u001b[38;5;241m=\u001b[39m argnums\n",
      "File \u001b[0;32m/usr/local/lib/python3.8/site-packages/pennylane/interfaces/autograd.py:198\u001b[0m, in \u001b[0;36mvjp.<locals>.grad_fn\u001b[0;34m(dy)\u001b[0m\n\u001b[1;32m    189\u001b[0m     \u001b[38;5;28;01mwith\u001b[39;00m qml\u001b[38;5;241m.\u001b[39mtape\u001b[38;5;241m.\u001b[39mUnwrap(\u001b[38;5;241m*\u001b[39mtapes):\n\u001b[1;32m    190\u001b[0m         vjp_tapes, processing_fn \u001b[38;5;241m=\u001b[39m qml\u001b[38;5;241m.\u001b[39mgradients\u001b[38;5;241m.\u001b[39mbatch_vjp(\n\u001b[1;32m    191\u001b[0m             tapes,\n\u001b[1;32m    192\u001b[0m             dy,\n\u001b[0;32m   (...)\u001b[0m\n\u001b[1;32m    195\u001b[0m             gradient_kwargs\u001b[38;5;241m=\u001b[39mgradient_kwargs,\n\u001b[1;32m    196\u001b[0m         )\n\u001b[0;32m--> 198\u001b[0m         vjps \u001b[38;5;241m=\u001b[39m processing_fn(\u001b[43mexecute_fn\u001b[49m\u001b[43m(\u001b[49m\u001b[43mvjp_tapes\u001b[49m\u001b[43m)\u001b[49m[\u001b[38;5;241m0\u001b[39m])\n\u001b[1;32m    200\u001b[0m \u001b[38;5;28;01melse\u001b[39;00m:\n\u001b[1;32m    201\u001b[0m     vjp_tapes, processing_fn \u001b[38;5;241m=\u001b[39m qml\u001b[38;5;241m.\u001b[39mgradients\u001b[38;5;241m.\u001b[39mbatch_vjp(\n\u001b[1;32m    202\u001b[0m         tapes, dy, gradient_fn, reduction\u001b[38;5;241m=\u001b[39m\u001b[38;5;124m\"\u001b[39m\u001b[38;5;124mappend\u001b[39m\u001b[38;5;124m\"\u001b[39m, gradient_kwargs\u001b[38;5;241m=\u001b[39mgradient_kwargs\n\u001b[1;32m    203\u001b[0m     )\n",
      "File \u001b[0;32m/usr/local/lib/python3.8/site-packages/pennylane/interfaces/execution.py:172\u001b[0m, in \u001b[0;36mcache_execute.<locals>.wrapper\u001b[0;34m(tapes, **kwargs)\u001b[0m\n\u001b[1;32m    168\u001b[0m         \u001b[38;5;28;01mreturn\u001b[39;00m (res, []) \u001b[38;5;28;01mif\u001b[39;00m return_tuple \u001b[38;5;28;01melse\u001b[39;00m res\n\u001b[1;32m    170\u001b[0m \u001b[38;5;28;01melse\u001b[39;00m:\n\u001b[1;32m    171\u001b[0m     \u001b[38;5;66;03m# execute all unique tapes that do not exist in the cache\u001b[39;00m\n\u001b[0;32m--> 172\u001b[0m     res \u001b[38;5;241m=\u001b[39m \u001b[43mfn\u001b[49m\u001b[43m(\u001b[49m\u001b[43mexecution_tapes\u001b[49m\u001b[38;5;241;43m.\u001b[39;49m\u001b[43mvalues\u001b[49m\u001b[43m(\u001b[49m\u001b[43m)\u001b[49m\u001b[43m,\u001b[49m\u001b[43m \u001b[49m\u001b[38;5;241;43m*\u001b[39;49m\u001b[38;5;241;43m*\u001b[39;49m\u001b[43mkwargs\u001b[49m\u001b[43m)\u001b[49m\n\u001b[1;32m    174\u001b[0m final_res \u001b[38;5;241m=\u001b[39m []\n\u001b[1;32m    176\u001b[0m \u001b[38;5;28;01mfor\u001b[39;00m i, tape \u001b[38;5;129;01min\u001b[39;00m \u001b[38;5;28menumerate\u001b[39m(tapes):\n",
      "File \u001b[0;32m/usr/local/lib/python3.8/site-packages/pennylane/interfaces/execution.py:97\u001b[0m, in \u001b[0;36mcache_execute.<locals>.fn\u001b[0;34m(tapes, **kwargs)\u001b[0m\n\u001b[1;32m     95\u001b[0m \u001b[38;5;28;01mdef\u001b[39;00m \u001b[38;5;21mfn\u001b[39m(tapes, \u001b[38;5;241m*\u001b[39m\u001b[38;5;241m*\u001b[39mkwargs):  \u001b[38;5;66;03m# pylint: disable=function-redefined\u001b[39;00m\n\u001b[1;32m     96\u001b[0m     tapes \u001b[38;5;241m=\u001b[39m [expand_fn(tape) \u001b[38;5;28;01mfor\u001b[39;00m tape \u001b[38;5;129;01min\u001b[39;00m tapes]\n\u001b[0;32m---> 97\u001b[0m     \u001b[38;5;28;01mreturn\u001b[39;00m \u001b[43moriginal_fn\u001b[49m\u001b[43m(\u001b[49m\u001b[43mtapes\u001b[49m\u001b[43m,\u001b[49m\u001b[43m \u001b[49m\u001b[38;5;241;43m*\u001b[39;49m\u001b[38;5;241;43m*\u001b[39;49m\u001b[43mkwargs\u001b[49m\u001b[43m)\u001b[49m\n",
      "File \u001b[0;32m/usr/lib64/python3.8/contextlib.py:75\u001b[0m, in \u001b[0;36mContextDecorator.__call__.<locals>.inner\u001b[0;34m(*args, **kwds)\u001b[0m\n\u001b[1;32m     72\u001b[0m \u001b[38;5;129m@wraps\u001b[39m(func)\n\u001b[1;32m     73\u001b[0m \u001b[38;5;28;01mdef\u001b[39;00m \u001b[38;5;21minner\u001b[39m(\u001b[38;5;241m*\u001b[39margs, \u001b[38;5;241m*\u001b[39m\u001b[38;5;241m*\u001b[39mkwds):\n\u001b[1;32m     74\u001b[0m     \u001b[38;5;28;01mwith\u001b[39;00m \u001b[38;5;28mself\u001b[39m\u001b[38;5;241m.\u001b[39m_recreate_cm():\n\u001b[0;32m---> 75\u001b[0m         \u001b[38;5;28;01mreturn\u001b[39;00m \u001b[43mfunc\u001b[49m\u001b[43m(\u001b[49m\u001b[38;5;241;43m*\u001b[39;49m\u001b[43margs\u001b[49m\u001b[43m,\u001b[49m\u001b[43m \u001b[49m\u001b[38;5;241;43m*\u001b[39;49m\u001b[38;5;241;43m*\u001b[39;49m\u001b[43mkwds\u001b[49m\u001b[43m)\u001b[49m\n",
      "File \u001b[0;32m/usr/local/lib/python3.8/site-packages/pennylane/_qubit_device.py:355\u001b[0m, in \u001b[0;36mQubitDevice.batch_execute\u001b[0;34m(self, circuits)\u001b[0m\n\u001b[1;32m    350\u001b[0m \u001b[38;5;28;01mfor\u001b[39;00m circuit \u001b[38;5;129;01min\u001b[39;00m circuits:\n\u001b[1;32m    351\u001b[0m     \u001b[38;5;66;03m# we need to reset the device here, else it will\u001b[39;00m\n\u001b[1;32m    352\u001b[0m     \u001b[38;5;66;03m# not start the next computation in the zero state\u001b[39;00m\n\u001b[1;32m    353\u001b[0m     \u001b[38;5;28mself\u001b[39m\u001b[38;5;241m.\u001b[39mreset()\n\u001b[0;32m--> 355\u001b[0m     res \u001b[38;5;241m=\u001b[39m \u001b[38;5;28;43mself\u001b[39;49m\u001b[38;5;241;43m.\u001b[39;49m\u001b[43mexecute\u001b[49m\u001b[43m(\u001b[49m\u001b[43mcircuit\u001b[49m\u001b[43m)\u001b[49m\n\u001b[1;32m    356\u001b[0m     results\u001b[38;5;241m.\u001b[39mappend(res)\n\u001b[1;32m    358\u001b[0m \u001b[38;5;28;01mif\u001b[39;00m \u001b[38;5;28mself\u001b[39m\u001b[38;5;241m.\u001b[39mtracker\u001b[38;5;241m.\u001b[39mactive:\n",
      "File \u001b[0;32m/usr/local/lib/python3.8/site-packages/pennylane/_qubit_device.py:261\u001b[0m, in \u001b[0;36mQubitDevice.execute\u001b[0;34m(self, circuit, **kwargs)\u001b[0m\n\u001b[1;32m    259\u001b[0m \u001b[38;5;66;03m# generate computational basis samples\u001b[39;00m\n\u001b[1;32m    260\u001b[0m \u001b[38;5;28;01mif\u001b[39;00m \u001b[38;5;28mself\u001b[39m\u001b[38;5;241m.\u001b[39mshots \u001b[38;5;129;01mis\u001b[39;00m \u001b[38;5;129;01mnot\u001b[39;00m \u001b[38;5;28;01mNone\u001b[39;00m \u001b[38;5;129;01mor\u001b[39;00m circuit\u001b[38;5;241m.\u001b[39mis_sampled:\n\u001b[0;32m--> 261\u001b[0m     \u001b[38;5;28mself\u001b[39m\u001b[38;5;241m.\u001b[39m_samples \u001b[38;5;241m=\u001b[39m \u001b[38;5;28;43mself\u001b[39;49m\u001b[38;5;241;43m.\u001b[39;49m\u001b[43mgenerate_samples\u001b[49m\u001b[43m(\u001b[49m\u001b[43m)\u001b[49m\n\u001b[1;32m    263\u001b[0m multiple_sampled_jobs \u001b[38;5;241m=\u001b[39m circuit\u001b[38;5;241m.\u001b[39mis_sampled \u001b[38;5;129;01mand\u001b[39;00m \u001b[38;5;28mself\u001b[39m\u001b[38;5;241m.\u001b[39m_has_partitioned_shots()\n\u001b[1;32m    265\u001b[0m \u001b[38;5;66;03m# compute the required statistics\u001b[39;00m\n",
      "File \u001b[0;32m/usr/local/lib/python3.8/site-packages/pennylane/_qubit_device.py:570\u001b[0m, in \u001b[0;36mQubitDevice.generate_samples\u001b[0;34m(self)\u001b[0m\n\u001b[1;32m    566\u001b[0m number_of_states \u001b[38;5;241m=\u001b[39m \u001b[38;5;241m2\u001b[39m\u001b[38;5;241m*\u001b[39m\u001b[38;5;241m*\u001b[39m\u001b[38;5;28mself\u001b[39m\u001b[38;5;241m.\u001b[39mnum_wires\n\u001b[1;32m    568\u001b[0m rotated_prob \u001b[38;5;241m=\u001b[39m \u001b[38;5;28mself\u001b[39m\u001b[38;5;241m.\u001b[39manalytic_probability()\n\u001b[0;32m--> 570\u001b[0m samples \u001b[38;5;241m=\u001b[39m \u001b[38;5;28;43mself\u001b[39;49m\u001b[38;5;241;43m.\u001b[39;49m\u001b[43msample_basis_states\u001b[49m\u001b[43m(\u001b[49m\u001b[43mnumber_of_states\u001b[49m\u001b[43m,\u001b[49m\u001b[43m \u001b[49m\u001b[43mrotated_prob\u001b[49m\u001b[43m)\u001b[49m\n\u001b[1;32m    571\u001b[0m \u001b[38;5;28;01mreturn\u001b[39;00m QubitDevice\u001b[38;5;241m.\u001b[39mstates_to_binary(samples, \u001b[38;5;28mself\u001b[39m\u001b[38;5;241m.\u001b[39mnum_wires)\n",
      "File \u001b[0;32m/usr/local/lib/python3.8/site-packages/pennylane/_qubit_device.py:595\u001b[0m, in \u001b[0;36mQubitDevice.sample_basis_states\u001b[0;34m(self, number_of_states, state_probability)\u001b[0m\n\u001b[1;32m    592\u001b[0m shots \u001b[38;5;241m=\u001b[39m \u001b[38;5;28mself\u001b[39m\u001b[38;5;241m.\u001b[39mshots\n\u001b[1;32m    594\u001b[0m basis_states \u001b[38;5;241m=\u001b[39m np\u001b[38;5;241m.\u001b[39marange(number_of_states)\n\u001b[0;32m--> 595\u001b[0m \u001b[38;5;28;01mreturn\u001b[39;00m \u001b[43mnp\u001b[49m\u001b[38;5;241;43m.\u001b[39;49m\u001b[43mrandom\u001b[49m\u001b[38;5;241;43m.\u001b[39;49m\u001b[43mchoice\u001b[49m\u001b[43m(\u001b[49m\u001b[43mbasis_states\u001b[49m\u001b[43m,\u001b[49m\u001b[43m \u001b[49m\u001b[43mshots\u001b[49m\u001b[43m,\u001b[49m\u001b[43m \u001b[49m\u001b[43mp\u001b[49m\u001b[38;5;241;43m=\u001b[39;49m\u001b[43mstate_probability\u001b[49m\u001b[43m)\u001b[49m\n",
      "File \u001b[0;32mmtrand.pyx:946\u001b[0m, in \u001b[0;36mnumpy.random.mtrand.RandomState.choice\u001b[0;34m()\u001b[0m\n",
      "File \u001b[0;32m<__array_function__ internals>:2\u001b[0m, in \u001b[0;36mprod\u001b[0;34m(*args, **kwargs)\u001b[0m\n",
      "\u001b[0;31mKeyboardInterrupt\u001b[0m: "
     ]
    }
   ],
   "source": [
    "pop_size = 20\n",
    "# opt = CircuitOptimizer(pop_size, probability_pt, num_one_gates, num_two_gates, max_moments, n_qubits)\n",
    "prior_fittest = opt.population.fittest\n",
    "prior_fitness = opt.population.fittest.get_fitness()\n",
    "\n",
    "for i in range(5):\n",
    "    opt.generation += 1\n",
    "    opt.selection()\n",
    "    opt.crossover()\n",
    "    \n",
    "    for i in range(4):\n",
    "        if random.random() < 0.7:\n",
    "            opt.mutate()\n",
    "            \n",
    "    opt.train_offsprings()\n",
    "    draw_and_save_offsprings()\n",
    "    opt.add_offsprings()\n",
    "    plot_distribution()\n",
    "    plot_fitnesses()\n",
    "    plot_losses()\n",
    "    draw_circuits()\n",
    "    opt.print_info()\n",
    "    \n",
    "    curr_max_fit = opt.population.fittest\n",
    "    curr_max_fitness = opt.population.fittest.get_fitness()\n",
    "    if curr_max_fitness == prior_fitness and not curr_max_fit.tensor == prior_fittest.tensor:\n",
    "        break\n",
    "    else:\n",
    "        prior_fittest = curr_max_fit\n",
    "        prior_fitness = curr_max_fitness"
   ]
  },
  {
   "cell_type": "code",
   "execution_count": 34,
   "id": "c0cadeb9-f5e0-42fa-966e-2b9d64363d18",
   "metadata": {},
   "outputs": [
    {
     "data": {
      "image/png": "[encoded data removed]",
      "text/plain": [
       "<Figure size 504x360 with 1 Axes>"
      ]
     },
     "metadata": {},
     "output_type": "display_data"
    }
   ],
   "source": [
    "prior_fittest.draw()"
   ]
  },
  {
   "cell_type": "code",
   "execution_count": 36,
   "id": "f88c8990-c355-48d2-9a31-9f1595f05a70",
   "metadata": {},
   "outputs": [
    {
     "data": {
      "text/plain": [
       "tensor(0.96855554, requires_grad=True)"
      ]
     },
     "execution_count": 36,
     "metadata": {},
     "output_type": "execute_result"
    }
   ],
   "source": [
    "prior_fittest.fitness"
   ]
  },
  {
   "cell_type": "code",
   "execution_count": 28,
   "id": "ec207d51-8db1-4b89-b3da-41eb4442a874",
   "metadata": {
    "tags": []
   },
   "outputs": [
    {
     "name": "stdout",
     "output_type": "stream",
     "text": [
      "Execution time multiprocessing 73.73105645179749\n",
      "Generation: 1 Fittest: 0.9981829592824661\n"
     ]
    },
    {
     "ename": "KeyboardInterrupt",
     "evalue": "",
     "output_type": "error",
     "traceback": [
      "\u001b[0;31m---------------------------------------------------------------------------\u001b[0m",
      "\u001b[0;31mKeyboardInterrupt\u001b[0m                         Traceback (most recent call last)",
      "Input \u001b[0;32mIn [28]\u001b[0m, in \u001b[0;36m<cell line: 1>\u001b[0;34m()\u001b[0m\n\u001b[1;32m      7\u001b[0m     \u001b[38;5;28;01mif\u001b[39;00m random\u001b[38;5;241m.\u001b[39mrandom() \u001b[38;5;241m<\u001b[39m \u001b[38;5;241m0.7\u001b[39m:\n\u001b[1;32m      8\u001b[0m         opt\u001b[38;5;241m.\u001b[39mmutate()\n\u001b[0;32m---> 10\u001b[0m \u001b[43mopt\u001b[49m\u001b[38;5;241;43m.\u001b[39;49m\u001b[43mtrain_offsprings\u001b[49m\u001b[43m(\u001b[49m\u001b[43m)\u001b[49m\n\u001b[1;32m     11\u001b[0m draw_and_save_offsprings()\n\u001b[1;32m     12\u001b[0m opt\u001b[38;5;241m.\u001b[39madd_offsprings()\n",
      "File \u001b[0;32m~/cernbox/optimizer_code/ansatz_optimizer_1D.py:425\u001b[0m, in \u001b[0;36mCircuitOptimizer.train_offsprings\u001b[0;34m(self)\u001b[0m\n\u001b[1;32m    424\u001b[0m \u001b[38;5;28;01mdef\u001b[39;00m \u001b[38;5;21mtrain_offsprings\u001b[39m(\u001b[38;5;28mself\u001b[39m):\n\u001b[0;32m--> 425\u001b[0m     \u001b[38;5;28;43mself\u001b[39;49m\u001b[38;5;241;43m.\u001b[39;49m\u001b[43moffsprings\u001b[49m\u001b[38;5;241;43m.\u001b[39;49m\u001b[43mtrain_all\u001b[49m\u001b[43m(\u001b[49m\u001b[43m)\u001b[49m\n",
      "File \u001b[0;32m~/cernbox/optimizer_code/ansatz_optimizer_1D.py:361\u001b[0m, in \u001b[0;36mPopulation.train_all\u001b[0;34m(self)\u001b[0m\n\u001b[1;32m    359\u001b[0m procs \u001b[38;5;241m=\u001b[39m []\n\u001b[1;32m    360\u001b[0m \u001b[38;5;28;01mfor\u001b[39;00m circuit \u001b[38;5;129;01min\u001b[39;00m \u001b[38;5;28mself\u001b[39m\u001b[38;5;241m.\u001b[39mindividuals:\n\u001b[0;32m--> 361\u001b[0m     proc \u001b[38;5;241m=\u001b[39m mp\u001b[38;5;241m.\u001b[39mProcess(target\u001b[38;5;241m=\u001b[39m\u001b[43mcircuit\u001b[49m\u001b[38;5;241;43m.\u001b[39;49m\u001b[43mtrain_fitness\u001b[49m\u001b[43m(\u001b[49m\u001b[43m)\u001b[49m)\n\u001b[1;32m    362\u001b[0m     procs\u001b[38;5;241m.\u001b[39mappend(proc)\n\u001b[1;32m    363\u001b[0m     proc\u001b[38;5;241m.\u001b[39mstart()\n",
      "File \u001b[0;32m~/cernbox/optimizer_code/ansatz_optimizer_1D.py:262\u001b[0m, in \u001b[0;36mIndividualCircuit.train_fitness\u001b[0;34m(self, n_steps, scheduled)\u001b[0m\n\u001b[1;32m    260\u001b[0m \u001b[38;5;28;01mdef\u001b[39;00m \u001b[38;5;21mtrain_fitness\u001b[39m(\u001b[38;5;28mself\u001b[39m, n_steps\u001b[38;5;241m=\u001b[39m\u001b[38;5;28;01mNone\u001b[39;00m, scheduled\u001b[38;5;241m=\u001b[39m\u001b[38;5;28;01mFalse\u001b[39;00m):\n\u001b[1;32m    261\u001b[0m     \u001b[38;5;66;03m# start_time = time.time()\u001b[39;00m\n\u001b[0;32m--> 262\u001b[0m     \u001b[38;5;28;43mself\u001b[39;49m\u001b[38;5;241;43m.\u001b[39;49m\u001b[43mtrain\u001b[49m\u001b[43m(\u001b[49m\u001b[43mconvert_tensor_to_circuit\u001b[49m\u001b[43m,\u001b[49m\u001b[43m \u001b[49m\u001b[43mn_steps\u001b[49m\u001b[43m,\u001b[49m\u001b[43m \u001b[49m\u001b[43mscheduled\u001b[49m\u001b[43m)\u001b[49m\n\u001b[1;32m    263\u001b[0m     \u001b[38;5;28mself\u001b[39m\u001b[38;5;241m.\u001b[39mfitness \u001b[38;5;241m=\u001b[39m \u001b[38;5;28mself\u001b[39m\u001b[38;5;241m.\u001b[39mfitnesses[\u001b[38;5;28mself\u001b[39m\u001b[38;5;241m.\u001b[39mbest_loss_idx]\n",
      "File \u001b[0;32m~/cernbox/optimizer_code/ansatz_optimizer_1D.py:208\u001b[0m, in \u001b[0;36mIndividualCircuit.train\u001b[0;34m(self, circuit, n_steps, scheduled)\u001b[0m\n\u001b[1;32m    206\u001b[0m \u001b[38;5;28;01mif\u001b[39;00m scheduled: \n\u001b[1;32m    207\u001b[0m     opt\u001b[38;5;241m=\u001b[39mscheduled_opt(\u001b[38;5;28mlen\u001b[39m(\u001b[38;5;28mself\u001b[39m\u001b[38;5;241m.\u001b[39mlosses))\n\u001b[0;32m--> 208\u001b[0m trained_params, L \u001b[38;5;241m=\u001b[39m \u001b[43mopt\u001b[49m\u001b[38;5;241;43m.\u001b[39;49m\u001b[43mstep_and_cost\u001b[49m\u001b[43m(\u001b[49m\u001b[38;5;28;43;01mlambda\u001b[39;49;00m\u001b[43m \u001b[49m\u001b[43mv\u001b[49m\u001b[43m:\u001b[49m\u001b[43m \u001b[49m\u001b[38;5;28;43mself\u001b[39;49m\u001b[38;5;241;43m.\u001b[39;49m\u001b[43mloss_1d\u001b[49m\u001b[43m(\u001b[49m\u001b[43mcircuit\u001b[49m\u001b[43m,\u001b[49m\u001b[43mv\u001b[49m\u001b[43m)\u001b[49m\u001b[43m,\u001b[49m\u001b[43m \u001b[49m\u001b[43mtrained_params\u001b[49m\u001b[43m)\u001b[49m\n\u001b[1;32m    209\u001b[0m lap \u001b[38;5;241m=\u001b[39m start \u001b[38;5;241m=\u001b[39m time\u001b[38;5;241m.\u001b[39mmktime(time\u001b[38;5;241m.\u001b[39mgmtime())\n\u001b[1;32m    210\u001b[0m step_time \u001b[38;5;241m=\u001b[39m lap \u001b[38;5;241m-\u001b[39m prelap\n",
      "File \u001b[0;32m/usr/local/lib/python3.8/site-packages/pennylane/optimize/gradient_descent.py:59\u001b[0m, in \u001b[0;36mGradientDescentOptimizer.step_and_cost\u001b[0;34m(self, objective_fn, grad_fn, *args, **kwargs)\u001b[0m\n\u001b[1;32m     39\u001b[0m \u001b[38;5;28;01mdef\u001b[39;00m \u001b[38;5;21mstep_and_cost\u001b[39m(\u001b[38;5;28mself\u001b[39m, objective_fn, \u001b[38;5;241m*\u001b[39margs, grad_fn\u001b[38;5;241m=\u001b[39m\u001b[38;5;28;01mNone\u001b[39;00m, \u001b[38;5;241m*\u001b[39m\u001b[38;5;241m*\u001b[39mkwargs):\n\u001b[1;32m     40\u001b[0m     \u001b[38;5;124;03m\"\"\"Update trainable arguments with one step of the optimizer and return the corresponding\u001b[39;00m\n\u001b[1;32m     41\u001b[0m \u001b[38;5;124;03m    objective function value prior to the step.\u001b[39;00m\n\u001b[1;32m     42\u001b[0m \n\u001b[0;32m   (...)\u001b[0m\n\u001b[1;32m     56\u001b[0m \u001b[38;5;124;03m        If single arg is provided, list [array] is replaced by array.\u001b[39;00m\n\u001b[1;32m     57\u001b[0m \u001b[38;5;124;03m    \"\"\"\u001b[39;00m\n\u001b[0;32m---> 59\u001b[0m     g, forward \u001b[38;5;241m=\u001b[39m \u001b[38;5;28;43mself\u001b[39;49m\u001b[38;5;241;43m.\u001b[39;49m\u001b[43mcompute_grad\u001b[49m\u001b[43m(\u001b[49m\u001b[43mobjective_fn\u001b[49m\u001b[43m,\u001b[49m\u001b[43m \u001b[49m\u001b[43margs\u001b[49m\u001b[43m,\u001b[49m\u001b[43m \u001b[49m\u001b[43mkwargs\u001b[49m\u001b[43m,\u001b[49m\u001b[43m \u001b[49m\u001b[43mgrad_fn\u001b[49m\u001b[38;5;241;43m=\u001b[39;49m\u001b[43mgrad_fn\u001b[49m\u001b[43m)\u001b[49m\n\u001b[1;32m     60\u001b[0m     new_args \u001b[38;5;241m=\u001b[39m \u001b[38;5;28mself\u001b[39m\u001b[38;5;241m.\u001b[39mapply_grad(g, args)\n\u001b[1;32m     62\u001b[0m     \u001b[38;5;28;01mif\u001b[39;00m forward \u001b[38;5;129;01mis\u001b[39;00m \u001b[38;5;28;01mNone\u001b[39;00m:\n",
      "File \u001b[0;32m/usr/local/lib/python3.8/site-packages/pennylane/optimize/gradient_descent.py:117\u001b[0m, in \u001b[0;36mGradientDescentOptimizer.compute_grad\u001b[0;34m(objective_fn, args, kwargs, grad_fn)\u001b[0m\n\u001b[1;32m     99\u001b[0m \u001b[38;5;124mr\u001b[39m\u001b[38;5;124;03m\"\"\"Compute gradient of the objective function at the given point and return it along with\u001b[39;00m\n\u001b[1;32m    100\u001b[0m \u001b[38;5;124;03mthe objective function forward pass (if available).\u001b[39;00m\n\u001b[1;32m    101\u001b[0m \n\u001b[0;32m   (...)\u001b[0m\n\u001b[1;32m    114\u001b[0m \u001b[38;5;124;03m    will not be evaluted and instead ``None`` will be returned.\u001b[39;00m\n\u001b[1;32m    115\u001b[0m \u001b[38;5;124;03m\"\"\"\u001b[39;00m\n\u001b[1;32m    116\u001b[0m g \u001b[38;5;241m=\u001b[39m get_gradient(objective_fn) \u001b[38;5;28;01mif\u001b[39;00m grad_fn \u001b[38;5;129;01mis\u001b[39;00m \u001b[38;5;28;01mNone\u001b[39;00m \u001b[38;5;28;01melse\u001b[39;00m grad_fn\n\u001b[0;32m--> 117\u001b[0m grad \u001b[38;5;241m=\u001b[39m \u001b[43mg\u001b[49m\u001b[43m(\u001b[49m\u001b[38;5;241;43m*\u001b[39;49m\u001b[43margs\u001b[49m\u001b[43m,\u001b[49m\u001b[43m \u001b[49m\u001b[38;5;241;43m*\u001b[39;49m\u001b[38;5;241;43m*\u001b[39;49m\u001b[43mkwargs\u001b[49m\u001b[43m)\u001b[49m\n\u001b[1;32m    118\u001b[0m forward \u001b[38;5;241m=\u001b[39m \u001b[38;5;28mgetattr\u001b[39m(g, \u001b[38;5;124m\"\u001b[39m\u001b[38;5;124mforward\u001b[39m\u001b[38;5;124m\"\u001b[39m, \u001b[38;5;28;01mNone\u001b[39;00m)\n\u001b[1;32m    120\u001b[0m num_trainable_args \u001b[38;5;241m=\u001b[39m \u001b[38;5;28msum\u001b[39m(\u001b[38;5;28mgetattr\u001b[39m(arg, \u001b[38;5;124m\"\u001b[39m\u001b[38;5;124mrequires_grad\u001b[39m\u001b[38;5;124m\"\u001b[39m, \u001b[38;5;28;01mFalse\u001b[39;00m) \u001b[38;5;28;01mfor\u001b[39;00m arg \u001b[38;5;129;01min\u001b[39;00m args)\n",
      "File \u001b[0;32m/usr/local/lib/python3.8/site-packages/pennylane/_grad.py:115\u001b[0m, in \u001b[0;36mgrad.__call__\u001b[0;34m(self, *args, **kwargs)\u001b[0m\n\u001b[1;32m    112\u001b[0m     \u001b[38;5;28mself\u001b[39m\u001b[38;5;241m.\u001b[39m_forward \u001b[38;5;241m=\u001b[39m \u001b[38;5;28mself\u001b[39m\u001b[38;5;241m.\u001b[39m_fun(\u001b[38;5;241m*\u001b[39margs, \u001b[38;5;241m*\u001b[39m\u001b[38;5;241m*\u001b[39mkwargs)\n\u001b[1;32m    113\u001b[0m     \u001b[38;5;28;01mreturn\u001b[39;00m ()\n\u001b[0;32m--> 115\u001b[0m grad_value, ans \u001b[38;5;241m=\u001b[39m \u001b[43mgrad_fn\u001b[49m\u001b[43m(\u001b[49m\u001b[38;5;241;43m*\u001b[39;49m\u001b[43margs\u001b[49m\u001b[43m,\u001b[49m\u001b[43m \u001b[49m\u001b[38;5;241;43m*\u001b[39;49m\u001b[38;5;241;43m*\u001b[39;49m\u001b[43mkwargs\u001b[49m\u001b[43m)\u001b[49m\n\u001b[1;32m    116\u001b[0m \u001b[38;5;28mself\u001b[39m\u001b[38;5;241m.\u001b[39m_forward \u001b[38;5;241m=\u001b[39m ans\n\u001b[1;32m    118\u001b[0m \u001b[38;5;28;01mreturn\u001b[39;00m grad_value\n",
      "File \u001b[0;32m/usr/local/lib/python3.8/site-packages/autograd/wrap_util.py:20\u001b[0m, in \u001b[0;36munary_to_nary.<locals>.nary_operator.<locals>.nary_f\u001b[0;34m(*args, **kwargs)\u001b[0m\n\u001b[1;32m     18\u001b[0m \u001b[38;5;28;01melse\u001b[39;00m:\n\u001b[1;32m     19\u001b[0m     x \u001b[38;5;241m=\u001b[39m \u001b[38;5;28mtuple\u001b[39m(args[i] \u001b[38;5;28;01mfor\u001b[39;00m i \u001b[38;5;129;01min\u001b[39;00m argnum)\n\u001b[0;32m---> 20\u001b[0m \u001b[38;5;28;01mreturn\u001b[39;00m \u001b[43munary_operator\u001b[49m\u001b[43m(\u001b[49m\u001b[43munary_f\u001b[49m\u001b[43m,\u001b[49m\u001b[43m \u001b[49m\u001b[43mx\u001b[49m\u001b[43m,\u001b[49m\u001b[43m \u001b[49m\u001b[38;5;241;43m*\u001b[39;49m\u001b[43mnary_op_args\u001b[49m\u001b[43m,\u001b[49m\u001b[43m \u001b[49m\u001b[38;5;241;43m*\u001b[39;49m\u001b[38;5;241;43m*\u001b[39;49m\u001b[43mnary_op_kwargs\u001b[49m\u001b[43m)\u001b[49m\n",
      "File \u001b[0;32m/usr/local/lib/python3.8/site-packages/pennylane/_grad.py:141\u001b[0m, in \u001b[0;36mgrad._grad_with_forward\u001b[0;34m(fun, x)\u001b[0m\n\u001b[1;32m    135\u001b[0m \u001b[38;5;28;01mif\u001b[39;00m \u001b[38;5;129;01mnot\u001b[39;00m vspace(ans)\u001b[38;5;241m.\u001b[39msize \u001b[38;5;241m==\u001b[39m \u001b[38;5;241m1\u001b[39m:\n\u001b[1;32m    136\u001b[0m     \u001b[38;5;28;01mraise\u001b[39;00m \u001b[38;5;167;01mTypeError\u001b[39;00m(\n\u001b[1;32m    137\u001b[0m         \u001b[38;5;124m\"\u001b[39m\u001b[38;5;124mGrad only applies to real scalar-output functions. \u001b[39m\u001b[38;5;124m\"\u001b[39m\n\u001b[1;32m    138\u001b[0m         \u001b[38;5;124m\"\u001b[39m\u001b[38;5;124mTry jacobian, elementwise_grad or holomorphic_grad.\u001b[39m\u001b[38;5;124m\"\u001b[39m\n\u001b[1;32m    139\u001b[0m     )\n\u001b[0;32m--> 141\u001b[0m grad_value \u001b[38;5;241m=\u001b[39m \u001b[43mvjp\u001b[49m\u001b[43m(\u001b[49m\u001b[43mvspace\u001b[49m\u001b[43m(\u001b[49m\u001b[43mans\u001b[49m\u001b[43m)\u001b[49m\u001b[38;5;241;43m.\u001b[39;49m\u001b[43mones\u001b[49m\u001b[43m(\u001b[49m\u001b[43m)\u001b[49m\u001b[43m)\u001b[49m\n\u001b[1;32m    142\u001b[0m \u001b[38;5;28;01mreturn\u001b[39;00m grad_value, ans\n",
      "File \u001b[0;32m/usr/local/lib/python3.8/site-packages/autograd/core.py:14\u001b[0m, in \u001b[0;36mmake_vjp.<locals>.vjp\u001b[0;34m(g)\u001b[0m\n\u001b[0;32m---> 14\u001b[0m \u001b[38;5;28;01mdef\u001b[39;00m \u001b[38;5;21mvjp\u001b[39m(g): \u001b[38;5;28;01mreturn\u001b[39;00m \u001b[43mbackward_pass\u001b[49m\u001b[43m(\u001b[49m\u001b[43mg\u001b[49m\u001b[43m,\u001b[49m\u001b[43m \u001b[49m\u001b[43mend_node\u001b[49m\u001b[43m)\u001b[49m\n",
      "File \u001b[0;32m/usr/local/lib/python3.8/site-packages/autograd/core.py:21\u001b[0m, in \u001b[0;36mbackward_pass\u001b[0;34m(g, end_node)\u001b[0m\n\u001b[1;32m     19\u001b[0m \u001b[38;5;28;01mfor\u001b[39;00m node \u001b[38;5;129;01min\u001b[39;00m toposort(end_node):\n\u001b[1;32m     20\u001b[0m     outgrad \u001b[38;5;241m=\u001b[39m outgrads\u001b[38;5;241m.\u001b[39mpop(node)\n\u001b[0;32m---> 21\u001b[0m     ingrads \u001b[38;5;241m=\u001b[39m \u001b[43mnode\u001b[49m\u001b[38;5;241;43m.\u001b[39;49m\u001b[43mvjp\u001b[49m\u001b[43m(\u001b[49m\u001b[43moutgrad\u001b[49m\u001b[43m[\u001b[49m\u001b[38;5;241;43m0\u001b[39;49m\u001b[43m]\u001b[49m\u001b[43m)\u001b[49m\n\u001b[1;32m     22\u001b[0m     \u001b[38;5;28;01mfor\u001b[39;00m parent, ingrad \u001b[38;5;129;01min\u001b[39;00m \u001b[38;5;28mzip\u001b[39m(node\u001b[38;5;241m.\u001b[39mparents, ingrads):\n\u001b[1;32m     23\u001b[0m         outgrads[parent] \u001b[38;5;241m=\u001b[39m add_outgrads(outgrads\u001b[38;5;241m.\u001b[39mget(parent), ingrad)\n",
      "File \u001b[0;32m/usr/local/lib/python3.8/site-packages/autograd/core.py:67\u001b[0m, in \u001b[0;36mdefvjp.<locals>.vjp_argnums.<locals>.<lambda>\u001b[0;34m(g)\u001b[0m\n\u001b[1;32m     64\u001b[0m         \u001b[38;5;28;01mraise\u001b[39;00m \u001b[38;5;167;01mNotImplementedError\u001b[39;00m(\n\u001b[1;32m     65\u001b[0m             \u001b[38;5;124m\"\u001b[39m\u001b[38;5;124mVJP of \u001b[39m\u001b[38;5;132;01m{}\u001b[39;00m\u001b[38;5;124m wrt argnum 0 not defined\u001b[39m\u001b[38;5;124m\"\u001b[39m\u001b[38;5;241m.\u001b[39mformat(fun\u001b[38;5;241m.\u001b[39m\u001b[38;5;18m__name__\u001b[39m))\n\u001b[1;32m     66\u001b[0m     vjp \u001b[38;5;241m=\u001b[39m vjpfun(ans, \u001b[38;5;241m*\u001b[39margs, \u001b[38;5;241m*\u001b[39m\u001b[38;5;241m*\u001b[39mkwargs)\n\u001b[0;32m---> 67\u001b[0m     \u001b[38;5;28;01mreturn\u001b[39;00m \u001b[38;5;28;01mlambda\u001b[39;00m g: (\u001b[43mvjp\u001b[49m\u001b[43m(\u001b[49m\u001b[43mg\u001b[49m\u001b[43m)\u001b[49m,)\n\u001b[1;32m     68\u001b[0m \u001b[38;5;28;01melif\u001b[39;00m L \u001b[38;5;241m==\u001b[39m \u001b[38;5;241m2\u001b[39m:\n\u001b[1;32m     69\u001b[0m     argnum_0, argnum_1 \u001b[38;5;241m=\u001b[39m argnums\n",
      "File \u001b[0;32m/usr/local/lib/python3.8/site-packages/pennylane/interfaces/autograd.py:190\u001b[0m, in \u001b[0;36mvjp.<locals>.grad_fn\u001b[0;34m(dy)\u001b[0m\n\u001b[1;32m    188\u001b[0m \u001b[38;5;28;01mif\u001b[39;00m _n \u001b[38;5;241m==\u001b[39m max_diff:\n\u001b[1;32m    189\u001b[0m     \u001b[38;5;28;01mwith\u001b[39;00m qml\u001b[38;5;241m.\u001b[39mtape\u001b[38;5;241m.\u001b[39mUnwrap(\u001b[38;5;241m*\u001b[39mtapes):\n\u001b[0;32m--> 190\u001b[0m         vjp_tapes, processing_fn \u001b[38;5;241m=\u001b[39m \u001b[43mqml\u001b[49m\u001b[38;5;241;43m.\u001b[39;49m\u001b[43mgradients\u001b[49m\u001b[38;5;241;43m.\u001b[39;49m\u001b[43mbatch_vjp\u001b[49m\u001b[43m(\u001b[49m\n\u001b[1;32m    191\u001b[0m \u001b[43m            \u001b[49m\u001b[43mtapes\u001b[49m\u001b[43m,\u001b[49m\n\u001b[1;32m    192\u001b[0m \u001b[43m            \u001b[49m\u001b[43mdy\u001b[49m\u001b[43m,\u001b[49m\n\u001b[1;32m    193\u001b[0m \u001b[43m            \u001b[49m\u001b[43mgradient_fn\u001b[49m\u001b[43m,\u001b[49m\n\u001b[1;32m    194\u001b[0m \u001b[43m            \u001b[49m\u001b[43mreduction\u001b[49m\u001b[38;5;241;43m=\u001b[39;49m\u001b[38;5;124;43m\"\u001b[39;49m\u001b[38;5;124;43mappend\u001b[39;49m\u001b[38;5;124;43m\"\u001b[39;49m\u001b[43m,\u001b[49m\n\u001b[1;32m    195\u001b[0m \u001b[43m            \u001b[49m\u001b[43mgradient_kwargs\u001b[49m\u001b[38;5;241;43m=\u001b[39;49m\u001b[43mgradient_kwargs\u001b[49m\u001b[43m,\u001b[49m\n\u001b[1;32m    196\u001b[0m \u001b[43m        \u001b[49m\u001b[43m)\u001b[49m\n\u001b[1;32m    198\u001b[0m         vjps \u001b[38;5;241m=\u001b[39m processing_fn(execute_fn(vjp_tapes)[\u001b[38;5;241m0\u001b[39m])\n\u001b[1;32m    200\u001b[0m \u001b[38;5;28;01melse\u001b[39;00m:\n",
      "File \u001b[0;32m/usr/local/lib/python3.8/site-packages/pennylane/gradients/vjp.py:313\u001b[0m, in \u001b[0;36mbatch_vjp\u001b[0;34m(tapes, dys, gradient_fn, reduction, gradient_kwargs)\u001b[0m\n\u001b[1;32m    311\u001b[0m \u001b[38;5;66;03m# Loop through the tapes and dys vector\u001b[39;00m\n\u001b[1;32m    312\u001b[0m \u001b[38;5;28;01mfor\u001b[39;00m tape, dy \u001b[38;5;129;01min\u001b[39;00m \u001b[38;5;28mzip\u001b[39m(tapes, dys):\n\u001b[0;32m--> 313\u001b[0m     g_tapes, fn \u001b[38;5;241m=\u001b[39m \u001b[43mvjp\u001b[49m\u001b[43m(\u001b[49m\u001b[43mtape\u001b[49m\u001b[43m,\u001b[49m\u001b[43m \u001b[49m\u001b[43mdy\u001b[49m\u001b[43m,\u001b[49m\u001b[43m \u001b[49m\u001b[43mgradient_fn\u001b[49m\u001b[43m,\u001b[49m\u001b[43m \u001b[49m\u001b[43mgradient_kwargs\u001b[49m\u001b[43m)\u001b[49m\n\u001b[1;32m    315\u001b[0m     reshape_info\u001b[38;5;241m.\u001b[39mappend(\u001b[38;5;28mlen\u001b[39m(g_tapes))\n\u001b[1;32m    316\u001b[0m     processing_fns\u001b[38;5;241m.\u001b[39mappend(fn)\n",
      "File \u001b[0;32m/usr/local/lib/python3.8/site-packages/pennylane/gradients/vjp.py:182\u001b[0m, in \u001b[0;36mvjp\u001b[0;34m(tape, dy, gradient_fn, gradient_kwargs)\u001b[0m\n\u001b[1;32m    179\u001b[0m \u001b[38;5;28;01mexcept\u001b[39;00m (\u001b[38;5;167;01mAttributeError\u001b[39;00m, \u001b[38;5;167;01mTypeError\u001b[39;00m):\n\u001b[1;32m    180\u001b[0m     \u001b[38;5;28;01mpass\u001b[39;00m\n\u001b[0;32m--> 182\u001b[0m gradient_tapes, fn \u001b[38;5;241m=\u001b[39m \u001b[43mgradient_fn\u001b[49m\u001b[43m(\u001b[49m\u001b[43mtape\u001b[49m\u001b[43m,\u001b[49m\u001b[43m \u001b[49m\u001b[38;5;241;43m*\u001b[39;49m\u001b[38;5;241;43m*\u001b[39;49m\u001b[43mgradient_kwargs\u001b[49m\u001b[43m)\u001b[49m\n\u001b[1;32m    184\u001b[0m \u001b[38;5;28;01mdef\u001b[39;00m \u001b[38;5;21mprocessing_fn\u001b[39m(results, num\u001b[38;5;241m=\u001b[39m\u001b[38;5;28;01mNone\u001b[39;00m):\n\u001b[1;32m    185\u001b[0m     \u001b[38;5;66;03m# postprocess results to compute the Jacobian\u001b[39;00m\n\u001b[1;32m    186\u001b[0m     jac \u001b[38;5;241m=\u001b[39m fn(results)\n",
      "File \u001b[0;32m/usr/local/lib/python3.8/site-packages/pennylane/transforms/batch_transform.py:331\u001b[0m, in \u001b[0;36mbatch_transform.__call__\u001b[0;34m(self, *targs, **tkwargs)\u001b[0m\n\u001b[1;32m    326\u001b[0m     \u001b[38;5;28;01mreturn\u001b[39;00m \u001b[38;5;28mself\u001b[39m\u001b[38;5;241m.\u001b[39m_device_wrapper(\u001b[38;5;241m*\u001b[39mtargs, \u001b[38;5;241m*\u001b[39m\u001b[38;5;241m*\u001b[39mtkwargs)(qnode)\n\u001b[1;32m    328\u001b[0m \u001b[38;5;28;01mif\u001b[39;00m \u001b[38;5;28misinstance\u001b[39m(qnode, qml\u001b[38;5;241m.\u001b[39mtape\u001b[38;5;241m.\u001b[39mQuantumTape):\n\u001b[1;32m    329\u001b[0m     \u001b[38;5;66;03m# Input is a quantum tape.\u001b[39;00m\n\u001b[1;32m    330\u001b[0m     \u001b[38;5;66;03m# tapes, fn = some_transform(tape, *transform_args)\u001b[39;00m\n\u001b[0;32m--> 331\u001b[0m     \u001b[38;5;28;01mreturn\u001b[39;00m \u001b[38;5;28;43mself\u001b[39;49m\u001b[38;5;241;43m.\u001b[39;49m\u001b[43m_tape_wrapper\u001b[49m\u001b[43m(\u001b[49m\u001b[38;5;241;43m*\u001b[39;49m\u001b[43mtargs\u001b[49m\u001b[43m,\u001b[49m\u001b[43m \u001b[49m\u001b[38;5;241;43m*\u001b[39;49m\u001b[38;5;241;43m*\u001b[39;49m\u001b[43mtkwargs\u001b[49m\u001b[43m)\u001b[49m\u001b[43m(\u001b[49m\u001b[43mqnode\u001b[49m\u001b[43m)\u001b[49m\n\u001b[1;32m    333\u001b[0m \u001b[38;5;28;01mif\u001b[39;00m \u001b[38;5;28misinstance\u001b[39m(qnode, (qml\u001b[38;5;241m.\u001b[39mQNode, qml\u001b[38;5;241m.\u001b[39mExpvalCost)):\n\u001b[1;32m    334\u001b[0m     \u001b[38;5;66;03m# Input is a QNode:\u001b[39;00m\n\u001b[1;32m    335\u001b[0m     \u001b[38;5;66;03m# result = some_transform(qnode, *transform_args)(*qnode_args)\u001b[39;00m\n\u001b[1;32m    336\u001b[0m     wrapper \u001b[38;5;241m=\u001b[39m \u001b[38;5;28mself\u001b[39m\u001b[38;5;241m.\u001b[39mqnode_wrapper(qnode, targs, tkwargs)\n",
      "File \u001b[0;32m/usr/local/lib/python3.8/site-packages/pennylane/transforms/batch_transform.py:419\u001b[0m, in \u001b[0;36mbatch_transform._tape_wrapper.<locals>.<lambda>\u001b[0;34m(tape)\u001b[0m\n\u001b[1;32m    418\u001b[0m \u001b[38;5;28;01mdef\u001b[39;00m \u001b[38;5;21m_tape_wrapper\u001b[39m(\u001b[38;5;28mself\u001b[39m, \u001b[38;5;241m*\u001b[39mtargs, \u001b[38;5;241m*\u001b[39m\u001b[38;5;241m*\u001b[39mtkwargs):\n\u001b[0;32m--> 419\u001b[0m     \u001b[38;5;28;01mreturn\u001b[39;00m \u001b[38;5;28;01mlambda\u001b[39;00m tape: \u001b[38;5;28;43mself\u001b[39;49m\u001b[38;5;241;43m.\u001b[39;49m\u001b[43mconstruct\u001b[49m\u001b[43m(\u001b[49m\u001b[43mtape\u001b[49m\u001b[43m,\u001b[49m\u001b[43m \u001b[49m\u001b[38;5;241;43m*\u001b[39;49m\u001b[43mtargs\u001b[49m\u001b[43m,\u001b[49m\u001b[43m \u001b[49m\u001b[38;5;241;43m*\u001b[39;49m\u001b[38;5;241;43m*\u001b[39;49m\u001b[43mtkwargs\u001b[49m\u001b[43m)\u001b[49m\n",
      "File \u001b[0;32m/usr/local/lib/python3.8/site-packages/pennylane/transforms/batch_transform.py:403\u001b[0m, in \u001b[0;36mbatch_transform.construct\u001b[0;34m(self, tape, *args, **kwargs)\u001b[0m\n\u001b[1;32m    400\u001b[0m \u001b[38;5;28;01mif\u001b[39;00m expand \u001b[38;5;129;01mand\u001b[39;00m \u001b[38;5;28mself\u001b[39m\u001b[38;5;241m.\u001b[39mexpand_fn \u001b[38;5;129;01mis\u001b[39;00m \u001b[38;5;129;01mnot\u001b[39;00m \u001b[38;5;28;01mNone\u001b[39;00m:\n\u001b[1;32m    401\u001b[0m     tape \u001b[38;5;241m=\u001b[39m \u001b[38;5;28mself\u001b[39m\u001b[38;5;241m.\u001b[39mexpand_fn(tape, \u001b[38;5;241m*\u001b[39margs, \u001b[38;5;241m*\u001b[39m\u001b[38;5;241m*\u001b[39mkwargs)\n\u001b[0;32m--> 403\u001b[0m tapes, processing_fn \u001b[38;5;241m=\u001b[39m \u001b[38;5;28;43mself\u001b[39;49m\u001b[38;5;241;43m.\u001b[39;49m\u001b[43mtransform_fn\u001b[49m\u001b[43m(\u001b[49m\u001b[43mtape\u001b[49m\u001b[43m,\u001b[49m\u001b[43m \u001b[49m\u001b[38;5;241;43m*\u001b[39;49m\u001b[43margs\u001b[49m\u001b[43m,\u001b[49m\u001b[43m \u001b[49m\u001b[38;5;241;43m*\u001b[39;49m\u001b[38;5;241;43m*\u001b[39;49m\u001b[43mkwargs\u001b[49m\u001b[43m)\u001b[49m\n\u001b[1;32m    405\u001b[0m \u001b[38;5;28;01mif\u001b[39;00m processing_fn \u001b[38;5;129;01mis\u001b[39;00m \u001b[38;5;28;01mNone\u001b[39;00m:\n\u001b[1;32m    406\u001b[0m     processing_fn \u001b[38;5;241m=\u001b[39m \u001b[38;5;28;01mlambda\u001b[39;00m x: x\n",
      "File \u001b[0;32m/usr/local/lib/python3.8/site-packages/pennylane/gradients/parameter_shift.py:664\u001b[0m, in \u001b[0;36mparam_shift\u001b[0;34m(tape, argnum, shifts, gradient_recipes, fallback_fn, f0)\u001b[0m\n\u001b[1;32m    662\u001b[0m     g_tapes, fn \u001b[38;5;241m=\u001b[39m var_param_shift(tape, argnum, shifts, gradient_recipes, f0)\n\u001b[1;32m    663\u001b[0m \u001b[38;5;28;01melse\u001b[39;00m:\n\u001b[0;32m--> 664\u001b[0m     g_tapes, fn \u001b[38;5;241m=\u001b[39m \u001b[43mexpval_param_shift\u001b[49m\u001b[43m(\u001b[49m\u001b[43mtape\u001b[49m\u001b[43m,\u001b[49m\u001b[43m \u001b[49m\u001b[43margnum\u001b[49m\u001b[43m,\u001b[49m\u001b[43m \u001b[49m\u001b[43mshifts\u001b[49m\u001b[43m,\u001b[49m\u001b[43m \u001b[49m\u001b[43mgradient_recipes\u001b[49m\u001b[43m,\u001b[49m\u001b[43m \u001b[49m\u001b[43mf0\u001b[49m\u001b[43m)\u001b[49m\n\u001b[1;32m    666\u001b[0m gradient_tapes\u001b[38;5;241m.\u001b[39mextend(g_tapes)\n\u001b[1;32m    668\u001b[0m \u001b[38;5;28;01mif\u001b[39;00m unsupported_params:\n\u001b[1;32m    669\u001b[0m     \u001b[38;5;66;03m# If there are unsupported parameters, we must process\u001b[39;00m\n\u001b[1;32m    670\u001b[0m     \u001b[38;5;66;03m# the quantum results separately, once for the fallback\u001b[39;00m\n\u001b[1;32m    671\u001b[0m     \u001b[38;5;66;03m# function and once for the parameter-shift rule, and recombine.\u001b[39;00m\n",
      "File \u001b[0;32m/usr/local/lib/python3.8/site-packages/pennylane/gradients/parameter_shift.py:236\u001b[0m, in \u001b[0;36mexpval_param_shift\u001b[0;34m(tape, argnum, shifts, gradient_recipes, f0)\u001b[0m\n\u001b[1;32m    234\u001b[0m \u001b[38;5;66;03m# generate the gradient tapes\u001b[39;00m\n\u001b[1;32m    235\u001b[0m gradient_coeffs\u001b[38;5;241m.\u001b[39mappend(coeffs)\n\u001b[0;32m--> 236\u001b[0m g_tapes \u001b[38;5;241m=\u001b[39m \u001b[43mgenerate_shifted_tapes\u001b[49m\u001b[43m(\u001b[49m\u001b[43mtape\u001b[49m\u001b[43m,\u001b[49m\u001b[43m \u001b[49m\u001b[43midx\u001b[49m\u001b[43m,\u001b[49m\u001b[43m \u001b[49m\u001b[43mop_shifts\u001b[49m\u001b[43m,\u001b[49m\u001b[43m \u001b[49m\u001b[43mmultipliers\u001b[49m\u001b[43m)\u001b[49m\n\u001b[1;32m    238\u001b[0m gradient_tapes\u001b[38;5;241m.\u001b[39mextend(g_tapes)\n\u001b[1;32m    239\u001b[0m shapes\u001b[38;5;241m.\u001b[39mappend(\u001b[38;5;28mlen\u001b[39m(g_tapes))\n",
      "File \u001b[0;32m/usr/local/lib/python3.8/site-packages/pennylane/gradients/general_shift_rules.py:408\u001b[0m, in \u001b[0;36mgenerate_shifted_tapes\u001b[0;34m(tape, index, shifts, multipliers)\u001b[0m\n\u001b[1;32m    406\u001b[0m \u001b[38;5;28;01mfor\u001b[39;00m shift, multiplier \u001b[38;5;129;01min\u001b[39;00m \u001b[38;5;28mzip\u001b[39m(shifts, multipliers):\n\u001b[1;32m    407\u001b[0m     new_params \u001b[38;5;241m=\u001b[39m params\u001b[38;5;241m.\u001b[39mcopy()\n\u001b[0;32m--> 408\u001b[0m     shifted_tape \u001b[38;5;241m=\u001b[39m \u001b[43mtape\u001b[49m\u001b[38;5;241;43m.\u001b[39;49m\u001b[43mcopy\u001b[49m\u001b[43m(\u001b[49m\u001b[43mcopy_operations\u001b[49m\u001b[38;5;241;43m=\u001b[39;49m\u001b[38;5;28;43;01mTrue\u001b[39;49;00m\u001b[43m)\u001b[49m\n\u001b[1;32m    409\u001b[0m     new_params[index] \u001b[38;5;241m=\u001b[39m new_params[index] \u001b[38;5;241m*\u001b[39m qml\u001b[38;5;241m.\u001b[39mmath\u001b[38;5;241m.\u001b[39mconvert_like(multiplier, new_params[index])\n\u001b[1;32m    410\u001b[0m     new_params[index] \u001b[38;5;241m=\u001b[39m new_params[index] \u001b[38;5;241m+\u001b[39m qml\u001b[38;5;241m.\u001b[39mmath\u001b[38;5;241m.\u001b[39mconvert_like(shift, new_params[index])\n",
      "File \u001b[0;32m/usr/local/lib/python3.8/site-packages/pennylane/tape/tape.py:1551\u001b[0m, in \u001b[0;36mQuantumTape.copy\u001b[0;34m(self, copy_operations)\u001b[0m\n\u001b[1;32m   1546\u001b[0m \u001b[38;5;28;01mif\u001b[39;00m copy_operations:\n\u001b[1;32m   1547\u001b[0m     \u001b[38;5;66;03m# Perform a shallow copy of all operations in the state prep, operation, and measurement\u001b[39;00m\n\u001b[1;32m   1548\u001b[0m     \u001b[38;5;66;03m# queues. The operations will continue to share data with the original tape operations\u001b[39;00m\n\u001b[1;32m   1549\u001b[0m     \u001b[38;5;66;03m# unless modified.\u001b[39;00m\n\u001b[1;32m   1550\u001b[0m     tape\u001b[38;5;241m.\u001b[39m_prep \u001b[38;5;241m=\u001b[39m [copy\u001b[38;5;241m.\u001b[39mcopy(op) \u001b[38;5;28;01mfor\u001b[39;00m op \u001b[38;5;129;01min\u001b[39;00m \u001b[38;5;28mself\u001b[39m\u001b[38;5;241m.\u001b[39m_prep]\n\u001b[0;32m-> 1551\u001b[0m     tape\u001b[38;5;241m.\u001b[39m_ops \u001b[38;5;241m=\u001b[39m [copy\u001b[38;5;241m.\u001b[39mcopy(op) \u001b[38;5;28;01mfor\u001b[39;00m op \u001b[38;5;129;01min\u001b[39;00m \u001b[38;5;28mself\u001b[39m\u001b[38;5;241m.\u001b[39m_ops]\n\u001b[1;32m   1552\u001b[0m     tape\u001b[38;5;241m.\u001b[39m_measurements \u001b[38;5;241m=\u001b[39m [copy\u001b[38;5;241m.\u001b[39mcopy(op) \u001b[38;5;28;01mfor\u001b[39;00m op \u001b[38;5;129;01min\u001b[39;00m \u001b[38;5;28mself\u001b[39m\u001b[38;5;241m.\u001b[39m_measurements]\n\u001b[1;32m   1553\u001b[0m \u001b[38;5;28;01melse\u001b[39;00m:\n\u001b[1;32m   1554\u001b[0m     \u001b[38;5;66;03m# Perform a shallow copy of the state prep, operation, and measurement queues. The\u001b[39;00m\n\u001b[1;32m   1555\u001b[0m     \u001b[38;5;66;03m# operations within the queues will be references to the original tape operations;\u001b[39;00m\n\u001b[1;32m   1556\u001b[0m     \u001b[38;5;66;03m# changing the original operations will always alter the operations on the copied tape.\u001b[39;00m\n",
      "File \u001b[0;32m/usr/local/lib/python3.8/site-packages/pennylane/tape/tape.py:1551\u001b[0m, in \u001b[0;36m<listcomp>\u001b[0;34m(.0)\u001b[0m\n\u001b[1;32m   1546\u001b[0m \u001b[38;5;28;01mif\u001b[39;00m copy_operations:\n\u001b[1;32m   1547\u001b[0m     \u001b[38;5;66;03m# Perform a shallow copy of all operations in the state prep, operation, and measurement\u001b[39;00m\n\u001b[1;32m   1548\u001b[0m     \u001b[38;5;66;03m# queues. The operations will continue to share data with the original tape operations\u001b[39;00m\n\u001b[1;32m   1549\u001b[0m     \u001b[38;5;66;03m# unless modified.\u001b[39;00m\n\u001b[1;32m   1550\u001b[0m     tape\u001b[38;5;241m.\u001b[39m_prep \u001b[38;5;241m=\u001b[39m [copy\u001b[38;5;241m.\u001b[39mcopy(op) \u001b[38;5;28;01mfor\u001b[39;00m op \u001b[38;5;129;01min\u001b[39;00m \u001b[38;5;28mself\u001b[39m\u001b[38;5;241m.\u001b[39m_prep]\n\u001b[0;32m-> 1551\u001b[0m     tape\u001b[38;5;241m.\u001b[39m_ops \u001b[38;5;241m=\u001b[39m [\u001b[43mcopy\u001b[49m\u001b[38;5;241;43m.\u001b[39;49m\u001b[43mcopy\u001b[49m\u001b[43m(\u001b[49m\u001b[43mop\u001b[49m\u001b[43m)\u001b[49m \u001b[38;5;28;01mfor\u001b[39;00m op \u001b[38;5;129;01min\u001b[39;00m \u001b[38;5;28mself\u001b[39m\u001b[38;5;241m.\u001b[39m_ops]\n\u001b[1;32m   1552\u001b[0m     tape\u001b[38;5;241m.\u001b[39m_measurements \u001b[38;5;241m=\u001b[39m [copy\u001b[38;5;241m.\u001b[39mcopy(op) \u001b[38;5;28;01mfor\u001b[39;00m op \u001b[38;5;129;01min\u001b[39;00m \u001b[38;5;28mself\u001b[39m\u001b[38;5;241m.\u001b[39m_measurements]\n\u001b[1;32m   1553\u001b[0m \u001b[38;5;28;01melse\u001b[39;00m:\n\u001b[1;32m   1554\u001b[0m     \u001b[38;5;66;03m# Perform a shallow copy of the state prep, operation, and measurement queues. The\u001b[39;00m\n\u001b[1;32m   1555\u001b[0m     \u001b[38;5;66;03m# operations within the queues will be references to the original tape operations;\u001b[39;00m\n\u001b[1;32m   1556\u001b[0m     \u001b[38;5;66;03m# changing the original operations will always alter the operations on the copied tape.\u001b[39;00m\n",
      "File \u001b[0;32m/usr/lib64/python3.8/copy.py:84\u001b[0m, in \u001b[0;36mcopy\u001b[0;34m(x)\u001b[0m\n\u001b[1;32m     82\u001b[0m copier \u001b[38;5;241m=\u001b[39m \u001b[38;5;28mgetattr\u001b[39m(\u001b[38;5;28mcls\u001b[39m, \u001b[38;5;124m\"\u001b[39m\u001b[38;5;124m__copy__\u001b[39m\u001b[38;5;124m\"\u001b[39m, \u001b[38;5;28;01mNone\u001b[39;00m)\n\u001b[1;32m     83\u001b[0m \u001b[38;5;28;01mif\u001b[39;00m copier \u001b[38;5;129;01mis\u001b[39;00m \u001b[38;5;129;01mnot\u001b[39;00m \u001b[38;5;28;01mNone\u001b[39;00m:\n\u001b[0;32m---> 84\u001b[0m     \u001b[38;5;28;01mreturn\u001b[39;00m \u001b[43mcopier\u001b[49m\u001b[43m(\u001b[49m\u001b[43mx\u001b[49m\u001b[43m)\u001b[49m\n\u001b[1;32m     86\u001b[0m reductor \u001b[38;5;241m=\u001b[39m dispatch_table\u001b[38;5;241m.\u001b[39mget(\u001b[38;5;28mcls\u001b[39m)\n\u001b[1;32m     87\u001b[0m \u001b[38;5;28;01mif\u001b[39;00m reductor \u001b[38;5;129;01mis\u001b[39;00m \u001b[38;5;129;01mnot\u001b[39;00m \u001b[38;5;28;01mNone\u001b[39;00m:\n",
      "File \u001b[0;32m/usr/local/lib/python3.8/site-packages/pennylane/operation.py:500\u001b[0m, in \u001b[0;36mOperator.__copy__\u001b[0;34m(self)\u001b[0m\n\u001b[1;32m    498\u001b[0m \u001b[38;5;28mcls\u001b[39m \u001b[38;5;241m=\u001b[39m \u001b[38;5;28mself\u001b[39m\u001b[38;5;241m.\u001b[39m\u001b[38;5;18m__class__\u001b[39m\n\u001b[1;32m    499\u001b[0m copied_op \u001b[38;5;241m=\u001b[39m \u001b[38;5;28mcls\u001b[39m\u001b[38;5;241m.\u001b[39m\u001b[38;5;21m__new__\u001b[39m(\u001b[38;5;28mcls\u001b[39m)\n\u001b[0;32m--> 500\u001b[0m copied_op\u001b[38;5;241m.\u001b[39mdata \u001b[38;5;241m=\u001b[39m \u001b[38;5;28;43mself\u001b[39;49m\u001b[38;5;241;43m.\u001b[39;49m\u001b[43mdata\u001b[49m\u001b[38;5;241;43m.\u001b[39;49m\u001b[43mcopy\u001b[49m\u001b[43m(\u001b[49m\u001b[43m)\u001b[49m\n\u001b[1;32m    501\u001b[0m \u001b[38;5;28;01mfor\u001b[39;00m attr, value \u001b[38;5;129;01min\u001b[39;00m \u001b[38;5;28mvars\u001b[39m(\u001b[38;5;28mself\u001b[39m)\u001b[38;5;241m.\u001b[39mitems():\n\u001b[1;32m    502\u001b[0m     \u001b[38;5;28;01mif\u001b[39;00m attr \u001b[38;5;241m!=\u001b[39m \u001b[38;5;124m\"\u001b[39m\u001b[38;5;124mdata\u001b[39m\u001b[38;5;124m\"\u001b[39m:\n",
      "\u001b[0;31mKeyboardInterrupt\u001b[0m: "
     ]
    }
   ],
   "source": [
    "for i in range(10):\n",
    "    opt.generation += 1\n",
    "    opt.selection()\n",
    "    opt.crossover()\n",
    "    \n",
    "    for i in range(4):\n",
    "        if random.random() < 0.7:\n",
    "            opt.mutate()\n",
    "    \n",
    "    opt.train_offsprings()\n",
    "    draw_and_save_offsprings()\n",
    "    opt.add_offsprings()\n",
    "    plot_distribution()\n",
    "    plot_fitnesses()\n",
    "    plot_losses()\n",
    "    draw_circuits()\n",
    "    opt.print_info()\n",
    "    "
   ]
  },
  {
   "cell_type": "code",
   "execution_count": 29,
   "id": "0a5d491e-5098-4da2-9a5b-43867da147d5",
   "metadata": {},
   "outputs": [
    {
     "data": {
      "text/plain": [
       "2"
      ]
     },
     "execution_count": 29,
     "metadata": {},
     "output_type": "execute_result"
    }
   ],
   "source": [
    "opt.generation"
   ]
  },
  {
   "cell_type": "code",
   "execution_count": 45,
   "id": "17e54db3-0f90-4ada-8fc0-6fffed8104b7",
   "metadata": {
    "tags": []
   },
   "outputs": [
    {
     "data": {
      "text/plain": [
       "[[[0, 0, 1, 0, 0], [0, 0, 0, 4, 0], [0, 0, 0, 0, 0], [0, 0, 0, 0, 2]],\n",
       " [[0, 0, 0, 0, 0], [0, 0, 0, 0, 0], [0, 0, 1, 0, 0], [0, 1, 0, 0, 0]],\n",
       " [[0, 1, 0, 0, 0], [0, 1, 0, 0, 0], [1, 0, 0, 0, 0], [1, 0, 0, 0, 0]],\n",
       " [[0, 0, 0, 0, 0], [0, 0, 0, 3, 0], [0, 0, 0, 0, 2], [0, 0, 1, 0, 0]]]"
      ]
     },
     "execution_count": 45,
     "metadata": {},
     "output_type": "execute_result"
    }
   ],
   "source": [
    "opt.population.individuals[1].tensor"
   ]
  },
  {
   "cell_type": "code",
   "execution_count": 46,
   "id": "cec1bbef-73a4-409c-8939-82abdcd3a206",
   "metadata": {},
   "outputs": [
    {
     "data": {
      "image/png": "[encoded data removed]",
      "text/plain": [
       "<Figure size 504x360 with 1 Axes>"
      ]
     },
     "metadata": {},
     "output_type": "display_data"
    }
   ],
   "source": [
    "opt.population.individuals[1].draw()"
   ]
  },
  {
   "cell_type": "code",
   "execution_count": 47,
   "id": "d23f8cf5-fe82-41b2-be50-878436a3995e",
   "metadata": {},
   "outputs": [],
   "source": [
    "opt.population.individuals[1].train_fitness()"
   ]
  },
  {
   "cell_type": "code",
   "execution_count": 48,
   "id": "f5346c8a-4387-45fa-9efe-28255d703f65",
   "metadata": {},
   "outputs": [
    {
     "data": {
      "text/plain": [
       "tensor(0.99027689, requires_grad=True)"
      ]
     },
     "execution_count": 48,
     "metadata": {},
     "output_type": "execute_result"
    }
   ],
   "source": [
    "opt.population.individuals[1].get_fitness()"
   ]
  },
  {
   "cell_type": "markdown",
   "id": "7bc12faa-b6a9-4f2e-9813-a1efd30301da",
   "metadata": {
    "jp-MarkdownHeadingCollapsed": true,
    "tags": []
   },
   "source": [
    "#### Result Processing "
   ]
  },
  {
   "cell_type": "code",
   "execution_count": 60,
   "id": "d94113d3-3ccc-4a22-898e-75991f4a9057",
   "metadata": {},
   "outputs": [],
   "source": [
    "circuit = opt.population.individuals[0]\n",
    "sampling1 = convert_tensor_to_circuit(circuit.tensor, circuit.params, circuit.n_qubits, circuit.num_one_gates, circuit.num_two_gates,  prob=False)\n",
    "states_mapping = [int(np.sum(np.asarray(s)*np.asarray([1,2,4,8]))) for s in list(itertools.product([0,1],repeat=4))]"
   ]
  },
  {
   "cell_type": "code",
   "execution_count": 61,
   "id": "4d404a60-a6ba-4b43-a31f-ab54478a956c",
   "metadata": {},
   "outputs": [],
   "source": [
    "def state_to_bin(state):\n",
    "    #provided qubit state, returns the bin# it corresponds to\n",
    "    return states_mapping.index(np.sum(np.asarray(state)*np.asarray([1,2,4,8])))\n",
    "def qubits_to_var(sample, bins):\n",
    "    return bins[state_to_bin(sample)]\n",
    "def qubits_to_pt(sample):\n",
    "    return qubits_to_var(sample, bins_pt)\n",
    "def qubits_to_eta(sample):\n",
    "    return qubits_to_var(sample, bins_eta)"
   ]
  },
  {
   "cell_type": "code",
   "execution_count": 62,
   "id": "e0f44e98-b3d4-4cb9-a957-adc5e0fe2f0a",
   "metadata": {},
   "outputs": [
    {
     "data": {
      "text/plain": [
       "tensor([[0, 1, 1, 0],\n",
       "        [1, 1, 0, 1],\n",
       "        [1, 1, 1, 0],\n",
       "        ...,\n",
       "        [1, 1, 0, 0],\n",
       "        [1, 1, 1, 0],\n",
       "        [1, 1, 1, 0]], requires_grad=True)"
      ]
     },
     "execution_count": 62,
     "metadata": {},
     "output_type": "execute_result"
    }
   ],
   "source": [
    "sampling1"
   ]
  },
  {
   "cell_type": "code",
   "execution_count": 63,
   "id": "9951d2c3-8ea4-4559-90a7-86abdcc32a5e",
   "metadata": {
    "tags": []
   },
   "outputs": [
    {
     "ename": "AxisError",
     "evalue": "axis 1 is out of bounds for array of dimension 1",
     "output_type": "error",
     "traceback": [
      "\u001b[0;31m---------------------------------------------------------------------------\u001b[0m",
      "\u001b[0;31mAxisError\u001b[0m                                 Traceback (most recent call last)",
      "Input \u001b[0;32mIn [64]\u001b[0m, in \u001b[0;36m<cell line: 1>\u001b[0;34m()\u001b[0m\n\u001b[0;32m----> 1\u001b[0m sampling1_pt \u001b[38;5;241m=\u001b[39m \u001b[43mnp\u001b[49m\u001b[38;5;241;43m.\u001b[39;49m\u001b[43mapply_along_axis\u001b[49m\u001b[43m(\u001b[49m\u001b[43m \u001b[49m\u001b[43mqubits_to_pt\u001b[49m\u001b[43m,\u001b[49m\u001b[43m \u001b[49m\u001b[38;5;241;43m1\u001b[39;49m\u001b[43m,\u001b[49m\u001b[43m \u001b[49m\u001b[43msampling1\u001b[49m\u001b[43m[\u001b[49m\u001b[38;5;241;43m0\u001b[39;49m\u001b[43m,\u001b[49m\u001b[43m:\u001b[49m\u001b[43m]\u001b[49m\u001b[43m)\u001b[49m\n",
      "File \u001b[0;32m/usr/local/lib/python3.8/site-packages/pennylane/numpy/wrapper.py:117\u001b[0m, in \u001b[0;36mtensor_wrapper.<locals>._wrapped\u001b[0;34m(*args, **kwargs)\u001b[0m\n\u001b[1;32m    114\u001b[0m         tensor_kwargs[\u001b[38;5;124m\"\u001b[39m\u001b[38;5;124mrequires_grad\u001b[39m\u001b[38;5;124m\"\u001b[39m] \u001b[38;5;241m=\u001b[39m _np\u001b[38;5;241m.\u001b[39many([i\u001b[38;5;241m.\u001b[39mrequires_grad \u001b[38;5;28;01mfor\u001b[39;00m i \u001b[38;5;129;01min\u001b[39;00m tensor_args])\n\u001b[1;32m    116\u001b[0m \u001b[38;5;66;03m# evaluate the original object\u001b[39;00m\n\u001b[0;32m--> 117\u001b[0m res \u001b[38;5;241m=\u001b[39m \u001b[43mobj\u001b[49m\u001b[43m(\u001b[49m\u001b[38;5;241;43m*\u001b[39;49m\u001b[43margs\u001b[49m\u001b[43m,\u001b[49m\u001b[43m \u001b[49m\u001b[38;5;241;43m*\u001b[39;49m\u001b[38;5;241;43m*\u001b[39;49m\u001b[43mkwargs\u001b[49m\u001b[43m)\u001b[49m\n\u001b[1;32m    119\u001b[0m \u001b[38;5;28;01mif\u001b[39;00m \u001b[38;5;28misinstance\u001b[39m(res, _np\u001b[38;5;241m.\u001b[39mndarray):\n\u001b[1;32m    120\u001b[0m     \u001b[38;5;66;03m# only if the output of the object is a ndarray,\u001b[39;00m\n\u001b[1;32m    121\u001b[0m     \u001b[38;5;66;03m# then convert to a PennyLane tensor\u001b[39;00m\n\u001b[1;32m    122\u001b[0m     res \u001b[38;5;241m=\u001b[39m tensor(res, \u001b[38;5;241m*\u001b[39m\u001b[38;5;241m*\u001b[39mtensor_kwargs)\n",
      "File \u001b[0;32m/usr/local/lib/python3.8/site-packages/autograd/tracer.py:48\u001b[0m, in \u001b[0;36mprimitive.<locals>.f_wrapped\u001b[0;34m(*args, **kwargs)\u001b[0m\n\u001b[1;32m     46\u001b[0m     \u001b[38;5;28;01mreturn\u001b[39;00m new_box(ans, trace, node)\n\u001b[1;32m     47\u001b[0m \u001b[38;5;28;01melse\u001b[39;00m:\n\u001b[0;32m---> 48\u001b[0m     \u001b[38;5;28;01mreturn\u001b[39;00m \u001b[43mf_raw\u001b[49m\u001b[43m(\u001b[49m\u001b[38;5;241;43m*\u001b[39;49m\u001b[43margs\u001b[49m\u001b[43m,\u001b[49m\u001b[43m \u001b[49m\u001b[38;5;241;43m*\u001b[39;49m\u001b[38;5;241;43m*\u001b[39;49m\u001b[43mkwargs\u001b[49m\u001b[43m)\u001b[49m\n",
      "File \u001b[0;32m<__array_function__ internals>:5\u001b[0m, in \u001b[0;36mapply_along_axis\u001b[0;34m(*args, **kwargs)\u001b[0m\n",
      "File \u001b[0;32m/usr/local/lib64/python3.8/site-packages/numpy/lib/shape_base.py:361\u001b[0m, in \u001b[0;36mapply_along_axis\u001b[0;34m(func1d, axis, arr, *args, **kwargs)\u001b[0m\n\u001b[1;32m    359\u001b[0m arr \u001b[38;5;241m=\u001b[39m asanyarray(arr)\n\u001b[1;32m    360\u001b[0m nd \u001b[38;5;241m=\u001b[39m arr\u001b[38;5;241m.\u001b[39mndim\n\u001b[0;32m--> 361\u001b[0m axis \u001b[38;5;241m=\u001b[39m \u001b[43mnormalize_axis_index\u001b[49m\u001b[43m(\u001b[49m\u001b[43maxis\u001b[49m\u001b[43m,\u001b[49m\u001b[43m \u001b[49m\u001b[43mnd\u001b[49m\u001b[43m)\u001b[49m\n\u001b[1;32m    363\u001b[0m \u001b[38;5;66;03m# arr, with the iteration axis at the end\u001b[39;00m\n\u001b[1;32m    364\u001b[0m in_dims \u001b[38;5;241m=\u001b[39m \u001b[38;5;28mlist\u001b[39m(\u001b[38;5;28mrange\u001b[39m(nd))\n",
      "\u001b[0;31mAxisError\u001b[0m: axis 1 is out of bounds for array of dimension 1"
     ]
    }
   ],
   "source": [
    "sampling1_pt = np.apply_along_axis( qubits_to_pt, 1, sampling1[0,:,:])"
   ]
  },
  {
   "cell_type": "code",
   "execution_count": null,
   "id": "fa776686-0412-4cce-965d-05e9e1212368",
   "metadata": {},
   "outputs": [],
   "source": [
    "generated1_df = pd.DataFrame(sampling1_pt, columns=['jet_pt'])"
   ]
  },
  {
   "cell_type": "code",
   "execution_count": null,
   "id": "e30754dc-239e-434b-a7d1-0937f3dcb5a2",
   "metadata": {},
   "outputs": [],
   "source": []
  },
  {
   "cell_type": "markdown",
   "id": "e7d3fee1-cdaf-4ba2-9dfa-d9c40947315c",
   "metadata": {
    "jp-MarkdownHeadingCollapsed": true,
    "tags": []
   },
   "source": [
    "### Testing Optimizer - 2D with j_pt and j_eta"
   ]
  },
  {
   "cell_type": "code",
   "execution_count": 18,
   "id": "060d22ad-791d-4ec7-a771-3ac677b08793",
   "metadata": {},
   "outputs": [
    {
     "data": {
      "image/png": "[encoded data removed]",
      "text/plain": [
       "<Figure size 432x288 with 1 Axes>"
      ]
     },
     "metadata": {
      "needs_background": "light"
     },
     "output_type": "display_data"
    }
   ],
   "source": [
    "# plt.figure(figsize=(12,5))\n",
    "# plt.subplot(121)\n",
    "# target_2d, bins_pt_edge, bins_eta_edge, _ = plt.hist2d(j_pt, j_eta, bins=[16,16], range=[[min_pt, max_pt],[min_eta, max_eta]])\n",
    "# plt.suptitle(\"Target\")\n",
    "# plt.xlabel('Jet pT [GeV]')\n",
    "# plt.ylabel('Jet eta')\n",
    "# bins_pt = np.asarray([(bins_pt_edge[i] + bins_pt_edge[i+1])/2. for i in range(len(bins_pt_edge)-1)])\n",
    "# bins_eta = np.asarray([(bins_eta_edge[i] + bins_eta_edge[i+1])/2. for i in range(len(bins_eta_edge)-1)])\n",
    "# bins_pt_eta=list(itertools.product(bins_pt,bins_eta))\n",
    "# plt.subplot(122)\n",
    "target_2d, bins_pt_edge, bins_mass_edge, _ = plt.hist2d(j_pt, j_mass, bins=[16,16], range=[[min_pt, max_pt],[min_mass, max_mass]])\n",
    "plt.xlabel('Jet pT [GeV]')\n",
    "plt.ylabel('Jet mass [GeV]')\n",
    "plt.show()\n",
    "bins_pt = np.asarray([(bins_pt_edge[i] + bins_pt_edge[i+1])/2. for i in range(len(bins_pt_edge)-1)])\n",
    "bins_mass = np.asarray([(bins_mass_edge[i] + bins_mass_edge[i+1])/2. for i in range(len(bins_mass_edge)-1)])\n",
    "bins_pt_mass=list(itertools.product(bins_pt,bins_mass))\n",
    "plt.show()"
   ]
  },
  {
   "cell_type": "code",
   "execution_count": 12,
   "id": "6315e5e5-a820-4da9-a467-da3a224dc397",
   "metadata": {},
   "outputs": [],
   "source": [
    "target_2d = target_2d / np.sum(target_2d)\n",
    "target_1d = np.ravel(target_2d)"
   ]
  },
  {
   "cell_type": "code",
   "execution_count": 13,
   "id": "9ab3fa73-e99a-45b6-8cd7-dfa818618cc8",
   "metadata": {},
   "outputs": [],
   "source": [
    "num_one_gates2 = 3\n",
    "num_two_gates2 = 1\n",
    "max_moments2 = 6\n",
    "n_qubits2 = 8\n",
    "pop_size2 = 40"
   ]
  },
  {
   "cell_type": "code",
   "execution_count": 14,
   "id": "d48d9bb4-116d-4bc5-9c43-29afea8eca5c",
   "metadata": {},
   "outputs": [
    {
     "name": "stderr",
     "output_type": "stream",
     "text": [
      "/usr/local/lib/python3.8/site-packages/autograd/tracer.py:14: UserWarning: Output seems independent of input.\n",
      "  warnings.warn(\"Output seems independent of input.\")\n"
     ]
    },
    {
     "name": "stdout",
     "output_type": "stream",
     "text": [
      "Execution time multiprocessing 15.876953601837158\n",
      "Generation: 0 Fittest: 0.7843331051987251\n"
     ]
    }
   ],
   "source": [
    "opt2 = CircuitOptimizer(pop_size2, target_1d, num_one_gates2, num_two_gates2, max_moments2, n_qubits2)"
   ]
  },
  {
   "cell_type": "code",
   "execution_count": null,
   "id": "0f30789e-26ee-49c5-a126-7eb9042a8df7",
   "metadata": {},
   "outputs": [],
   "source": []
  }
 ],
 "metadata": {
  "kernelspec": {
   "display_name": "Python 3 (ipykernel)",
   "language": "python",
   "name": "python3"
  },
  "language_info": {
   "codemirror_mode": {
    "name": "ipython",
    "version": 3
   },
   "file_extension": ".py",
   "mimetype": "text/x-python",
   "name": "python",
   "nbconvert_exporter": "python",
   "pygments_lexer": "ipython3",
   "version": "3.8.8"
  }
 },
 "nbformat": 4,
 "nbformat_minor": 5
}
