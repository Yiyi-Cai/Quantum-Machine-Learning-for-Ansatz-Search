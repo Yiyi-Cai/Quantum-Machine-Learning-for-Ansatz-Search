{
 "cells": [
  {
   "cell_type": "markdown",
   "id": "408098a6-9c43-4165-a0a7-149eece5d515",
   "metadata": {},
   "source": [
    "### Imports"
   ]
  },
  {
   "cell_type": "code",
   "execution_count": 1,
   "id": "5e0c1ecc-8a07-423d-8f18-41afa4491b9b",
   "metadata": {},
   "outputs": [],
   "source": [
    "from ansatz_optimizer_2D import *\n",
    "import os"
   ]
  },
  {
   "cell_type": "code",
   "execution_count": 2,
   "id": "c719c281-408f-4f82-a751-2bcc1f8f6c24",
   "metadata": {},
   "outputs": [],
   "source": [
    "import pandas as pd\n",
    "%matplotlib inline\n",
    "import matplotlib\n",
    "# matplotlib.use('Agg')\n",
    "import matplotlib.pyplot as plt\n",
    "from pennylane import numpy as np\n",
    "import h5py\n",
    "import pennylane as qml\n",
    "import random\n",
    "import time\n",
    "import csv"
   ]
  },
  {
   "cell_type": "code",
   "execution_count": 3,
   "id": "04dc4687-ba0c-404e-9e2f-c62306bbf817",
   "metadata": {},
   "outputs": [
    {
     "name": "stdout",
     "output_type": "stream",
     "text": [
      "setGPU: Setting GPU to: 1\n"
     ]
    }
   ],
   "source": [
    "import setGPU\n",
    "import itertools"
   ]
  },
  {
   "cell_type": "markdown",
   "id": "2c226add-a1c2-4e8c-862f-3bfc408d5d9f",
   "metadata": {},
   "source": [
    "### File Reading"
   ]
  },
  {
   "cell_type": "code",
   "execution_count": 4,
   "id": "74fc52bd-d0e7-42ea-866e-92131dc00c07",
   "metadata": {},
   "outputs": [],
   "source": [
    "jet_filename = '../jetImage_0_30p_0_10000.h5'\n",
    "f1 = h5py.File(jet_filename,'r')\n",
    "jets = np.array(f1[\"jets\"])"
   ]
  },
  {
   "cell_type": "code",
   "execution_count": 5,
   "id": "f511d99a-9c28-4686-8bbe-2f1071f546c3",
   "metadata": {},
   "outputs": [],
   "source": [
    "j_pt = jets[:, 1]\n",
    "j_eta = jets[:, 2]\n",
    "j_mass = jets[:, 3]"
   ]
  },
  {
   "cell_type": "code",
   "execution_count": 6,
   "id": "03c9faa1-26a2-4b76-af85-ede4c8e169d5",
   "metadata": {},
   "outputs": [],
   "source": [
    "num_bins = 16"
   ]
  },
  {
   "cell_type": "code",
   "execution_count": 7,
   "id": "c1eccc94-c689-4299-a50c-baf27318f9f1",
   "metadata": {},
   "outputs": [
    {
     "data": {
      "image/png": "[encoded data removed]",
      "text/plain": [
       "<Figure size 432x288 with 1 Axes>"
      ]
     },
     "metadata": {
      "needs_background": "light"
     },
     "output_type": "display_data"
    }
   ],
   "source": [
    "min_pt = 900\n",
    "max_pt = 1100\n",
    "distribution_pt, bins_pt_edge, __ = plt.hist(j_pt, range=[min_pt, max_pt], bins=num_bins)\n",
    "probability_pt = distribution_pt / np.sum(distribution_pt)\n",
    "bins_pt = np.asarray([(bins_pt_edge[i] + bins_pt_edge[i+1])/2. for i in range(len(bins_pt_edge)-1)])"
   ]
  },
  {
   "cell_type": "code",
   "execution_count": 8,
   "id": "796ff04d-a685-47ef-8f31-25f5554c71a4",
   "metadata": {},
   "outputs": [
    {
     "data": {
      "image/png": "[encoded data removed]",
      "text/plain": [
       "<Figure size 432x288 with 1 Axes>"
      ]
     },
     "metadata": {
      "needs_background": "light"
     },
     "output_type": "display_data"
    }
   ],
   "source": [
    "min_eta = -2\n",
    "max_eta = 2\n",
    "distribution_eta, bins_eta_edge, __ =plt.hist(j_eta, range=[min_eta, max_eta], bins=num_bins)\n",
    "probability_eta = distribution_eta / np.sum(distribution_eta)\n",
    "bins_eta = np.asarray([(bins_eta_edge[i] + bins_eta_edge[i+1])/2. for i in range(len(bins_eta_edge)-1)])"
   ]
  },
  {
   "cell_type": "code",
   "execution_count": 9,
   "id": "c90aa7ac-1c84-4353-be8c-07b9daa22dcb",
   "metadata": {},
   "outputs": [
    {
     "data": {
      "image/png": "[encoded data removed]",
      "text/plain": [
       "<Figure size 432x288 with 1 Axes>"
      ]
     },
     "metadata": {
      "needs_background": "light"
     },
     "output_type": "display_data"
    }
   ],
   "source": [
    "min_mass = 25\n",
    "max_mass = 175\n",
    "distribution_mass, bins_mass_edge, __ =plt.hist(j_mass, range=[min_mass, max_mass],bins=num_bins)\n",
    "probability_mass = distribution_mass / np.sum(distribution_mass)\n",
    "bins_mass = np.asarray([(bins_mass_edge[i] + bins_mass_edge[i+1])/2. for i in range(len(bins_mass_edge)-1)])"
   ]
  },
  {
   "cell_type": "code",
   "execution_count": 10,
   "id": "e6aabc01-1a75-47e1-b3ed-c9019d466762",
   "metadata": {},
   "outputs": [
    {
     "data": {
      "image/png": "[encoded data removed]",
      "text/plain": [
       "<Figure size 432x288 with 1 Axes>"
      ]
     },
     "metadata": {
      "needs_background": "light"
     },
     "output_type": "display_data"
    }
   ],
   "source": [
    "target_2d, bins_pt_edge, bins_mass_edge, _ = plt.hist2d(j_pt, j_mass, bins=[16,16], range=[[min_pt, max_pt],[min_mass, max_mass]])\n",
    "plt.xlabel('Jet pT [GeV]')\n",
    "plt.ylabel('Jet mass [GeV]')\n",
    "bins_pt = np.asarray([(bins_pt_edge[i] + bins_pt_edge[i+1])/2. for i in range(len(bins_pt_edge)-1)])\n",
    "bins_mass = np.asarray([(bins_mass_edge[i] + bins_mass_edge[i+1])/2. for i in range(len(bins_mass_edge)-1)])\n",
    "bins_pt_mass=list(itertools.product(bins_pt,bins_mass))\n",
    "plt.title(\"2D Data between Jet Mass and Jet pT\")\n",
    "plt.savefig(\"../target_data/mass_pt.png\")\n",
    "plt.show()"
   ]
  },
  {
   "cell_type": "code",
   "execution_count": 11,
   "id": "674f1da0-14d0-44a6-ac4d-295aa70d77b5",
   "metadata": {},
   "outputs": [],
   "source": [
    "target_2d = target_2d / np.sum(target_2d)\n",
    "target_1d = np.ravel(target_2d)"
   ]
  },
  {
   "cell_type": "markdown",
   "id": "3c893b40-fe5d-4cb0-a284-bb3d9fee620a",
   "metadata": {},
   "source": [
    "### Training"
   ]
  },
  {
   "cell_type": "markdown",
   "id": "856c5072-52ea-4bc8-aa9b-237bce26ac2b",
   "metadata": {},
   "source": [
    "#### First run to set things up"
   ]
  },
  {
   "cell_type": "code",
   "execution_count": 12,
   "id": "445f4595-b76f-4a3f-8f67-443cc4beaa47",
   "metadata": {},
   "outputs": [],
   "source": [
    "num_one_gates = 3\n",
    "num_two_gates = 1\n",
    "max_moments = 5\n",
    "n_qubits = 8\n",
    "pop_size = 40"
   ]
  },
  {
   "cell_type": "code",
   "execution_count": 13,
   "id": "51b133f5-78d0-4848-9e78-bcc2946ab2c5",
   "metadata": {},
   "outputs": [
    {
     "name": "stdout",
     "output_type": "stream",
     "text": [
      "Execution time multiprocessing 1712.8847246170044\n",
      "Generation: 0 Fittest: 0.9313710413639363\n"
     ]
    }
   ],
   "source": [
    "opt = CircuitOptimizer(pop_size, target_1d, num_one_gates, num_two_gates, max_moments, n_qubits)"
   ]
  },
  {
   "cell_type": "code",
   "execution_count": 14,
   "id": "38a115cf-dd51-4143-94f6-4117766b3723",
   "metadata": {},
   "outputs": [
    {
     "name": "stdout",
     "output_type": "stream",
     "text": [
      "['circuit 1', 'circuit 2', 'circuit 3', 'circuit 4', 'circuit 5', 'circuit 6', 'circuit 7', 'circuit 8', 'circuit 9', 'circuit 10', 'circuit 11', 'circuit 12', 'circuit 13', 'circuit 14', 'circuit 15', 'circuit 16', 'circuit 17', 'circuit 18', 'circuit 19', 'circuit 20', 'circuit 21', 'circuit 22', 'circuit 23', 'circuit 24', 'circuit 25', 'circuit 26', 'circuit 27', 'circuit 28', 'circuit 29', 'circuit 30', 'circuit 31', 'circuit 32', 'circuit 33', 'circuit 34', 'circuit 35', 'circuit 36', 'circuit 37', 'circuit 38', 'circuit 39', 'circuit 40']\n"
     ]
    }
   ],
   "source": [
    "header = []\n",
    "for i in range(pop_size):\n",
    "    header.append(\"circuit \" + str(i+1))\n",
    "print(header)"
   ]
  },
  {
   "cell_type": "code",
   "execution_count": 15,
   "id": "b11d0559-a276-4be4-95c1-9803b935b8dc",
   "metadata": {},
   "outputs": [],
   "source": [
    "folder = '../optimizer_data/2D_run1/'"
   ]
  },
  {
   "cell_type": "code",
   "execution_count": 16,
   "id": "851b5aa7-3f9b-491d-870c-fdbe55736949",
   "metadata": {},
   "outputs": [],
   "source": [
    "with open(folder + 'fitnesses_2d.csv', 'w') as f:\n",
    "    writer = csv.writer(f)\n",
    "    writer.writerow(header)\n",
    "    \n",
    "    fitnesses = []\n",
    "    \n",
    "    for circuit in opt.population.individuals:\n",
    "        fitnesses.append(circuit.get_fitness())\n",
    "    writer.writerow(fitnesses)"
   ]
  },
  {
   "cell_type": "code",
   "execution_count": 17,
   "id": "0ae19c6b-42a6-4247-b18b-c27f23d4e8dd",
   "metadata": {},
   "outputs": [],
   "source": [
    "distributions_folder_name = folder + 'distributions_2D_fixedLR/generation_'\n",
    "fitnesses_folder_name = folder + 'plots_and_circuits/generation_'\n",
    "losses_folder_name = folder + 'plots_and_circuits/generation_'\n",
    "circuits_folder_name = folder + 'plots_and_circuits/generation_'\n",
    "comparison1_folder_name = folder + 'plots_and_circuits/generation_'\n",
    "offsprings_folder_name = folder + 'plots_and_circuits/generation_'"
   ]
  },
  {
   "cell_type": "code",
   "execution_count": 18,
   "id": "1ae8a717-5d97-4090-bf11-559c8a45d67d",
   "metadata": {},
   "outputs": [],
   "source": [
    "def plot_distribution():\n",
    "    with open(folder + 'fitnesses_2d.csv', 'a') as f:\n",
    "        writer = csv.writer(f)\n",
    "\n",
    "        fitnesses = []\n",
    "\n",
    "        for circuit in opt.population.individuals:\n",
    "            fitnesses.append(circuit.get_fitness())\n",
    "        writer.writerow(fitnesses)\n",
    "        \n",
    "    plt.title(\"generation \" + str(opt.generation))\n",
    "    plt.xlabel('fitness values')\n",
    "    plt.ylabel('quantity')\n",
    "    plt.hist(fitnesses, range=[0.0, 1.0], bins=10, rwidth=0.95)\n",
    "    plt.savefig(distributions_folder_name + str(opt.generation) + '.png', bbox_inches='tight')\n",
    "    plt.close()"
   ]
  },
  {
   "cell_type": "code",
   "execution_count": 19,
   "id": "0437fefe-ceda-4195-ae69-c233ded17c0a",
   "metadata": {},
   "outputs": [],
   "source": [
    "def plot_fitnesses():\n",
    "    for i in range(len(opt.population.individuals)):\n",
    "        plt.title(\"generation \" + str(opt.generation) + \" circuit \" + str(i+1) + \" fitness: \" + str(opt.population.individuals[i].get_fitness()))\n",
    "        plt.plot(opt.population.individuals[i].fitnesses)\n",
    "        plt.xlabel('iterations')\n",
    "        plt.ylabel('fitnesses')\n",
    "        directory1 = fitnesses_folder_name + str(opt.generation)\n",
    "        if not os.path.exists(directory1):\n",
    "            os.makedirs(directory1)\n",
    "        plt.scatter(opt.population.individuals[i].best_loss_idx, opt.population.individuals[i].fitnesses[opt.population.individuals[i].best_loss_idx],c='r')\n",
    "        plt.savefig(directory1 + '/circuit_' + str(i+1) +'_fitness.png', bbox_inches='tight')\n",
    "        plt.cla()\n",
    "        plt.close(\"all\")"
   ]
  },
  {
   "cell_type": "code",
   "execution_count": 20,
   "id": "4e022580-2388-4071-be3a-80b3227fb7fc",
   "metadata": {},
   "outputs": [],
   "source": [
    "def plot_losses():\n",
    "    for i in range(len(opt.population.individuals)):\n",
    "        plt.title(\"generation \" + str(opt.generation) + \" circuit \" + str(i+1) + \" losses: \" + str(opt.population.individuals[i].losses[opt.population.individuals[i].best_loss_idx]))\n",
    "        plt.plot(opt.population.individuals[i].losses)\n",
    "        plt.xlabel('iterations')\n",
    "        plt.ylabel('losses')\n",
    "        directory1 = losses_folder_name + str(opt.generation)\n",
    "        if not os.path.exists(directory1):\n",
    "            os.makedirs(directory1)\n",
    "        plt.scatter(opt.population.individuals[i].best_loss_idx, opt.population.individuals[i].losses[opt.population.individuals[i].best_loss_idx],c='r')\n",
    "        plt.savefig(directory1 + '/circuit_' + str(i+1) +'_losses.png', bbox_inches='tight')\n",
    "        plt.cla()\n",
    "        plt.close(\"all\")"
   ]
  },
  {
   "cell_type": "code",
   "execution_count": 21,
   "id": "4159b11c-d701-47c2-9f83-e6dfda6d04dd",
   "metadata": {},
   "outputs": [],
   "source": [
    "def draw_circuits(): \n",
    "    for i in range(len(opt.population.individuals)):\n",
    "        circuit = opt.population.individuals[i]\n",
    "        fig, ax = qml.draw_mpl(convert_tensor_to_circuit)(circuit.tensor, circuit.params, circuit.n_qubits, circuit.num_one_gates, circuit.num_two_gates)\n",
    "        title = \"generation \" + str(opt.generation) +  \" circuit \" + str(i+1) + \" fitness: \" + str(circuit.get_fitness())\n",
    "        ax.set_title(title)\n",
    "        directory2 = circuits_folder_name + str(opt.generation)\n",
    "        if not os.path.exists(directory2):\n",
    "            os.makedirs(directory2)\n",
    "        fig.savefig(directory2 + '/circuit_' + str(i+1) +'_circuit.png', bbox_inches='tight')\n",
    "        plt.close(\"all\")"
   ]
  },
  {
   "cell_type": "code",
   "execution_count": 22,
   "id": "6e891c51-1d0b-4829-8462-db70b10fb729",
   "metadata": {},
   "outputs": [],
   "source": [
    "def plot_comparisons(title = ''):\n",
    "    for i in range(len(opt.population.individuals)):\n",
    "        circuit = opt.population.individuals[i]    \n",
    "        h1dgen = convert_tensor_to_circuit(circuit.tensor, circuit.params, circuit.n_qubits, circuit.num_one_gates, circuit.num_two_gates)\n",
    "        h2dgen = h1dgen.reshape((16,16))\n",
    "        plt.figure( figsize=(10,10))\n",
    "        h1gen = np.sum(h2dgen, axis=1)\n",
    "        h1gen = h1gen / np.sum(h1gen)\n",
    "        h2gen = np.sum(h2dgen, axis=0)\n",
    "        h2gen = h2gen / np.sum(h2gen)\n",
    "        plt.suptitle(title)\n",
    "        plt.subplot(221)\n",
    "        plt.bar(bins_pt,probability_pt, label='target', width=5, align='edge')\n",
    "        plt.bar(bins_pt, h1gen, label='generated',width=-5, align='edge')\n",
    "        plt.xlabel('Jet pT [GeV]')\n",
    "        plt.legend()\n",
    "        plt.subplot(222)\n",
    "        #plt.bar(bins_eta,P_target_eta , label='target', width=0.1, align='edge')\n",
    "        plt.bar(bins_mass,probability_mass , label='target', width=5, align='edge')\n",
    "        #plt.bar(bins_eta, h2gen, label='generated',width=-0.1, align='edge')\n",
    "        plt.bar(bins_mass, h2gen, label='generated',width=-5, align='edge')\n",
    "        #plt.xlabel('Jet eta')\n",
    "        plt.xlabel('Jet mass [GeV]')\n",
    "        plt.legend()\n",
    "        plt.subplot(223)\n",
    "        plt.imshow(np.flip(target_2d.transpose(), axis=0),\n",
    "                   #extent=[ bins_pt_edge[0], bins_pt_edge[-1],bins_eta_edge[0],bins_eta_edge[-1]],\n",
    "                   extent=[ bins_pt_edge[0], bins_pt_edge[-1],bins_mass_edge[0],bins_mass_edge[-1]],\n",
    "                   aspect='auto')\n",
    "        plt.xlabel('Jet pT [GeV]')\n",
    "        #plt.ylabel('Jet eta')\n",
    "        plt.ylabel('Jet mass [GeV]')\n",
    "        plt.title('target')\n",
    "        plt.subplot(224)\n",
    "        plt.imshow(np.flip(h2dgen.transpose(),axis=0),\n",
    "                   #extent=[ bins_pt_edge[0], bins_pt_edge[-1],bins_eta_edge[0],bins_eta_edge[-1]],\n",
    "                   extent=[ bins_pt_edge[0], bins_pt_edge[-1],bins_mass_edge[0],bins_mass_edge[-1]],\n",
    "                   aspect='auto')\n",
    "        plt.xlabel('Jet pT [GeV]')\n",
    "        #plt.ylabel('Jet eta')\n",
    "        plt.ylabel('Jet mass [GeV]')\n",
    "        plt.title('generated')\n",
    "        plt.savefig(losses_folder_name + str(opt.generation) + '/circuit_' + str(i+1) +'_comparisons.png', bbox_inches='tight')\n",
    "        plt.close(\"all\")"
   ]
  },
  {
   "cell_type": "code",
   "execution_count": 23,
   "id": "c0463f4a-70e0-4b7b-a095-fdf037b0c5e8",
   "metadata": {
    "tags": []
   },
   "outputs": [],
   "source": [
    "# plot_distribution()\n",
    "draw_circuits()\n",
    "plot_fitnesses()\n",
    "plot_losses()\n",
    "plot_comparisons()"
   ]
  },
  {
   "cell_type": "markdown",
   "id": "eaa2d14d-007d-4c9b-9aa9-1fa04838c8c2",
   "metadata": {},
   "source": [
    "### GA"
   ]
  },
  {
   "cell_type": "code",
   "execution_count": 24,
   "id": "ba501afc-51cb-4a16-8be6-8e07a17143a7",
   "metadata": {},
   "outputs": [
    {
     "ename": "KeyboardInterrupt",
     "evalue": "",
     "output_type": "error",
     "traceback": [
      "\u001b[0;31m---------------------------------------------------------------------------\u001b[0m",
      "\u001b[0;31mKeyboardInterrupt\u001b[0m                         Traceback (most recent call last)",
      "Input \u001b[0;32mIn [24]\u001b[0m, in \u001b[0;36m<cell line: 1>\u001b[0;34m()\u001b[0m\n\u001b[1;32m      7\u001b[0m     \u001b[38;5;28;01mif\u001b[39;00m random\u001b[38;5;241m.\u001b[39mrandom() \u001b[38;5;241m<\u001b[39m \u001b[38;5;241m0.7\u001b[39m:\n\u001b[1;32m      8\u001b[0m         opt\u001b[38;5;241m.\u001b[39mmutate()\n\u001b[0;32m---> 10\u001b[0m \u001b[43mopt\u001b[49m\u001b[38;5;241;43m.\u001b[39;49m\u001b[43mtrain_offsprings\u001b[49m\u001b[43m(\u001b[49m\u001b[43m)\u001b[49m\n\u001b[1;32m     11\u001b[0m draw_and_save_offsprings()\n\u001b[1;32m     12\u001b[0m opt\u001b[38;5;241m.\u001b[39madd_offsprings()\n",
      "File \u001b[0;32m~/cernbox/optimizer_code/ansatz_optimizer_2D.py:423\u001b[0m, in \u001b[0;36mtrain_offsprings\u001b[0;34m(self)\u001b[0m\n\u001b[1;32m    421\u001b[0m \u001b[38;5;28;01mdef\u001b[39;00m \u001b[38;5;21madd_offsprings\u001b[39m(\u001b[38;5;28mself\u001b[39m):\n\u001b[1;32m    422\u001b[0m     \u001b[38;5;28;01mfor\u001b[39;00m offspring \u001b[38;5;129;01min\u001b[39;00m \u001b[38;5;28mself\u001b[39m\u001b[38;5;241m.\u001b[39moffsprings\u001b[38;5;241m.\u001b[39mindividuals:\n\u001b[0;32m--> 423\u001b[0m         compare \u001b[38;5;241m=\u001b[39m \u001b[38;5;28mlen\u001b[39m(offspring\u001b[38;5;241m.\u001b[39mparams) \u001b[38;5;241m==\u001b[39m get_num_params(tensor, n_qubits, num_one_gates, num_two_gates)\n\u001b[1;32m    424\u001b[0m         \u001b[38;5;28;01mif\u001b[39;00m \u001b[38;5;129;01mnot\u001b[39;00m compare:\n\u001b[1;32m    425\u001b[0m             \u001b[38;5;28mprint\u001b[39m(offspring\u001b[38;5;241m.\u001b[39mtensor)\n",
      "File \u001b[0;32m~/cernbox/optimizer_code/ansatz_optimizer_2D.py:357\u001b[0m, in \u001b[0;36mPopulation.train_all\u001b[0;34m(self)\u001b[0m\n\u001b[1;32m    355\u001b[0m procs \u001b[38;5;241m=\u001b[39m []\n\u001b[1;32m    356\u001b[0m \u001b[38;5;28;01mfor\u001b[39;00m circuit \u001b[38;5;129;01min\u001b[39;00m \u001b[38;5;28mself\u001b[39m\u001b[38;5;241m.\u001b[39mindividuals:\n\u001b[0;32m--> 357\u001b[0m     proc \u001b[38;5;241m=\u001b[39m mp\u001b[38;5;241m.\u001b[39mProcess(target\u001b[38;5;241m=\u001b[39m\u001b[43mcircuit\u001b[49m\u001b[38;5;241;43m.\u001b[39;49m\u001b[43mtrain_fitness\u001b[49m\u001b[43m(\u001b[49m\u001b[43m)\u001b[49m)\n\u001b[1;32m    358\u001b[0m     procs\u001b[38;5;241m.\u001b[39mappend(proc)\n\u001b[1;32m    359\u001b[0m     proc\u001b[38;5;241m.\u001b[39mstart()\n",
      "File \u001b[0;32m~/cernbox/optimizer_code/ansatz_optimizer_2D.py:260\u001b[0m, in \u001b[0;36mIndividualCircuit.train_fitness\u001b[0;34m(self, n_steps, scheduled)\u001b[0m\n\u001b[1;32m    259\u001b[0m \u001b[38;5;28;01mdef\u001b[39;00m \u001b[38;5;21mtrain_fitness\u001b[39m(\u001b[38;5;28mself\u001b[39m, n_steps\u001b[38;5;241m=\u001b[39m\u001b[38;5;28;01mNone\u001b[39;00m, scheduled\u001b[38;5;241m=\u001b[39m\u001b[38;5;28;01mFalse\u001b[39;00m):\n\u001b[0;32m--> 260\u001b[0m     \u001b[38;5;28;43mself\u001b[39;49m\u001b[38;5;241;43m.\u001b[39;49m\u001b[43mtrain\u001b[49m\u001b[43m(\u001b[49m\u001b[43mconvert_tensor_to_circuit\u001b[49m\u001b[43m,\u001b[49m\u001b[43m \u001b[49m\u001b[43mn_steps\u001b[49m\u001b[43m,\u001b[49m\u001b[43m \u001b[49m\u001b[43mscheduled\u001b[49m\u001b[43m)\u001b[49m\n\u001b[1;32m    261\u001b[0m     \u001b[38;5;28mself\u001b[39m\u001b[38;5;241m.\u001b[39mfitness \u001b[38;5;241m=\u001b[39m \u001b[38;5;28mself\u001b[39m\u001b[38;5;241m.\u001b[39mfitnesses[\u001b[38;5;28mself\u001b[39m\u001b[38;5;241m.\u001b[39mbest_loss_idx]\n",
      "File \u001b[0;32m~/cernbox/optimizer_code/ansatz_optimizer_2D.py:207\u001b[0m, in \u001b[0;36mIndividualCircuit.train\u001b[0;34m(self, circuit, n_steps, scheduled)\u001b[0m\n\u001b[1;32m    205\u001b[0m \u001b[38;5;28;01mif\u001b[39;00m scheduled: \n\u001b[1;32m    206\u001b[0m     opt\u001b[38;5;241m=\u001b[39mscheduled_opt(\u001b[38;5;28mlen\u001b[39m(\u001b[38;5;28mself\u001b[39m\u001b[38;5;241m.\u001b[39mlosses))\n\u001b[0;32m--> 207\u001b[0m trained_params, L \u001b[38;5;241m=\u001b[39m \u001b[43mopt\u001b[49m\u001b[38;5;241;43m.\u001b[39;49m\u001b[43mstep_and_cost\u001b[49m\u001b[43m(\u001b[49m\u001b[38;5;28;43;01mlambda\u001b[39;49;00m\u001b[43m \u001b[49m\u001b[43mv\u001b[49m\u001b[43m:\u001b[49m\u001b[43m \u001b[49m\u001b[38;5;28;43mself\u001b[39;49m\u001b[38;5;241;43m.\u001b[39;49m\u001b[43mloss_2d\u001b[49m\u001b[43m(\u001b[49m\u001b[43mcircuit\u001b[49m\u001b[43m,\u001b[49m\u001b[43mv\u001b[49m\u001b[43m)\u001b[49m\u001b[43m,\u001b[49m\u001b[43m \u001b[49m\u001b[43mtrained_params\u001b[49m\u001b[43m)\u001b[49m\n\u001b[1;32m    208\u001b[0m lap \u001b[38;5;241m=\u001b[39m start \u001b[38;5;241m=\u001b[39m time\u001b[38;5;241m.\u001b[39mmktime(time\u001b[38;5;241m.\u001b[39mgmtime())\n\u001b[1;32m    209\u001b[0m step_time \u001b[38;5;241m=\u001b[39m lap \u001b[38;5;241m-\u001b[39m prelap\n",
      "File \u001b[0;32m/usr/local/lib/python3.8/site-packages/pennylane/optimize/gradient_descent.py:59\u001b[0m, in \u001b[0;36mGradientDescentOptimizer.step_and_cost\u001b[0;34m(self, objective_fn, grad_fn, *args, **kwargs)\u001b[0m\n\u001b[1;32m     39\u001b[0m \u001b[38;5;28;01mdef\u001b[39;00m \u001b[38;5;21mstep_and_cost\u001b[39m(\u001b[38;5;28mself\u001b[39m, objective_fn, \u001b[38;5;241m*\u001b[39margs, grad_fn\u001b[38;5;241m=\u001b[39m\u001b[38;5;28;01mNone\u001b[39;00m, \u001b[38;5;241m*\u001b[39m\u001b[38;5;241m*\u001b[39mkwargs):\n\u001b[1;32m     40\u001b[0m     \u001b[38;5;124;03m\"\"\"Update trainable arguments with one step of the optimizer and return the corresponding\u001b[39;00m\n\u001b[1;32m     41\u001b[0m \u001b[38;5;124;03m    objective function value prior to the step.\u001b[39;00m\n\u001b[1;32m     42\u001b[0m \n\u001b[0;32m   (...)\u001b[0m\n\u001b[1;32m     56\u001b[0m \u001b[38;5;124;03m        If single arg is provided, list [array] is replaced by array.\u001b[39;00m\n\u001b[1;32m     57\u001b[0m \u001b[38;5;124;03m    \"\"\"\u001b[39;00m\n\u001b[0;32m---> 59\u001b[0m     g, forward \u001b[38;5;241m=\u001b[39m \u001b[38;5;28;43mself\u001b[39;49m\u001b[38;5;241;43m.\u001b[39;49m\u001b[43mcompute_grad\u001b[49m\u001b[43m(\u001b[49m\u001b[43mobjective_fn\u001b[49m\u001b[43m,\u001b[49m\u001b[43m \u001b[49m\u001b[43margs\u001b[49m\u001b[43m,\u001b[49m\u001b[43m \u001b[49m\u001b[43mkwargs\u001b[49m\u001b[43m,\u001b[49m\u001b[43m \u001b[49m\u001b[43mgrad_fn\u001b[49m\u001b[38;5;241;43m=\u001b[39;49m\u001b[43mgrad_fn\u001b[49m\u001b[43m)\u001b[49m\n\u001b[1;32m     60\u001b[0m     new_args \u001b[38;5;241m=\u001b[39m \u001b[38;5;28mself\u001b[39m\u001b[38;5;241m.\u001b[39mapply_grad(g, args)\n\u001b[1;32m     62\u001b[0m     \u001b[38;5;28;01mif\u001b[39;00m forward \u001b[38;5;129;01mis\u001b[39;00m \u001b[38;5;28;01mNone\u001b[39;00m:\n",
      "File \u001b[0;32m/usr/local/lib/python3.8/site-packages/pennylane/optimize/gradient_descent.py:117\u001b[0m, in \u001b[0;36mGradientDescentOptimizer.compute_grad\u001b[0;34m(objective_fn, args, kwargs, grad_fn)\u001b[0m\n\u001b[1;32m     99\u001b[0m \u001b[38;5;124mr\u001b[39m\u001b[38;5;124;03m\"\"\"Compute gradient of the objective function at the given point and return it along with\u001b[39;00m\n\u001b[1;32m    100\u001b[0m \u001b[38;5;124;03mthe objective function forward pass (if available).\u001b[39;00m\n\u001b[1;32m    101\u001b[0m \n\u001b[0;32m   (...)\u001b[0m\n\u001b[1;32m    114\u001b[0m \u001b[38;5;124;03m    will not be evaluted and instead ``None`` will be returned.\u001b[39;00m\n\u001b[1;32m    115\u001b[0m \u001b[38;5;124;03m\"\"\"\u001b[39;00m\n\u001b[1;32m    116\u001b[0m g \u001b[38;5;241m=\u001b[39m get_gradient(objective_fn) \u001b[38;5;28;01mif\u001b[39;00m grad_fn \u001b[38;5;129;01mis\u001b[39;00m \u001b[38;5;28;01mNone\u001b[39;00m \u001b[38;5;28;01melse\u001b[39;00m grad_fn\n\u001b[0;32m--> 117\u001b[0m grad \u001b[38;5;241m=\u001b[39m \u001b[43mg\u001b[49m\u001b[43m(\u001b[49m\u001b[38;5;241;43m*\u001b[39;49m\u001b[43margs\u001b[49m\u001b[43m,\u001b[49m\u001b[43m \u001b[49m\u001b[38;5;241;43m*\u001b[39;49m\u001b[38;5;241;43m*\u001b[39;49m\u001b[43mkwargs\u001b[49m\u001b[43m)\u001b[49m\n\u001b[1;32m    118\u001b[0m forward \u001b[38;5;241m=\u001b[39m \u001b[38;5;28mgetattr\u001b[39m(g, \u001b[38;5;124m\"\u001b[39m\u001b[38;5;124mforward\u001b[39m\u001b[38;5;124m\"\u001b[39m, \u001b[38;5;28;01mNone\u001b[39;00m)\n\u001b[1;32m    120\u001b[0m num_trainable_args \u001b[38;5;241m=\u001b[39m \u001b[38;5;28msum\u001b[39m(\u001b[38;5;28mgetattr\u001b[39m(arg, \u001b[38;5;124m\"\u001b[39m\u001b[38;5;124mrequires_grad\u001b[39m\u001b[38;5;124m\"\u001b[39m, \u001b[38;5;28;01mFalse\u001b[39;00m) \u001b[38;5;28;01mfor\u001b[39;00m arg \u001b[38;5;129;01min\u001b[39;00m args)\n",
      "File \u001b[0;32m/usr/local/lib/python3.8/site-packages/pennylane/_grad.py:115\u001b[0m, in \u001b[0;36mgrad.__call__\u001b[0;34m(self, *args, **kwargs)\u001b[0m\n\u001b[1;32m    112\u001b[0m     \u001b[38;5;28mself\u001b[39m\u001b[38;5;241m.\u001b[39m_forward \u001b[38;5;241m=\u001b[39m \u001b[38;5;28mself\u001b[39m\u001b[38;5;241m.\u001b[39m_fun(\u001b[38;5;241m*\u001b[39margs, \u001b[38;5;241m*\u001b[39m\u001b[38;5;241m*\u001b[39mkwargs)\n\u001b[1;32m    113\u001b[0m     \u001b[38;5;28;01mreturn\u001b[39;00m ()\n\u001b[0;32m--> 115\u001b[0m grad_value, ans \u001b[38;5;241m=\u001b[39m \u001b[43mgrad_fn\u001b[49m\u001b[43m(\u001b[49m\u001b[38;5;241;43m*\u001b[39;49m\u001b[43margs\u001b[49m\u001b[43m,\u001b[49m\u001b[43m \u001b[49m\u001b[38;5;241;43m*\u001b[39;49m\u001b[38;5;241;43m*\u001b[39;49m\u001b[43mkwargs\u001b[49m\u001b[43m)\u001b[49m\n\u001b[1;32m    116\u001b[0m \u001b[38;5;28mself\u001b[39m\u001b[38;5;241m.\u001b[39m_forward \u001b[38;5;241m=\u001b[39m ans\n\u001b[1;32m    118\u001b[0m \u001b[38;5;28;01mreturn\u001b[39;00m grad_value\n",
      "File \u001b[0;32m/usr/local/lib/python3.8/site-packages/autograd/wrap_util.py:20\u001b[0m, in \u001b[0;36munary_to_nary.<locals>.nary_operator.<locals>.nary_f\u001b[0;34m(*args, **kwargs)\u001b[0m\n\u001b[1;32m     18\u001b[0m \u001b[38;5;28;01melse\u001b[39;00m:\n\u001b[1;32m     19\u001b[0m     x \u001b[38;5;241m=\u001b[39m \u001b[38;5;28mtuple\u001b[39m(args[i] \u001b[38;5;28;01mfor\u001b[39;00m i \u001b[38;5;129;01min\u001b[39;00m argnum)\n\u001b[0;32m---> 20\u001b[0m \u001b[38;5;28;01mreturn\u001b[39;00m \u001b[43munary_operator\u001b[49m\u001b[43m(\u001b[49m\u001b[43munary_f\u001b[49m\u001b[43m,\u001b[49m\u001b[43m \u001b[49m\u001b[43mx\u001b[49m\u001b[43m,\u001b[49m\u001b[43m \u001b[49m\u001b[38;5;241;43m*\u001b[39;49m\u001b[43mnary_op_args\u001b[49m\u001b[43m,\u001b[49m\u001b[43m \u001b[49m\u001b[38;5;241;43m*\u001b[39;49m\u001b[38;5;241;43m*\u001b[39;49m\u001b[43mnary_op_kwargs\u001b[49m\u001b[43m)\u001b[49m\n",
      "File \u001b[0;32m/usr/local/lib/python3.8/site-packages/pennylane/_grad.py:133\u001b[0m, in \u001b[0;36mgrad._grad_with_forward\u001b[0;34m(fun, x)\u001b[0m\n\u001b[1;32m    127\u001b[0m \u001b[38;5;129m@staticmethod\u001b[39m\n\u001b[1;32m    128\u001b[0m \u001b[38;5;129m@unary_to_nary\u001b[39m\n\u001b[1;32m    129\u001b[0m \u001b[38;5;28;01mdef\u001b[39;00m \u001b[38;5;21m_grad_with_forward\u001b[39m(fun, x):\n\u001b[1;32m    130\u001b[0m     \u001b[38;5;124;03m\"\"\"This function is a replica of ``autograd.grad``, with the only\u001b[39;00m\n\u001b[1;32m    131\u001b[0m \u001b[38;5;124;03m    difference being that it returns both the gradient *and* the forward pass\u001b[39;00m\n\u001b[1;32m    132\u001b[0m \u001b[38;5;124;03m    value.\"\"\"\u001b[39;00m\n\u001b[0;32m--> 133\u001b[0m     vjp, ans \u001b[38;5;241m=\u001b[39m \u001b[43m_make_vjp\u001b[49m\u001b[43m(\u001b[49m\u001b[43mfun\u001b[49m\u001b[43m,\u001b[49m\u001b[43m \u001b[49m\u001b[43mx\u001b[49m\u001b[43m)\u001b[49m\n\u001b[1;32m    135\u001b[0m     \u001b[38;5;28;01mif\u001b[39;00m \u001b[38;5;129;01mnot\u001b[39;00m vspace(ans)\u001b[38;5;241m.\u001b[39msize \u001b[38;5;241m==\u001b[39m \u001b[38;5;241m1\u001b[39m:\n\u001b[1;32m    136\u001b[0m         \u001b[38;5;28;01mraise\u001b[39;00m \u001b[38;5;167;01mTypeError\u001b[39;00m(\n\u001b[1;32m    137\u001b[0m             \u001b[38;5;124m\"\u001b[39m\u001b[38;5;124mGrad only applies to real scalar-output functions. \u001b[39m\u001b[38;5;124m\"\u001b[39m\n\u001b[1;32m    138\u001b[0m             \u001b[38;5;124m\"\u001b[39m\u001b[38;5;124mTry jacobian, elementwise_grad or holomorphic_grad.\u001b[39m\u001b[38;5;124m\"\u001b[39m\n\u001b[1;32m    139\u001b[0m         )\n",
      "File \u001b[0;32m/usr/local/lib/python3.8/site-packages/autograd/core.py:10\u001b[0m, in \u001b[0;36mmake_vjp\u001b[0;34m(fun, x)\u001b[0m\n\u001b[1;32m      8\u001b[0m \u001b[38;5;28;01mdef\u001b[39;00m \u001b[38;5;21mmake_vjp\u001b[39m(fun, x):\n\u001b[1;32m      9\u001b[0m     start_node \u001b[38;5;241m=\u001b[39m VJPNode\u001b[38;5;241m.\u001b[39mnew_root()\n\u001b[0;32m---> 10\u001b[0m     end_value, end_node \u001b[38;5;241m=\u001b[39m  \u001b[43mtrace\u001b[49m\u001b[43m(\u001b[49m\u001b[43mstart_node\u001b[49m\u001b[43m,\u001b[49m\u001b[43m \u001b[49m\u001b[43mfun\u001b[49m\u001b[43m,\u001b[49m\u001b[43m \u001b[49m\u001b[43mx\u001b[49m\u001b[43m)\u001b[49m\n\u001b[1;32m     11\u001b[0m     \u001b[38;5;28;01mif\u001b[39;00m end_node \u001b[38;5;129;01mis\u001b[39;00m \u001b[38;5;28;01mNone\u001b[39;00m:\n\u001b[1;32m     12\u001b[0m         \u001b[38;5;28;01mdef\u001b[39;00m \u001b[38;5;21mvjp\u001b[39m(g): \u001b[38;5;28;01mreturn\u001b[39;00m vspace(x)\u001b[38;5;241m.\u001b[39mzeros()\n",
      "File \u001b[0;32m/usr/local/lib/python3.8/site-packages/autograd/tracer.py:10\u001b[0m, in \u001b[0;36mtrace\u001b[0;34m(start_node, fun, x)\u001b[0m\n\u001b[1;32m      8\u001b[0m \u001b[38;5;28;01mwith\u001b[39;00m trace_stack\u001b[38;5;241m.\u001b[39mnew_trace() \u001b[38;5;28;01mas\u001b[39;00m t:\n\u001b[1;32m      9\u001b[0m     start_box \u001b[38;5;241m=\u001b[39m new_box(x, t, start_node)\n\u001b[0;32m---> 10\u001b[0m     end_box \u001b[38;5;241m=\u001b[39m \u001b[43mfun\u001b[49m\u001b[43m(\u001b[49m\u001b[43mstart_box\u001b[49m\u001b[43m)\u001b[49m\n\u001b[1;32m     11\u001b[0m     \u001b[38;5;28;01mif\u001b[39;00m isbox(end_box) \u001b[38;5;129;01mand\u001b[39;00m end_box\u001b[38;5;241m.\u001b[39m_trace \u001b[38;5;241m==\u001b[39m start_box\u001b[38;5;241m.\u001b[39m_trace:\n\u001b[1;32m     12\u001b[0m         \u001b[38;5;28;01mreturn\u001b[39;00m end_box\u001b[38;5;241m.\u001b[39m_value, end_box\u001b[38;5;241m.\u001b[39m_node\n",
      "File \u001b[0;32m/usr/local/lib/python3.8/site-packages/autograd/wrap_util.py:15\u001b[0m, in \u001b[0;36munary_to_nary.<locals>.nary_operator.<locals>.nary_f.<locals>.unary_f\u001b[0;34m(x)\u001b[0m\n\u001b[1;32m     13\u001b[0m \u001b[38;5;28;01melse\u001b[39;00m:\n\u001b[1;32m     14\u001b[0m     subargs \u001b[38;5;241m=\u001b[39m subvals(args, \u001b[38;5;28mzip\u001b[39m(argnum, x))\n\u001b[0;32m---> 15\u001b[0m \u001b[38;5;28;01mreturn\u001b[39;00m \u001b[43mfun\u001b[49m\u001b[43m(\u001b[49m\u001b[38;5;241;43m*\u001b[39;49m\u001b[43msubargs\u001b[49m\u001b[43m,\u001b[49m\u001b[43m \u001b[49m\u001b[38;5;241;43m*\u001b[39;49m\u001b[38;5;241;43m*\u001b[39;49m\u001b[43mkwargs\u001b[49m\u001b[43m)\u001b[49m\n",
      "File \u001b[0;32m~/cernbox/optimizer_code/ansatz_optimizer_2D.py:207\u001b[0m, in \u001b[0;36mIndividualCircuit.train.<locals>.<lambda>\u001b[0;34m(v)\u001b[0m\n\u001b[1;32m    205\u001b[0m \u001b[38;5;28;01mif\u001b[39;00m scheduled: \n\u001b[1;32m    206\u001b[0m     opt\u001b[38;5;241m=\u001b[39mscheduled_opt(\u001b[38;5;28mlen\u001b[39m(\u001b[38;5;28mself\u001b[39m\u001b[38;5;241m.\u001b[39mlosses))\n\u001b[0;32m--> 207\u001b[0m trained_params, L \u001b[38;5;241m=\u001b[39m opt\u001b[38;5;241m.\u001b[39mstep_and_cost(\u001b[38;5;28;01mlambda\u001b[39;00m v: \u001b[38;5;28;43mself\u001b[39;49m\u001b[38;5;241;43m.\u001b[39;49m\u001b[43mloss_2d\u001b[49m\u001b[43m(\u001b[49m\u001b[43mcircuit\u001b[49m\u001b[43m,\u001b[49m\u001b[43mv\u001b[49m\u001b[43m)\u001b[49m, trained_params)\n\u001b[1;32m    208\u001b[0m lap \u001b[38;5;241m=\u001b[39m start \u001b[38;5;241m=\u001b[39m time\u001b[38;5;241m.\u001b[39mmktime(time\u001b[38;5;241m.\u001b[39mgmtime())\n\u001b[1;32m    209\u001b[0m step_time \u001b[38;5;241m=\u001b[39m lap \u001b[38;5;241m-\u001b[39m prelap\n",
      "File \u001b[0;32m~/cernbox/optimizer_code/ansatz_optimizer_2D.py:293\u001b[0m, in \u001b[0;36mIndividualCircuit.loss_2d\u001b[0;34m(self, circuit, params)\u001b[0m\n\u001b[1;32m    292\u001b[0m \u001b[38;5;28;01mdef\u001b[39;00m \u001b[38;5;21mloss_2d\u001b[39m(\u001b[38;5;28mself\u001b[39m, circuit, params):\n\u001b[0;32m--> 293\u001b[0m     \u001b[38;5;28;01mreturn\u001b[39;00m \u001b[43mjensen_shannon_loss\u001b[49m\u001b[43m(\u001b[49m\u001b[43mcircuit\u001b[49m\u001b[43m(\u001b[49m\u001b[38;5;28;43mself\u001b[39;49m\u001b[38;5;241;43m.\u001b[39;49m\u001b[43mtensor\u001b[49m\u001b[43m,\u001b[49m\u001b[43m \u001b[49m\u001b[43mparams\u001b[49m\u001b[43m,\u001b[49m\u001b[43m \u001b[49m\u001b[38;5;28;43mself\u001b[39;49m\u001b[38;5;241;43m.\u001b[39;49m\u001b[43mn_qubits\u001b[49m\u001b[43m,\u001b[49m\u001b[43m \u001b[49m\u001b[38;5;28;43mself\u001b[39;49m\u001b[38;5;241;43m.\u001b[39;49m\u001b[43mnum_one_gates\u001b[49m\u001b[43m,\u001b[49m\u001b[43m \u001b[49m\u001b[38;5;28;43mself\u001b[39;49m\u001b[38;5;241;43m.\u001b[39;49m\u001b[43mnum_two_gates\u001b[49m\u001b[43m)\u001b[49m\u001b[38;5;241;43m.\u001b[39;49m\u001b[43mreshape\u001b[49m\u001b[43m(\u001b[49m\u001b[38;5;241;43m16\u001b[39;49m\u001b[43m,\u001b[49m\u001b[38;5;241;43m16\u001b[39;49m\u001b[43m)\u001b[49m\u001b[43m,\u001b[49m\u001b[38;5;28;43mself\u001b[39;49m\u001b[38;5;241;43m.\u001b[39;49m\u001b[43mtarget\u001b[49m\u001b[38;5;241;43m.\u001b[39;49m\u001b[43mreshape\u001b[49m\u001b[43m(\u001b[49m\u001b[38;5;241;43m16\u001b[39;49m\u001b[43m,\u001b[49m\u001b[38;5;241;43m16\u001b[39;49m\u001b[43m)\u001b[49m\u001b[43m)\u001b[49m\n",
      "File \u001b[0;32m~/cernbox/optimizer_code/ansatz_optimizer_2D.py:146\u001b[0m, in \u001b[0;36mjensen_shannon_loss\u001b[0;34m(p, q)\u001b[0m\n\u001b[1;32m    144\u001b[0m \u001b[38;5;28;01mdef\u001b[39;00m \u001b[38;5;21mjensen_shannon_loss\u001b[39m(p,q):\n\u001b[1;32m    145\u001b[0m     M \u001b[38;5;241m=\u001b[39m np\u001b[38;5;241m.\u001b[39mmultiply(q\u001b[38;5;241m+\u001b[39mp,\u001b[38;5;241m0.5\u001b[39m)\n\u001b[0;32m--> 146\u001b[0m     \u001b[38;5;28;01mreturn\u001b[39;00m \u001b[38;5;241m0.5\u001b[39m\u001b[38;5;241m*\u001b[39mqml_entropy(p,M)\u001b[38;5;241m+\u001b[39m\u001b[38;5;241m0.5\u001b[39m\u001b[38;5;241m*\u001b[39m\u001b[43mqml_entropy\u001b[49m\u001b[43m(\u001b[49m\u001b[43mq\u001b[49m\u001b[43m,\u001b[49m\u001b[43mM\u001b[49m\u001b[43m)\u001b[49m\n",
      "File \u001b[0;32m~/cernbox/optimizer_code/ansatz_optimizer_2D.py:132\u001b[0m, in \u001b[0;36mqml_entropy\u001b[0;34m(pk, qk)\u001b[0m\n\u001b[1;32m    129\u001b[0m qk \u001b[38;5;241m=\u001b[39m np\u001b[38;5;241m.\u001b[39masarray(qk)\n\u001b[1;32m    130\u001b[0m ck \u001b[38;5;241m=\u001b[39m np\u001b[38;5;241m.\u001b[39mbroadcast(pk, qk)\n\u001b[0;32m--> 132\u001b[0m vec \u001b[38;5;241m=\u001b[39m [u\u001b[38;5;241m*\u001b[39mnp\u001b[38;5;241m.\u001b[39mlog(u\u001b[38;5;241m/\u001b[39mv) \u001b[38;5;28;01mif\u001b[39;00m (u\u001b[38;5;241m>\u001b[39m\u001b[38;5;241m0\u001b[39m \u001b[38;5;129;01mand\u001b[39;00m v\u001b[38;5;241m>\u001b[39m\u001b[38;5;241m0\u001b[39m) \u001b[38;5;28;01melse\u001b[39;00m \u001b[38;5;241m0\u001b[39m \u001b[38;5;28;01mif\u001b[39;00m (u \u001b[38;5;241m==\u001b[39m \u001b[38;5;241m0\u001b[39m \u001b[38;5;129;01mand\u001b[39;00m v\u001b[38;5;241m>\u001b[39m\u001b[38;5;241m=\u001b[39m\u001b[38;5;241m0\u001b[39m) \u001b[38;5;28;01melse\u001b[39;00m np\u001b[38;5;241m.\u001b[39minf \u001b[38;5;28;01mfor\u001b[39;00m (u,v) \u001b[38;5;129;01min\u001b[39;00m ck]\n\u001b[1;32m    133\u001b[0m S \u001b[38;5;241m=\u001b[39m np\u001b[38;5;241m.\u001b[39msum(vec)\n\u001b[1;32m    134\u001b[0m \u001b[38;5;28;01mreturn\u001b[39;00m S\n",
      "File \u001b[0;32m~/cernbox/optimizer_code/ansatz_optimizer_2D.py:132\u001b[0m, in \u001b[0;36m<listcomp>\u001b[0;34m(.0)\u001b[0m\n\u001b[1;32m    129\u001b[0m qk \u001b[38;5;241m=\u001b[39m np\u001b[38;5;241m.\u001b[39masarray(qk)\n\u001b[1;32m    130\u001b[0m ck \u001b[38;5;241m=\u001b[39m np\u001b[38;5;241m.\u001b[39mbroadcast(pk, qk)\n\u001b[0;32m--> 132\u001b[0m vec \u001b[38;5;241m=\u001b[39m [u\u001b[38;5;241m*\u001b[39mnp\u001b[38;5;241m.\u001b[39mlog(\u001b[43mu\u001b[49m\u001b[38;5;241;43m/\u001b[39;49m\u001b[43mv\u001b[49m) \u001b[38;5;28;01mif\u001b[39;00m (u\u001b[38;5;241m>\u001b[39m\u001b[38;5;241m0\u001b[39m \u001b[38;5;129;01mand\u001b[39;00m v\u001b[38;5;241m>\u001b[39m\u001b[38;5;241m0\u001b[39m) \u001b[38;5;28;01melse\u001b[39;00m \u001b[38;5;241m0\u001b[39m \u001b[38;5;28;01mif\u001b[39;00m (u \u001b[38;5;241m==\u001b[39m \u001b[38;5;241m0\u001b[39m \u001b[38;5;129;01mand\u001b[39;00m v\u001b[38;5;241m>\u001b[39m\u001b[38;5;241m=\u001b[39m\u001b[38;5;241m0\u001b[39m) \u001b[38;5;28;01melse\u001b[39;00m np\u001b[38;5;241m.\u001b[39minf \u001b[38;5;28;01mfor\u001b[39;00m (u,v) \u001b[38;5;129;01min\u001b[39;00m ck]\n\u001b[1;32m    133\u001b[0m S \u001b[38;5;241m=\u001b[39m np\u001b[38;5;241m.\u001b[39msum(vec)\n\u001b[1;32m    134\u001b[0m \u001b[38;5;28;01mreturn\u001b[39;00m S\n",
      "File \u001b[0;32m/usr/local/lib/python3.8/site-packages/autograd/numpy/numpy_boxes.py:39\u001b[0m, in \u001b[0;36mArrayBox.__rtruediv__\u001b[0;34m(self, other)\u001b[0m\n\u001b[0;32m---> 39\u001b[0m \u001b[38;5;28;01mdef\u001b[39;00m \u001b[38;5;21m__rtruediv__\u001b[39m(\u001b[38;5;28mself\u001b[39m, other): \u001b[38;5;28;01mreturn\u001b[39;00m \u001b[43manp\u001b[49m\u001b[38;5;241;43m.\u001b[39;49m\u001b[43mtrue_divide\u001b[49m\u001b[43m(\u001b[49m\u001b[43mother\u001b[49m\u001b[43m,\u001b[49m\u001b[43m \u001b[49m\u001b[38;5;28;43mself\u001b[39;49m\u001b[43m)\u001b[49m\n",
      "File \u001b[0;32m/usr/local/lib/python3.8/site-packages/autograd/tracer.py:45\u001b[0m, in \u001b[0;36mprimitive.<locals>.f_wrapped\u001b[0;34m(*args, **kwargs)\u001b[0m\n\u001b[1;32m     43\u001b[0m     argnums \u001b[38;5;241m=\u001b[39m \u001b[38;5;28mtuple\u001b[39m(argnum    \u001b[38;5;28;01mfor\u001b[39;00m argnum, _   \u001b[38;5;129;01min\u001b[39;00m boxed_args)\n\u001b[1;32m     44\u001b[0m     ans \u001b[38;5;241m=\u001b[39m f_wrapped(\u001b[38;5;241m*\u001b[39margvals, \u001b[38;5;241m*\u001b[39m\u001b[38;5;241m*\u001b[39mkwargs)\n\u001b[0;32m---> 45\u001b[0m     node \u001b[38;5;241m=\u001b[39m \u001b[43mnode_constructor\u001b[49m\u001b[43m(\u001b[49m\u001b[43mans\u001b[49m\u001b[43m,\u001b[49m\u001b[43m \u001b[49m\u001b[43mf_wrapped\u001b[49m\u001b[43m,\u001b[49m\u001b[43m \u001b[49m\u001b[43margvals\u001b[49m\u001b[43m,\u001b[49m\u001b[43m \u001b[49m\u001b[43mkwargs\u001b[49m\u001b[43m,\u001b[49m\u001b[43m \u001b[49m\u001b[43margnums\u001b[49m\u001b[43m,\u001b[49m\u001b[43m \u001b[49m\u001b[43mparents\u001b[49m\u001b[43m)\u001b[49m\n\u001b[1;32m     46\u001b[0m     \u001b[38;5;28;01mreturn\u001b[39;00m new_box(ans, trace, node)\n\u001b[1;32m     47\u001b[0m \u001b[38;5;28;01melse\u001b[39;00m:\n",
      "File \u001b[0;32m/usr/local/lib/python3.8/site-packages/autograd/core.py:36\u001b[0m, in \u001b[0;36mVJPNode.__init__\u001b[0;34m(self, value, fun, args, kwargs, parent_argnums, parents)\u001b[0m\n\u001b[1;32m     33\u001b[0m     fun_name \u001b[38;5;241m=\u001b[39m \u001b[38;5;28mgetattr\u001b[39m(fun, \u001b[38;5;124m'\u001b[39m\u001b[38;5;124m__name__\u001b[39m\u001b[38;5;124m'\u001b[39m, fun)\n\u001b[1;32m     34\u001b[0m     \u001b[38;5;28;01mraise\u001b[39;00m \u001b[38;5;167;01mNotImplementedError\u001b[39;00m(\u001b[38;5;124m\"\u001b[39m\u001b[38;5;124mVJP of \u001b[39m\u001b[38;5;132;01m{}\u001b[39;00m\u001b[38;5;124m wrt argnums \u001b[39m\u001b[38;5;132;01m{}\u001b[39;00m\u001b[38;5;124m not defined\u001b[39m\u001b[38;5;124m\"\u001b[39m\n\u001b[1;32m     35\u001b[0m                               \u001b[38;5;241m.\u001b[39mformat(fun_name, parent_argnums))\n\u001b[0;32m---> 36\u001b[0m \u001b[38;5;28mself\u001b[39m\u001b[38;5;241m.\u001b[39mvjp \u001b[38;5;241m=\u001b[39m \u001b[43mvjpmaker\u001b[49m\u001b[43m(\u001b[49m\u001b[43mparent_argnums\u001b[49m\u001b[43m,\u001b[49m\u001b[43m \u001b[49m\u001b[43mvalue\u001b[49m\u001b[43m,\u001b[49m\u001b[43m \u001b[49m\u001b[43margs\u001b[49m\u001b[43m,\u001b[49m\u001b[43m \u001b[49m\u001b[43mkwargs\u001b[49m\u001b[43m)\u001b[49m\n",
      "File \u001b[0;32m/usr/local/lib/python3.8/site-packages/autograd/core.py:66\u001b[0m, in \u001b[0;36mdefvjp.<locals>.vjp_argnums\u001b[0;34m(argnums, ans, args, kwargs)\u001b[0m\n\u001b[1;32m     63\u001b[0m     \u001b[38;5;28;01mexcept\u001b[39;00m \u001b[38;5;167;01mKeyError\u001b[39;00m:\n\u001b[1;32m     64\u001b[0m         \u001b[38;5;28;01mraise\u001b[39;00m \u001b[38;5;167;01mNotImplementedError\u001b[39;00m(\n\u001b[1;32m     65\u001b[0m             \u001b[38;5;124m\"\u001b[39m\u001b[38;5;124mVJP of \u001b[39m\u001b[38;5;132;01m{}\u001b[39;00m\u001b[38;5;124m wrt argnum 0 not defined\u001b[39m\u001b[38;5;124m\"\u001b[39m\u001b[38;5;241m.\u001b[39mformat(fun\u001b[38;5;241m.\u001b[39m\u001b[38;5;18m__name__\u001b[39m))\n\u001b[0;32m---> 66\u001b[0m     vjp \u001b[38;5;241m=\u001b[39m \u001b[43mvjpfun\u001b[49m\u001b[43m(\u001b[49m\u001b[43mans\u001b[49m\u001b[43m,\u001b[49m\u001b[43m \u001b[49m\u001b[38;5;241;43m*\u001b[39;49m\u001b[43margs\u001b[49m\u001b[43m,\u001b[49m\u001b[43m \u001b[49m\u001b[38;5;241;43m*\u001b[39;49m\u001b[38;5;241;43m*\u001b[39;49m\u001b[43mkwargs\u001b[49m\u001b[43m)\u001b[49m\n\u001b[1;32m     67\u001b[0m     \u001b[38;5;28;01mreturn\u001b[39;00m \u001b[38;5;28;01mlambda\u001b[39;00m g: (vjp(g),)\n\u001b[1;32m     68\u001b[0m \u001b[38;5;28;01melif\u001b[39;00m L \u001b[38;5;241m==\u001b[39m \u001b[38;5;241m2\u001b[39m:\n",
      "File \u001b[0;32m/usr/local/lib/python3.8/site-packages/autograd/numpy/numpy_vjps.py:53\u001b[0m, in \u001b[0;36m<lambda>\u001b[0;34m(ans, x, y)\u001b[0m\n\u001b[1;32m     48\u001b[0m defvjp(anp\u001b[38;5;241m.\u001b[39mlogaddexp,   \u001b[38;5;28;01mlambda\u001b[39;00m ans, x, y : unbroadcast_f(x, \u001b[38;5;28;01mlambda\u001b[39;00m g: g \u001b[38;5;241m*\u001b[39m anp\u001b[38;5;241m.\u001b[39mexp(x\u001b[38;5;241m-\u001b[39mans)),\n\u001b[1;32m     49\u001b[0m                         \u001b[38;5;28;01mlambda\u001b[39;00m ans, x, y : unbroadcast_f(y, \u001b[38;5;28;01mlambda\u001b[39;00m g: g \u001b[38;5;241m*\u001b[39m anp\u001b[38;5;241m.\u001b[39mexp(y\u001b[38;5;241m-\u001b[39mans)))\n\u001b[1;32m     50\u001b[0m defvjp(anp\u001b[38;5;241m.\u001b[39mlogaddexp2,  \u001b[38;5;28;01mlambda\u001b[39;00m ans, x, y : unbroadcast_f(x, \u001b[38;5;28;01mlambda\u001b[39;00m g: g \u001b[38;5;241m*\u001b[39m \u001b[38;5;241m2\u001b[39m\u001b[38;5;241m*\u001b[39m\u001b[38;5;241m*\u001b[39m(x\u001b[38;5;241m-\u001b[39mans)),\n\u001b[1;32m     51\u001b[0m                         \u001b[38;5;28;01mlambda\u001b[39;00m ans, x, y : unbroadcast_f(y, \u001b[38;5;28;01mlambda\u001b[39;00m g: g \u001b[38;5;241m*\u001b[39m \u001b[38;5;241m2\u001b[39m\u001b[38;5;241m*\u001b[39m\u001b[38;5;241m*\u001b[39m(y\u001b[38;5;241m-\u001b[39mans)))\n\u001b[1;32m     52\u001b[0m defvjp(anp\u001b[38;5;241m.\u001b[39mtrue_divide, \u001b[38;5;28;01mlambda\u001b[39;00m ans, x, y : unbroadcast_f(x, \u001b[38;5;28;01mlambda\u001b[39;00m g: g \u001b[38;5;241m/\u001b[39m y),\n\u001b[0;32m---> 53\u001b[0m                         \u001b[38;5;28;01mlambda\u001b[39;00m ans, x, y : \u001b[43munbroadcast_f\u001b[49m\u001b[43m(\u001b[49m\u001b[43my\u001b[49m\u001b[43m,\u001b[49m\u001b[43m \u001b[49m\u001b[38;5;28;43;01mlambda\u001b[39;49;00m\u001b[43m \u001b[49m\u001b[43mg\u001b[49m\u001b[43m:\u001b[49m\u001b[43m \u001b[49m\u001b[38;5;241;43m-\u001b[39;49m\u001b[43m \u001b[49m\u001b[43mg\u001b[49m\u001b[43m \u001b[49m\u001b[38;5;241;43m*\u001b[39;49m\u001b[43m \u001b[49m\u001b[43mx\u001b[49m\u001b[43m \u001b[49m\u001b[38;5;241;43m/\u001b[39;49m\u001b[43m \u001b[49m\u001b[43my\u001b[49m\u001b[38;5;241;43m*\u001b[39;49m\u001b[38;5;241;43m*\u001b[39;49m\u001b[38;5;241;43m2\u001b[39;49m\u001b[43m)\u001b[49m)\n\u001b[1;32m     54\u001b[0m defvjp(anp\u001b[38;5;241m.\u001b[39mmod,         \u001b[38;5;28;01mlambda\u001b[39;00m ans, x, y : unbroadcast_f(x, \u001b[38;5;28;01mlambda\u001b[39;00m g: g),\n\u001b[1;32m     55\u001b[0m                         \u001b[38;5;28;01mlambda\u001b[39;00m ans, x, y : unbroadcast_f(y, \u001b[38;5;28;01mlambda\u001b[39;00m g: \u001b[38;5;241m-\u001b[39mg \u001b[38;5;241m*\u001b[39m anp\u001b[38;5;241m.\u001b[39mfloor(x\u001b[38;5;241m/\u001b[39my)))\n\u001b[1;32m     56\u001b[0m defvjp(anp\u001b[38;5;241m.\u001b[39mremainder,   \u001b[38;5;28;01mlambda\u001b[39;00m ans, x, y : unbroadcast_f(x, \u001b[38;5;28;01mlambda\u001b[39;00m g: g),\n\u001b[1;32m     57\u001b[0m                         \u001b[38;5;28;01mlambda\u001b[39;00m ans, x, y : unbroadcast_f(y, \u001b[38;5;28;01mlambda\u001b[39;00m g: \u001b[38;5;241m-\u001b[39mg \u001b[38;5;241m*\u001b[39m anp\u001b[38;5;241m.\u001b[39mfloor(x\u001b[38;5;241m/\u001b[39my)))\n",
      "File \u001b[0;32m/usr/local/lib/python3.8/site-packages/autograd/numpy/numpy_vjps.py:659\u001b[0m, in \u001b[0;36munbroadcast_f\u001b[0;34m(target, f)\u001b[0m\n\u001b[1;32m    658\u001b[0m \u001b[38;5;28;01mdef\u001b[39;00m \u001b[38;5;21munbroadcast_f\u001b[39m(target, f):\n\u001b[0;32m--> 659\u001b[0m     target_meta \u001b[38;5;241m=\u001b[39m \u001b[43manp\u001b[49m\u001b[38;5;241;43m.\u001b[39;49m\u001b[43mmetadata\u001b[49m\u001b[43m(\u001b[49m\u001b[43mtarget\u001b[49m\u001b[43m)\u001b[49m\n\u001b[1;32m    660\u001b[0m     \u001b[38;5;28;01mreturn\u001b[39;00m \u001b[38;5;28;01mlambda\u001b[39;00m g: unbroadcast(f(g), target_meta)\n",
      "File \u001b[0;32m/usr/local/lib/python3.8/site-packages/autograd/tracer.py:61\u001b[0m, in \u001b[0;36mnotrace_primitive.<locals>.f_wrapped\u001b[0;34m(*args, **kwargs)\u001b[0m\n\u001b[1;32m     58\u001b[0m \u001b[38;5;129m@wraps\u001b[39m(f_raw)\n\u001b[1;32m     59\u001b[0m \u001b[38;5;28;01mdef\u001b[39;00m \u001b[38;5;21mf_wrapped\u001b[39m(\u001b[38;5;241m*\u001b[39margs, \u001b[38;5;241m*\u001b[39m\u001b[38;5;241m*\u001b[39mkwargs):\n\u001b[1;32m     60\u001b[0m     argvals \u001b[38;5;241m=\u001b[39m \u001b[38;5;28mmap\u001b[39m(getval, args)\n\u001b[0;32m---> 61\u001b[0m     \u001b[38;5;28;01mreturn\u001b[39;00m \u001b[43mf_raw\u001b[49m\u001b[43m(\u001b[49m\u001b[38;5;241;43m*\u001b[39;49m\u001b[43margvals\u001b[49m\u001b[43m,\u001b[49m\u001b[43m \u001b[49m\u001b[38;5;241;43m*\u001b[39;49m\u001b[38;5;241;43m*\u001b[39;49m\u001b[43mkwargs\u001b[49m\u001b[43m)\u001b[49m\n",
      "File \u001b[0;32m/usr/local/lib/python3.8/site-packages/autograd/tracer.py:124\u001b[0m, in \u001b[0;36m<lambda>\u001b[0;34m(x)\u001b[0m\n\u001b[1;32m    122\u001b[0m box_types \u001b[38;5;241m=\u001b[39m Box\u001b[38;5;241m.\u001b[39mtypes\n\u001b[1;32m    123\u001b[0m isbox  \u001b[38;5;241m=\u001b[39m \u001b[38;5;28;01mlambda\u001b[39;00m x: \u001b[38;5;28mtype\u001b[39m(x) \u001b[38;5;129;01min\u001b[39;00m box_types  \u001b[38;5;66;03m# almost 3X faster than isinstance(x, Box)\u001b[39;00m\n\u001b[0;32m--> 124\u001b[0m getval \u001b[38;5;241m=\u001b[39m \u001b[38;5;28;01mlambda\u001b[39;00m x: getval(x\u001b[38;5;241m.\u001b[39m_value) \u001b[38;5;28;01mif\u001b[39;00m isbox(x) \u001b[38;5;28;01melse\u001b[39;00m x\n",
      "\u001b[0;31mKeyboardInterrupt\u001b[0m: "
     ]
    }
   ],
   "source": [
    "for i in range(40):\n",
    "    opt.generation += 1\n",
    "    opt.selection()\n",
    "    opt.crossover()\n",
    "    \n",
    "    for i in range(4):\n",
    "        if random.random() < 0.7:\n",
    "            opt.mutate()\n",
    "    \n",
    "    opt.train_offsprings()\n",
    "    draw_and_save_offsprings()\n",
    "    opt.add_offsprings()\n",
    "    plot_distribution()\n",
    "    plot_fitnesses()\n",
    "    plot_losses()\n",
    "    draw_circuits()\n",
    "    opt.print_info()"
   ]
  },
  {
   "cell_type": "code",
   "execution_count": null,
   "id": "473e795a-c7bd-4b86-aab9-66e46a1e1e4b",
   "metadata": {},
   "outputs": [],
   "source": []
  },
  {
   "cell_type": "code",
   "execution_count": null,
   "id": "f78469d1-9a08-4feb-b8b7-0240ae9490a2",
   "metadata": {},
   "outputs": [],
   "source": []
  }
 ],
 "metadata": {
  "kernelspec": {
   "display_name": "Python 3 (ipykernel)",
   "language": "python",
   "name": "python3"
  },
  "language_info": {
   "codemirror_mode": {
    "name": "ipython",
    "version": 3
   },
   "file_extension": ".py",
   "mimetype": "text/x-python",
   "name": "python",
   "nbconvert_exporter": "python",
   "pygments_lexer": "ipython3",
   "version": "3.8.8"
  }
 },
 "nbformat": 4,
 "nbformat_minor": 5
}
