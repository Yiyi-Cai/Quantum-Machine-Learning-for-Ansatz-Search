{
 "cells": [
  {
   "cell_type": "code",
   "execution_count": null,
   "id": "fc421627-4597-453e-8ea5-5526b980e417",
   "metadata": {},
   "outputs": [
    {
     "name": "stdout",
     "output_type": "stream",
     "text": [
      "Execution time multiprocessing 151.0941514968872\n",
      "Generation: 0 Fittest: 0.9268505056273466\n"
     ]
    }
   ],
   "source": [
    "from usage import *"
   ]
  },
  {
   "cell_type": "code",
   "execution_count": null,
   "id": "9bbcd3d7-e40f-4b92-ae22-ff2e416f91c9",
   "metadata": {},
   "outputs": [],
   "source": []
  }
 ],
 "metadata": {
  "kernelspec": {
   "display_name": "Python 3 (ipykernel)",
   "language": "python",
   "name": "python3"
  },
  "language_info": {
   "codemirror_mode": {
    "name": "ipython",
    "version": 3
   },
   "file_extension": ".py",
   "mimetype": "text/x-python",
   "name": "python",
   "nbconvert_exporter": "python",
   "pygments_lexer": "ipython3",
   "version": "3.8.8"
  }
 },
 "nbformat": 4,
 "nbformat_minor": 5
}
